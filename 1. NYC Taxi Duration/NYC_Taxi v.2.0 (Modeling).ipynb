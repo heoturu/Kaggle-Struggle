{
 "cells": [
  {
   "cell_type": "markdown",
   "metadata": {
    "collapsed": true
   },
   "source": [
    "Don't be afraid, for I am with you. Don't be discouraged, for I am your God.  \n",
    "I will strengthen you and help you  \n",
    "I will hold you up with my victorious right hand."
   ]
  },
  {
   "cell_type": "markdown",
   "metadata": {},
   "source": [
    "# Kaggle : New York City Taxi Trip Duration"
   ]
  },
  {
   "cell_type": "code",
   "execution_count": 1,
   "metadata": {
    "scrolled": true
   },
   "outputs": [
    {
     "name": "stderr",
     "output_type": "stream",
     "text": [
      "/usr/local/lib/python3.6/site-packages/sklearn/cross_validation.py:41: DeprecationWarning: This module was deprecated in version 0.18 in favor of the model_selection module into which all the refactored classes and functions are moved. Also note that the interface of the new CV iterators are different from that of this module. This module will be removed in 0.20.\n",
      "  \"This module will be removed in 0.20.\", DeprecationWarning)\n"
     ]
    }
   ],
   "source": [
    "# Display\n",
    "from IPython.display import display \n",
    "pd.options.display.max_columns = None\n",
    "pd.options.display.max_rows = None\n",
    "\n",
    "# Modeling\n",
    "from sklearn.model_selection import KFold\n",
    "from sklearn.linear_model import LinearRegression, Ridge, Lasso, ElasticNet\n",
    "from sklearn import cross_validation, tree, linear_model\n",
    "from sklearn.model_selection import train_test_split, cross_val_score\n",
    "from sklearn.metrics import explained_variance_score\n",
    "from statsmodels.stats.outliers_influence import variance_inflation_factor\n",
    "from patsy import dmatrix, dmatrices"
   ]
  },
  {
   "cell_type": "code",
   "execution_count": null,
   "metadata": {},
   "outputs": [],
   "source": []
  },
  {
   "cell_type": "markdown",
   "metadata": {},
   "source": [
    "## 1. Preprocessing for Modeling"
   ]
  },
  {
   "cell_type": "markdown",
   "metadata": {},
   "source": [
    "### 1.1 Data Load"
   ]
  },
  {
   "cell_type": "code",
   "execution_count": 3,
   "metadata": {
    "scrolled": false
   },
   "outputs": [
    {
     "data": {
      "text/html": [
       "<div>\n",
       "<style scoped>\n",
       "    .dataframe tbody tr th:only-of-type {\n",
       "        vertical-align: middle;\n",
       "    }\n",
       "\n",
       "    .dataframe tbody tr th {\n",
       "        vertical-align: top;\n",
       "    }\n",
       "\n",
       "    .dataframe thead th {\n",
       "        text-align: right;\n",
       "    }\n",
       "</style>\n",
       "<table border=\"1\" class=\"dataframe\">\n",
       "  <thead>\n",
       "    <tr style=\"text-align: right;\">\n",
       "      <th></th>\n",
       "      <th>id</th>\n",
       "      <th>vendor_id</th>\n",
       "      <th>pickup_datetime</th>\n",
       "      <th>dropoff_datetime</th>\n",
       "      <th>passenger_count</th>\n",
       "      <th>pickup_longitude</th>\n",
       "      <th>pickup_latitude</th>\n",
       "      <th>dropoff_longitude</th>\n",
       "      <th>dropoff_latitude</th>\n",
       "      <th>store_and_fwd_flag</th>\n",
       "      <th>trip_duration</th>\n",
       "      <th>log_trip_duration</th>\n",
       "      <th>pickup_date</th>\n",
       "      <th>pickup_month</th>\n",
       "      <th>pickup_day</th>\n",
       "      <th>pickup_weekday</th>\n",
       "      <th>pickup_hour</th>\n",
       "      <th>pickup_weekofyear</th>\n",
       "      <th>pickup_dayofyear</th>\n",
       "      <th>harsh_weather</th>\n",
       "      <th>distance</th>\n",
       "      <th>number_of_steps</th>\n",
       "      <th>pickup_cluster</th>\n",
       "      <th>dropoff_cluster</th>\n",
       "      <th>avg_speed_h</th>\n",
       "      <th>speed(km/h)</th>\n",
       "      <th>work_hour</th>\n",
       "      <th>bearing</th>\n",
       "    </tr>\n",
       "  </thead>\n",
       "  <tbody>\n",
       "    <tr>\n",
       "      <th>0</th>\n",
       "      <td>id2875421</td>\n",
       "      <td>2</td>\n",
       "      <td>2016-03-14 17:24:55</td>\n",
       "      <td>2016-03-14 17:32:30</td>\n",
       "      <td>1</td>\n",
       "      <td>-73.982155</td>\n",
       "      <td>40.767937</td>\n",
       "      <td>-73.964630</td>\n",
       "      <td>40.765602</td>\n",
       "      <td>N</td>\n",
       "      <td>455</td>\n",
       "      <td>6.122493</td>\n",
       "      <td>2016-03-14</td>\n",
       "      <td>3</td>\n",
       "      <td>14</td>\n",
       "      <td>0</td>\n",
       "      <td>17</td>\n",
       "      <td>11</td>\n",
       "      <td>74</td>\n",
       "      <td>False</td>\n",
       "      <td>1.498521</td>\n",
       "      <td>5.0</td>\n",
       "      <td>Upper West Side</td>\n",
       "      <td>Uppe East Side</td>\n",
       "      <td>9.745591</td>\n",
       "      <td>11.856428</td>\n",
       "      <td>work</td>\n",
       "      <td>174.333195</td>\n",
       "    </tr>\n",
       "    <tr>\n",
       "      <th>1</th>\n",
       "      <td>id2377394</td>\n",
       "      <td>1</td>\n",
       "      <td>2016-06-12 00:43:35</td>\n",
       "      <td>2016-06-12 00:54:38</td>\n",
       "      <td>1</td>\n",
       "      <td>-73.980415</td>\n",
       "      <td>40.738564</td>\n",
       "      <td>-73.999481</td>\n",
       "      <td>40.731152</td>\n",
       "      <td>N</td>\n",
       "      <td>663</td>\n",
       "      <td>6.498282</td>\n",
       "      <td>2016-06-12</td>\n",
       "      <td>6</td>\n",
       "      <td>12</td>\n",
       "      <td>6</td>\n",
       "      <td>0</td>\n",
       "      <td>23</td>\n",
       "      <td>164</td>\n",
       "      <td>False</td>\n",
       "      <td>1.805507</td>\n",
       "      <td>6.0</td>\n",
       "      <td>Queens</td>\n",
       "      <td>Morningside height</td>\n",
       "      <td>12.542891</td>\n",
       "      <td>9.803659</td>\n",
       "      <td>before_work</td>\n",
       "      <td>-178.051506</td>\n",
       "    </tr>\n",
       "    <tr>\n",
       "      <th>2</th>\n",
       "      <td>id3858529</td>\n",
       "      <td>2</td>\n",
       "      <td>2016-01-19 11:35:24</td>\n",
       "      <td>2016-01-19 12:10:48</td>\n",
       "      <td>1</td>\n",
       "      <td>-73.979027</td>\n",
       "      <td>40.763939</td>\n",
       "      <td>-74.005333</td>\n",
       "      <td>40.710087</td>\n",
       "      <td>N</td>\n",
       "      <td>2124</td>\n",
       "      <td>7.661527</td>\n",
       "      <td>2016-01-19</td>\n",
       "      <td>1</td>\n",
       "      <td>19</td>\n",
       "      <td>1</td>\n",
       "      <td>11</td>\n",
       "      <td>3</td>\n",
       "      <td>19</td>\n",
       "      <td>False</td>\n",
       "      <td>6.385098</td>\n",
       "      <td>16.0</td>\n",
       "      <td>Upper West Side</td>\n",
       "      <td>Harlem</td>\n",
       "      <td>16.602190</td>\n",
       "      <td>10.822201</td>\n",
       "      <td>work</td>\n",
       "      <td>-179.629721</td>\n",
       "    </tr>\n",
       "    <tr>\n",
       "      <th>3</th>\n",
       "      <td>id3504673</td>\n",
       "      <td>2</td>\n",
       "      <td>2016-04-06 19:32:31</td>\n",
       "      <td>2016-04-06 19:39:40</td>\n",
       "      <td>1</td>\n",
       "      <td>-74.010040</td>\n",
       "      <td>40.719971</td>\n",
       "      <td>-74.012268</td>\n",
       "      <td>40.706718</td>\n",
       "      <td>N</td>\n",
       "      <td>429</td>\n",
       "      <td>6.063785</td>\n",
       "      <td>2016-04-06</td>\n",
       "      <td>4</td>\n",
       "      <td>6</td>\n",
       "      <td>2</td>\n",
       "      <td>19</td>\n",
       "      <td>14</td>\n",
       "      <td>97</td>\n",
       "      <td>False</td>\n",
       "      <td>1.485498</td>\n",
       "      <td>4.0</td>\n",
       "      <td>Harlem</td>\n",
       "      <td>Harlem</td>\n",
       "      <td>9.951657</td>\n",
       "      <td>12.465721</td>\n",
       "      <td>after_work</td>\n",
       "      <td>-179.872566</td>\n",
       "    </tr>\n",
       "    <tr>\n",
       "      <th>4</th>\n",
       "      <td>id2181028</td>\n",
       "      <td>2</td>\n",
       "      <td>2016-03-26 13:30:55</td>\n",
       "      <td>2016-03-26 13:38:10</td>\n",
       "      <td>1</td>\n",
       "      <td>-73.973053</td>\n",
       "      <td>40.793209</td>\n",
       "      <td>-73.972923</td>\n",
       "      <td>40.782520</td>\n",
       "      <td>N</td>\n",
       "      <td>435</td>\n",
       "      <td>6.077642</td>\n",
       "      <td>2016-03-26</td>\n",
       "      <td>3</td>\n",
       "      <td>26</td>\n",
       "      <td>5</td>\n",
       "      <td>13</td>\n",
       "      <td>12</td>\n",
       "      <td>86</td>\n",
       "      <td>False</td>\n",
       "      <td>1.188588</td>\n",
       "      <td>5.0</td>\n",
       "      <td>LaGuardia</td>\n",
       "      <td>LaGuardia</td>\n",
       "      <td>15.176490</td>\n",
       "      <td>9.836594</td>\n",
       "      <td>work</td>\n",
       "      <td>179.990812</td>\n",
       "    </tr>\n",
       "  </tbody>\n",
       "</table>\n",
       "</div>"
      ],
      "text/plain": [
       "          id  vendor_id      pickup_datetime     dropoff_datetime  \\\n",
       "0  id2875421          2  2016-03-14 17:24:55  2016-03-14 17:32:30   \n",
       "1  id2377394          1  2016-06-12 00:43:35  2016-06-12 00:54:38   \n",
       "2  id3858529          2  2016-01-19 11:35:24  2016-01-19 12:10:48   \n",
       "3  id3504673          2  2016-04-06 19:32:31  2016-04-06 19:39:40   \n",
       "4  id2181028          2  2016-03-26 13:30:55  2016-03-26 13:38:10   \n",
       "\n",
       "   passenger_count  pickup_longitude  pickup_latitude  dropoff_longitude  \\\n",
       "0                1        -73.982155        40.767937         -73.964630   \n",
       "1                1        -73.980415        40.738564         -73.999481   \n",
       "2                1        -73.979027        40.763939         -74.005333   \n",
       "3                1        -74.010040        40.719971         -74.012268   \n",
       "4                1        -73.973053        40.793209         -73.972923   \n",
       "\n",
       "   dropoff_latitude store_and_fwd_flag  trip_duration  log_trip_duration  \\\n",
       "0         40.765602                  N            455           6.122493   \n",
       "1         40.731152                  N            663           6.498282   \n",
       "2         40.710087                  N           2124           7.661527   \n",
       "3         40.706718                  N            429           6.063785   \n",
       "4         40.782520                  N            435           6.077642   \n",
       "\n",
       "  pickup_date  pickup_month  pickup_day  pickup_weekday  pickup_hour  \\\n",
       "0  2016-03-14             3          14               0           17   \n",
       "1  2016-06-12             6          12               6            0   \n",
       "2  2016-01-19             1          19               1           11   \n",
       "3  2016-04-06             4           6               2           19   \n",
       "4  2016-03-26             3          26               5           13   \n",
       "\n",
       "   pickup_weekofyear  pickup_dayofyear  harsh_weather  distance  \\\n",
       "0                 11                74          False  1.498521   \n",
       "1                 23               164          False  1.805507   \n",
       "2                  3                19          False  6.385098   \n",
       "3                 14                97          False  1.485498   \n",
       "4                 12                86          False  1.188588   \n",
       "\n",
       "   number_of_steps   pickup_cluster     dropoff_cluster  avg_speed_h  \\\n",
       "0              5.0  Upper West Side      Uppe East Side     9.745591   \n",
       "1              6.0           Queens  Morningside height    12.542891   \n",
       "2             16.0  Upper West Side              Harlem    16.602190   \n",
       "3              4.0           Harlem              Harlem     9.951657   \n",
       "4              5.0        LaGuardia           LaGuardia    15.176490   \n",
       "\n",
       "   speed(km/h)    work_hour     bearing  \n",
       "0    11.856428         work  174.333195  \n",
       "1     9.803659  before_work -178.051506  \n",
       "2    10.822201         work -179.629721  \n",
       "3    12.465721   after_work -179.872566  \n",
       "4     9.836594         work  179.990812  "
      ]
     },
     "execution_count": 3,
     "metadata": {},
     "output_type": "execute_result"
    }
   ],
   "source": [
    "train = pd.read_csv(\"train_new.csv\")\n",
    "test = pd.read_csv(\"test_new.csv\")\n",
    "train = train.drop(columns=['Unnamed: 0'])\n",
    "train.head()"
   ]
  },
  {
   "cell_type": "code",
   "execution_count": 4,
   "metadata": {},
   "outputs": [
    {
     "data": {
      "text/html": [
       "<div>\n",
       "<style scoped>\n",
       "    .dataframe tbody tr th:only-of-type {\n",
       "        vertical-align: middle;\n",
       "    }\n",
       "\n",
       "    .dataframe tbody tr th {\n",
       "        vertical-align: top;\n",
       "    }\n",
       "\n",
       "    .dataframe thead th {\n",
       "        text-align: right;\n",
       "    }\n",
       "</style>\n",
       "<table border=\"1\" class=\"dataframe\">\n",
       "  <thead>\n",
       "    <tr style=\"text-align: right;\">\n",
       "      <th></th>\n",
       "      <th>id</th>\n",
       "      <th>vendor_id</th>\n",
       "      <th>pickup_datetime</th>\n",
       "      <th>passenger_count</th>\n",
       "      <th>pickup_longitude</th>\n",
       "      <th>pickup_latitude</th>\n",
       "      <th>dropoff_longitude</th>\n",
       "      <th>dropoff_latitude</th>\n",
       "      <th>store_and_fwd_flag</th>\n",
       "      <th>pickup_date</th>\n",
       "      <th>pickup_month</th>\n",
       "      <th>pickup_day</th>\n",
       "      <th>pickup_weekday</th>\n",
       "      <th>pickup_hour</th>\n",
       "      <th>pickup_weekofyear</th>\n",
       "      <th>pickup_dayofyear</th>\n",
       "      <th>harsh_weather</th>\n",
       "      <th>distance</th>\n",
       "      <th>number_of_steps</th>\n",
       "      <th>pickup_cluster</th>\n",
       "      <th>dropoff_cluster</th>\n",
       "      <th>avg_speed_h</th>\n",
       "      <th>work_hour</th>\n",
       "      <th>bearing</th>\n",
       "    </tr>\n",
       "  </thead>\n",
       "  <tbody>\n",
       "    <tr>\n",
       "      <th>625129</th>\n",
       "      <td>id3008929</td>\n",
       "      <td>1</td>\n",
       "      <td>2016-01-01 00:02:52</td>\n",
       "      <td>1</td>\n",
       "      <td>-74.003464</td>\n",
       "      <td>40.725105</td>\n",
       "      <td>-74.001251</td>\n",
       "      <td>40.733643</td>\n",
       "      <td>N</td>\n",
       "      <td>2016-01-01</td>\n",
       "      <td>1</td>\n",
       "      <td>1</td>\n",
       "      <td>4</td>\n",
       "      <td>0</td>\n",
       "      <td>53</td>\n",
       "      <td>1</td>\n",
       "      <td>False</td>\n",
       "      <td>0.967438</td>\n",
       "      <td>7</td>\n",
       "      <td>Harlem</td>\n",
       "      <td>Morningside height</td>\n",
       "      <td>16.043166</td>\n",
       "      <td>before_work</td>\n",
       "      <td>0.196378</td>\n",
       "    </tr>\n",
       "    <tr>\n",
       "      <th>625130</th>\n",
       "      <td>id3700764</td>\n",
       "      <td>1</td>\n",
       "      <td>2016-01-01 00:01:52</td>\n",
       "      <td>1</td>\n",
       "      <td>-74.006363</td>\n",
       "      <td>40.743782</td>\n",
       "      <td>-73.953407</td>\n",
       "      <td>40.782467</td>\n",
       "      <td>N</td>\n",
       "      <td>2016-01-01</td>\n",
       "      <td>1</td>\n",
       "      <td>1</td>\n",
       "      <td>4</td>\n",
       "      <td>0</td>\n",
       "      <td>53</td>\n",
       "      <td>1</td>\n",
       "      <td>False</td>\n",
       "      <td>6.196343</td>\n",
       "      <td>10</td>\n",
       "      <td>Morningside height</td>\n",
       "      <td>Chelsea</td>\n",
       "      <td>15.869267</td>\n",
       "      <td>before_work</td>\n",
       "      <td>1.036410</td>\n",
       "    </tr>\n",
       "    <tr>\n",
       "      <th>625131</th>\n",
       "      <td>id2568735</td>\n",
       "      <td>1</td>\n",
       "      <td>2016-01-01 00:01:24</td>\n",
       "      <td>2</td>\n",
       "      <td>-73.972267</td>\n",
       "      <td>40.759865</td>\n",
       "      <td>-73.876602</td>\n",
       "      <td>40.748665</td>\n",
       "      <td>N</td>\n",
       "      <td>2016-01-01</td>\n",
       "      <td>1</td>\n",
       "      <td>1</td>\n",
       "      <td>4</td>\n",
       "      <td>0</td>\n",
       "      <td>53</td>\n",
       "      <td>1</td>\n",
       "      <td>False</td>\n",
       "      <td>8.153719</td>\n",
       "      <td>13</td>\n",
       "      <td>Uppe East Side</td>\n",
       "      <td>East Harlem</td>\n",
       "      <td>22.344934</td>\n",
       "      <td>before_work</td>\n",
       "      <td>173.556385</td>\n",
       "    </tr>\n",
       "    <tr>\n",
       "      <th>625132</th>\n",
       "      <td>id1384355</td>\n",
       "      <td>1</td>\n",
       "      <td>2016-01-01 00:00:28</td>\n",
       "      <td>1</td>\n",
       "      <td>-73.976501</td>\n",
       "      <td>40.733562</td>\n",
       "      <td>-73.854263</td>\n",
       "      <td>40.891788</td>\n",
       "      <td>N</td>\n",
       "      <td>2016-01-01</td>\n",
       "      <td>1</td>\n",
       "      <td>1</td>\n",
       "      <td>4</td>\n",
       "      <td>0</td>\n",
       "      <td>53</td>\n",
       "      <td>1</td>\n",
       "      <td>False</td>\n",
       "      <td>20.380748</td>\n",
       "      <td>21</td>\n",
       "      <td>Midtown</td>\n",
       "      <td>East Harlem</td>\n",
       "      <td>27.525523</td>\n",
       "      <td>before_work</td>\n",
       "      <td>0.583991</td>\n",
       "    </tr>\n",
       "    <tr>\n",
       "      <th>625133</th>\n",
       "      <td>id0621643</td>\n",
       "      <td>2</td>\n",
       "      <td>2016-01-01 00:00:22</td>\n",
       "      <td>2</td>\n",
       "      <td>-73.981850</td>\n",
       "      <td>40.716881</td>\n",
       "      <td>-73.969330</td>\n",
       "      <td>40.769379</td>\n",
       "      <td>N</td>\n",
       "      <td>2016-01-01</td>\n",
       "      <td>1</td>\n",
       "      <td>1</td>\n",
       "      <td>4</td>\n",
       "      <td>0</td>\n",
       "      <td>53</td>\n",
       "      <td>1</td>\n",
       "      <td>False</td>\n",
       "      <td>5.932019</td>\n",
       "      <td>13</td>\n",
       "      <td>Midtown</td>\n",
       "      <td>Uppe East Side</td>\n",
       "      <td>16.179168</td>\n",
       "      <td>before_work</td>\n",
       "      <td>0.180613</td>\n",
       "    </tr>\n",
       "  </tbody>\n",
       "</table>\n",
       "</div>"
      ],
      "text/plain": [
       "               id  vendor_id      pickup_datetime  passenger_count  \\\n",
       "625129  id3008929          1  2016-01-01 00:02:52                1   \n",
       "625130  id3700764          1  2016-01-01 00:01:52                1   \n",
       "625131  id2568735          1  2016-01-01 00:01:24                2   \n",
       "625132  id1384355          1  2016-01-01 00:00:28                1   \n",
       "625133  id0621643          2  2016-01-01 00:00:22                2   \n",
       "\n",
       "        pickup_longitude  pickup_latitude  dropoff_longitude  \\\n",
       "625129        -74.003464        40.725105         -74.001251   \n",
       "625130        -74.006363        40.743782         -73.953407   \n",
       "625131        -73.972267        40.759865         -73.876602   \n",
       "625132        -73.976501        40.733562         -73.854263   \n",
       "625133        -73.981850        40.716881         -73.969330   \n",
       "\n",
       "        dropoff_latitude store_and_fwd_flag pickup_date  pickup_month  \\\n",
       "625129         40.733643                  N  2016-01-01             1   \n",
       "625130         40.782467                  N  2016-01-01             1   \n",
       "625131         40.748665                  N  2016-01-01             1   \n",
       "625132         40.891788                  N  2016-01-01             1   \n",
       "625133         40.769379                  N  2016-01-01             1   \n",
       "\n",
       "        pickup_day  pickup_weekday  pickup_hour  pickup_weekofyear  \\\n",
       "625129           1               4            0                 53   \n",
       "625130           1               4            0                 53   \n",
       "625131           1               4            0                 53   \n",
       "625132           1               4            0                 53   \n",
       "625133           1               4            0                 53   \n",
       "\n",
       "        pickup_dayofyear  harsh_weather   distance  number_of_steps  \\\n",
       "625129                 1          False   0.967438                7   \n",
       "625130                 1          False   6.196343               10   \n",
       "625131                 1          False   8.153719               13   \n",
       "625132                 1          False  20.380748               21   \n",
       "625133                 1          False   5.932019               13   \n",
       "\n",
       "            pickup_cluster     dropoff_cluster  avg_speed_h    work_hour  \\\n",
       "625129              Harlem  Morningside height    16.043166  before_work   \n",
       "625130  Morningside height             Chelsea    15.869267  before_work   \n",
       "625131      Uppe East Side         East Harlem    22.344934  before_work   \n",
       "625132             Midtown         East Harlem    27.525523  before_work   \n",
       "625133             Midtown      Uppe East Side    16.179168  before_work   \n",
       "\n",
       "           bearing  \n",
       "625129    0.196378  \n",
       "625130    1.036410  \n",
       "625131  173.556385  \n",
       "625132    0.583991  \n",
       "625133    0.180613  "
      ]
     },
     "execution_count": 4,
     "metadata": {},
     "output_type": "execute_result"
    }
   ],
   "source": [
    "test = test.drop(columns=['Unnamed: 0.1'])\n",
    "test = test.drop(columns=['Unnamed: 0'])\n",
    "test = test.drop(columns=['Unnamed: 0.1.1'])\n",
    "test.tail()"
   ]
  },
  {
   "cell_type": "code",
   "execution_count": 18,
   "metadata": {
    "scrolled": true
   },
   "outputs": [
    {
     "name": "stdout",
     "output_type": "stream",
     "text": [
      "<class 'pandas.core.frame.DataFrame'>\n",
      "RangeIndex: 1437261 entries, 0 to 1437260\n",
      "Data columns (total 28 columns):\n",
      "id                    1437261 non-null object\n",
      "vendor_id             1437261 non-null int64\n",
      "pickup_datetime       1437261 non-null object\n",
      "dropoff_datetime      1437261 non-null object\n",
      "passenger_count       1437261 non-null int64\n",
      "pickup_longitude      1437261 non-null float64\n",
      "pickup_latitude       1437261 non-null float64\n",
      "dropoff_longitude     1437261 non-null float64\n",
      "dropoff_latitude      1437261 non-null float64\n",
      "store_and_fwd_flag    1437261 non-null object\n",
      "trip_duration         1437261 non-null int64\n",
      "log_trip_duration     1437261 non-null float64\n",
      "pickup_date           1437261 non-null object\n",
      "pickup_month          1437261 non-null int64\n",
      "pickup_day            1437261 non-null int64\n",
      "pickup_weekday        1437261 non-null int64\n",
      "pickup_hour           1437261 non-null int64\n",
      "pickup_weekofyear     1437261 non-null int64\n",
      "pickup_dayofyear      1437261 non-null int64\n",
      "harsh_weather         1437261 non-null bool\n",
      "distance              1437261 non-null float64\n",
      "number_of_steps       1437260 non-null float64\n",
      "pickup_cluster        1437261 non-null object\n",
      "dropoff_cluster       1437261 non-null object\n",
      "avg_speed_h           1437261 non-null float64\n",
      "speed(km/h)           1437261 non-null float64\n",
      "work_hour             1437261 non-null object\n",
      "bearing               1437261 non-null float64\n",
      "dtypes: bool(1), float64(10), int64(9), object(8)\n",
      "memory usage: 297.4+ MB\n"
     ]
    }
   ],
   "source": [
    "train.info()"
   ]
  },
  {
   "cell_type": "markdown",
   "metadata": {},
   "source": [
    "### 1.2 Evaluation metrics"
   ]
  },
  {
   "cell_type": "code",
   "execution_count": 5,
   "metadata": {},
   "outputs": [],
   "source": [
    "from sklearn.metrics import make_scorer\n",
    "\n",
    "def rmsle(predicted_values, actual_values):\n",
    "    predicted_values = np.array(predicted_values)\n",
    "    actual_values = np.array(actual_values)\n",
    "    \n",
    "    log_predict = np.log(predicted_values + 1)\n",
    "    log_actual = np.log(actual_values + 1)\n",
    "    \n",
    "    difference = log_predict - log_actual\n",
    "    difference = np.square(difference)\n",
    "    \n",
    "    mean_difference = difference.mean()\n",
    "    \n",
    "    score = np.sqrt(mean_difference)\n",
    "    \n",
    "    return score\n",
    "\n",
    "rmsle_scorer = make_scorer(rmsle)"
   ]
  },
  {
   "cell_type": "code",
   "execution_count": null,
   "metadata": {},
   "outputs": [],
   "source": []
  },
  {
   "cell_type": "markdown",
   "metadata": {},
   "source": [
    "## 2. Modeling"
   ]
  },
  {
   "cell_type": "markdown",
   "metadata": {},
   "source": [
    "### 2.1 Rough Model"
   ]
  },
  {
   "cell_type": "code",
   "execution_count": 6,
   "metadata": {},
   "outputs": [
    {
     "name": "stdout",
     "output_type": "stream",
     "text": [
      "                            OLS Regression Results                            \n",
      "==============================================================================\n",
      "Dep. Variable:      log_trip_duration   R-squared:                       0.696\n",
      "Model:                            OLS   Adj. R-squared:                  0.696\n",
      "Method:                 Least Squares   F-statistic:                 4.763e+04\n",
      "Date:                Sat, 05 May 2018   Prob (F-statistic):               0.00\n",
      "Time:                        23:46:10   Log-Likelihood:            -8.0433e+05\n",
      "No. Observations:             1437260   AIC:                         1.609e+06\n",
      "Df Residuals:                 1437190   BIC:                         1.610e+06\n",
      "Df Model:                          69                                         \n",
      "Covariance Type:            nonrobust                                         \n",
      "================================================================================================================\n",
      "                                                   coef    std err          t      P>|t|      [0.025      0.975]\n",
      "----------------------------------------------------------------------------------------------------------------\n",
      "C(harsh_weather)[False]                       6.018e+07   1.96e+08      0.308      0.758   -3.23e+08    4.43e+08\n",
      "C(harsh_weather)[True]                        6.018e+07   1.96e+08      0.308      0.758   -3.23e+08    4.43e+08\n",
      "C(pickup_cluster)[T.Brooklyn-Williamsburgt]      0.1801      0.016     11.529      0.000       0.149       0.211\n",
      "C(pickup_cluster)[T.Chelsea]                    -0.0180      0.003     -5.163      0.000      -0.025      -0.011\n",
      "C(pickup_cluster)[T.East Harlem]                -0.1764      0.007    -25.569      0.000      -0.190      -0.163\n",
      "C(pickup_cluster)[T.Gramercy]                    0.0046      0.006      0.750      0.453      -0.007       0.017\n",
      "C(pickup_cluster)[T.Harlem]                     -0.1121      0.007    -16.425      0.000      -0.125      -0.099\n",
      "C(pickup_cluster)[T.JFK]                        -0.0081      0.009     -0.948      0.343      -0.025       0.009\n",
      "C(pickup_cluster)[T.LaGuardia]                  -0.0617      0.004    -17.476      0.000      -0.069      -0.055\n",
      "C(pickup_cluster)[T.Midtown]                     0.0060      0.006      1.042      0.298      -0.005       0.017\n",
      "C(pickup_cluster)[T.Morningside height]         -0.0408      0.006     -7.287      0.000      -0.052      -0.030\n",
      "C(pickup_cluster)[T.Queens]                     -0.0227      0.005     -4.636      0.000      -0.032      -0.013\n",
      "C(pickup_cluster)[T.Queens-Astoria]              0.0919      0.008     11.932      0.000       0.077       0.107\n",
      "C(pickup_cluster)[T.Soho]                       -0.1866      0.016    -11.863      0.000      -0.217      -0.156\n",
      "C(pickup_cluster)[T.Uppe East Side]             -0.0032      0.004     -0.772      0.440      -0.011       0.005\n",
      "C(pickup_cluster)[T.Upper West Side]            -0.0137      0.004     -3.187      0.001      -0.022      -0.005\n",
      "C(dropoff_cluster)[T.Brooklyn-Williamsburgt]     0.2718      0.009     31.157      0.000       0.255       0.289\n",
      "C(dropoff_cluster)[T.Chelsea]                   -0.0766      0.003    -27.917      0.000      -0.082      -0.071\n",
      "C(dropoff_cluster)[T.East Harlem]                0.0256      0.005      4.731      0.000       0.015       0.036\n",
      "C(dropoff_cluster)[T.Gramercy]                   0.0510      0.004     11.478      0.000       0.042       0.060\n",
      "C(dropoff_cluster)[T.Harlem]                    -0.2631      0.006    -46.909      0.000      -0.274      -0.252\n",
      "C(dropoff_cluster)[T.JFK]                       -0.2624      0.007    -39.031      0.000      -0.276      -0.249\n",
      "C(dropoff_cluster)[T.LaGuardia]                 -0.1535      0.003    -53.199      0.000      -0.159      -0.148\n",
      "C(dropoff_cluster)[T.Midtown]                   -0.1484      0.005    -31.038      0.000      -0.158      -0.139\n",
      "C(dropoff_cluster)[T.Morningside height]        -0.1892      0.005    -40.675      0.000      -0.198      -0.180\n",
      "C(dropoff_cluster)[T.Queens]                    -0.0867      0.004    -21.244      0.000      -0.095      -0.079\n",
      "C(dropoff_cluster)[T.Queens-Astoria]            -0.0920      0.006    -16.210      0.000      -0.103      -0.081\n",
      "C(dropoff_cluster)[T.Soho]                       0.0526      0.012      4.520      0.000       0.030       0.075\n",
      "C(dropoff_cluster)[T.Uppe East Side]            -0.0472      0.003    -13.495      0.000      -0.054      -0.040\n",
      "C(dropoff_cluster)[T.Upper West Side]           -0.0667      0.004    -18.184      0.000      -0.074      -0.059\n",
      "C(work_hour)[T.before_work]                  -6.018e+07   1.96e+08     -0.308      0.758   -4.43e+08    3.23e+08\n",
      "C(work_hour)[T.work]                         -9.795e+07   3.18e+08     -0.308      0.758   -7.22e+08    5.26e+08\n",
      "C(pickup_weekday)[T.1]                           0.0897      0.001     65.584      0.000       0.087       0.092\n",
      "C(pickup_weekday)[T.2]                           0.1144      0.001     84.362      0.000       0.112       0.117\n",
      "C(pickup_weekday)[T.3]                           0.1209      0.001     89.809      0.000       0.118       0.124\n",
      "C(pickup_weekday)[T.4]                           0.1046      0.001     77.995      0.000       0.102       0.107\n",
      "C(pickup_weekday)[T.5]                           0.0117      0.001      8.597      0.000       0.009       0.014\n",
      "C(pickup_weekday)[T.6]                          -0.0791      0.001    -56.549      0.000      -0.082      -0.076\n",
      "C(pickup_hour)[T.1]                             -0.0423      0.003    -14.723      0.000      -0.048      -0.037\n",
      "C(pickup_hour)[T.2]                             -0.0840      0.003    -26.458      0.000      -0.090      -0.078\n",
      "C(pickup_hour)[T.3]                             -0.1205      0.004    -34.261      0.000      -0.127      -0.114\n",
      "C(pickup_hour)[T.4]                             -0.1819      0.004    -46.357      0.000      -0.190      -0.174\n",
      "C(pickup_hour)[T.5]                             -0.2963      0.004    -74.142      0.000      -0.304      -0.288\n",
      "C(pickup_hour)[T.6]                             -0.2073      0.003    -68.607      0.000      -0.213      -0.201\n",
      "C(pickup_hour)[T.7]                              0.0478      0.003     18.155      0.000       0.043       0.053\n",
      "C(pickup_hour)[T.8]                           3.777e+07   1.23e+08      0.308      0.758   -2.03e+08    2.78e+08\n",
      "C(pickup_hour)[T.9]                           3.777e+07   1.23e+08      0.308      0.758   -2.03e+08    2.78e+08\n",
      "C(pickup_hour)[T.10]                          3.777e+07   1.23e+08      0.308      0.758   -2.03e+08    2.78e+08\n",
      "C(pickup_hour)[T.11]                          3.777e+07   1.23e+08      0.308      0.758   -2.03e+08    2.78e+08\n",
      "C(pickup_hour)[T.12]                          3.777e+07   1.23e+08      0.308      0.758   -2.03e+08    2.78e+08\n",
      "C(pickup_hour)[T.13]                          3.777e+07   1.23e+08      0.308      0.758   -2.03e+08    2.78e+08\n",
      "C(pickup_hour)[T.14]                          3.777e+07   1.23e+08      0.308      0.758   -2.03e+08    2.78e+08\n",
      "C(pickup_hour)[T.15]                          3.777e+07   1.23e+08      0.308      0.758   -2.03e+08    2.78e+08\n",
      "C(pickup_hour)[T.16]                          3.777e+07   1.23e+08      0.308      0.758   -2.03e+08    2.78e+08\n",
      "C(pickup_hour)[T.17]                          3.777e+07   1.23e+08      0.308      0.758   -2.03e+08    2.78e+08\n",
      "C(pickup_hour)[T.18]                         -6.018e+07   1.96e+08     -0.308      0.758   -4.43e+08    3.23e+08\n",
      "C(pickup_hour)[T.19]                         -6.018e+07   1.96e+08     -0.308      0.758   -4.43e+08    3.23e+08\n",
      "C(pickup_hour)[T.20]                         -6.018e+07   1.96e+08     -0.308      0.758   -4.43e+08    3.23e+08\n",
      "C(pickup_hour)[T.21]                         -6.018e+07   1.96e+08     -0.308      0.758   -4.43e+08    3.23e+08\n",
      "C(pickup_hour)[T.22]                         -6.018e+07   1.96e+08     -0.308      0.758   -4.43e+08    3.23e+08\n",
      "C(pickup_hour)[T.23]                         -6.018e+07   1.96e+08     -0.308      0.758   -4.43e+08    3.23e+08\n",
      "vendor_id                                        0.0073      0.001      9.816      0.000       0.006       0.009\n",
      "passenger_count                                  0.0055      0.000     19.460      0.000       0.005       0.006\n",
      "scale(pickup_latitude)                           0.0013      0.002      0.821      0.412      -0.002       0.004\n",
      "scale(pickup_longitude)                         -0.0276      0.002    -11.699      0.000      -0.032      -0.023\n",
      "scale(dropoff_latitude)                         -0.0271      0.001    -20.770      0.000      -0.030      -0.025\n",
      "scale(dropoff_longitude)                        -0.1050      0.002    -66.338      0.000      -0.108      -0.102\n",
      "pickup_dayofyear                                 0.0005   6.87e-06     77.394      0.000       0.001       0.001\n",
      "np.log1p(distance)                               1.2313      0.001    996.623      0.000       1.229       1.234\n",
      "number_of_steps                                  0.0220      0.000    156.495      0.000       0.022       0.022\n",
      "avg_speed_h                                     -0.0455      0.000   -258.009      0.000      -0.046      -0.045\n",
      "scale(bearing)                                   0.0350      0.000     76.351      0.000       0.034       0.036\n",
      "==============================================================================\n",
      "Omnibus:                   231566.889   Durbin-Watson:                   1.999\n",
      "Prob(Omnibus):                  0.000   Jarque-Bera (JB):          4404491.030\n",
      "Skew:                          -0.127   Prob(JB):                         0.00\n",
      "Kurtosis:                      11.572   Cond. No.                     2.76e+15\n",
      "==============================================================================\n",
      "\n",
      "Warnings:\n",
      "[1] Standard Errors assume that the covariance matrix of the errors is correctly specified.\n",
      "[2] The smallest eigenvalue is 2.13e-21. This might indicate that there are\n",
      "strong multicollinearity problems or that the design matrix is singular.\n"
     ]
    }
   ],
   "source": [
    "model = sm.OLS.from_formula(\"log_trip_duration ~ vendor_id + passenger_count + C(harsh_weather) +\" \n",
    "                            \"C(pickup_cluster) + C(dropoff_cluster) + C(work_hour) + C(pickup_weekday) + C(pickup_hour) + \"\n",
    "                            \"scale(pickup_latitude) + scale(pickup_longitude) + scale(dropoff_latitude) + scale(dropoff_longitude) +\"\n",
    "                            \"pickup_dayofyear + np.log1p(distance) + number_of_steps + avg_speed_h + scale(bearing) +0 \", train)\n",
    "result = model.fit()\n",
    "print(result.summary())"
   ]
  },
  {
   "cell_type": "code",
   "execution_count": 7,
   "metadata": {},
   "outputs": [
    {
     "data": {
      "image/png": "[encoded data removed]",
      "text/plain": [
       "<matplotlib.figure.Figure at 0x10d858588>"
      ]
     },
     "metadata": {},
     "output_type": "display_data"
    }
   ],
   "source": [
    "fig, (ax1, ax2) = plt.subplots(1, 2, figsize=(12,8))\n",
    "\n",
    "sp.stats.probplot(train[\"log_trip_duration\"], plot = ax1)\n",
    "ax1.set_title(\"Log Trip Duration Q-Q Plot\")\n",
    "sp.stats.probplot(result.resid, plot = ax2)\n",
    "ax2.set_title(\"Residual Q-Q Plot\")\n",
    "plt.show()"
   ]
  },
  {
   "cell_type": "code",
   "execution_count": 59,
   "metadata": {},
   "outputs": [
    {
     "name": "stdout",
     "output_type": "stream",
     "text": [
      "[ R2 Score ]\n",
      "Scores:  [0.76896554 0.76908093 0.76994288 0.75996927 0.69519352]\n",
      "Mean: 0.7526304275742832\n"
     ]
    }
   ],
   "source": [
    "cv = KFold(5)\n",
    "\n",
    "print(\"[ R2 Score ]\")\n",
    "print(\"Scores: \", cross_val_score(model_lr, X, y, scoring=\"r2\", cv=cv))\n",
    "print(\"Mean:\", np.mean(cross_val_score(model_lr, X, y, scoring=\"r2\", cv=cv)))"
   ]
  },
  {
   "cell_type": "markdown",
   "metadata": {},
   "source": [
    "**Observe:**\n",
    "  * 모든 변수들을 활용해서 모델을 만들었을 때, ** $R^2$ 값이 0.7 ** 가까이 나왔다.\n",
    "  * 범주형 데이터가 많아서 다중공성성이 강하게 나타났다."
   ]
  },
  {
   "cell_type": "markdown",
   "metadata": {},
   "source": [
    "### 2.2 F-Test For Categorical Data"
   ]
  },
  {
   "cell_type": "code",
   "execution_count": 11,
   "metadata": {},
   "outputs": [
    {
     "name": "stderr",
     "output_type": "stream",
     "text": [
      "/usr/local/lib/python3.6/site-packages/scipy/stats/_distn_infrastructure.py:879: RuntimeWarning: invalid value encountered in greater\n",
      "  return (self.a < x) & (x < self.b)\n",
      "/usr/local/lib/python3.6/site-packages/scipy/stats/_distn_infrastructure.py:879: RuntimeWarning: invalid value encountered in less\n",
      "  return (self.a < x) & (x < self.b)\n",
      "/usr/local/lib/python3.6/site-packages/scipy/stats/_distn_infrastructure.py:1821: RuntimeWarning: invalid value encountered in less_equal\n",
      "  cond2 = cond0 & (x <= self.a)\n"
     ]
    },
    {
     "data": {
      "text/html": [
       "<div>\n",
       "<style scoped>\n",
       "    .dataframe tbody tr th:only-of-type {\n",
       "        vertical-align: middle;\n",
       "    }\n",
       "\n",
       "    .dataframe tbody tr th {\n",
       "        vertical-align: top;\n",
       "    }\n",
       "\n",
       "    .dataframe thead th {\n",
       "        text-align: right;\n",
       "    }\n",
       "</style>\n",
       "<table border=\"1\" class=\"dataframe\">\n",
       "  <thead>\n",
       "    <tr style=\"text-align: right;\">\n",
       "      <th></th>\n",
       "      <th>df</th>\n",
       "      <th>sum_sq</th>\n",
       "      <th>mean_sq</th>\n",
       "      <th>F</th>\n",
       "      <th>PR(&gt;F)</th>\n",
       "    </tr>\n",
       "  </thead>\n",
       "  <tbody>\n",
       "    <tr>\n",
       "      <th>C(harsh_weather)</th>\n",
       "      <td>2.0</td>\n",
       "      <td>5.979518e+07</td>\n",
       "      <td>2.989759e+07</td>\n",
       "      <td>5.073151e+07</td>\n",
       "      <td>0.0</td>\n",
       "    </tr>\n",
       "    <tr>\n",
       "      <th>Residual</th>\n",
       "      <td>1437259.0</td>\n",
       "      <td>8.470196e+05</td>\n",
       "      <td>5.893298e-01</td>\n",
       "      <td>NaN</td>\n",
       "      <td>NaN</td>\n",
       "    </tr>\n",
       "  </tbody>\n",
       "</table>\n",
       "</div>"
      ],
      "text/plain": [
       "                         df        sum_sq       mean_sq             F  PR(>F)\n",
       "C(harsh_weather)        2.0  5.979518e+07  2.989759e+07  5.073151e+07     0.0\n",
       "Residual          1437259.0  8.470196e+05  5.893298e-01           NaN     NaN"
      ]
     },
     "execution_count": 11,
     "metadata": {},
     "output_type": "execute_result"
    }
   ],
   "source": [
    "model_weather = sm.OLS.from_formula(\"log_trip_duration ~ C(harsh_weather) -1\", data=train)\n",
    "sm.stats.anova_lm(model_weather.fit())"
   ]
  },
  {
   "cell_type": "code",
   "execution_count": 55,
   "metadata": {},
   "outputs": [
    {
     "data": {
      "text/plain": [
       "F_onewayResult(statistic=62.89669632616533, pvalue=2.1799198494661314e-15)"
      ]
     },
     "execution_count": 55,
     "metadata": {},
     "output_type": "execute_result"
    }
   ],
   "source": [
    "sp.stats.f_oneway(train[train[\"harsh_weather\"]==True][\"log_trip_duration\"], \n",
    "                  train[train[\"harsh_weather\"]==False][\"log_trip_duration\"])"
   ]
  },
  {
   "cell_type": "code",
   "execution_count": 57,
   "metadata": {},
   "outputs": [
    {
     "data": {
      "text/plain": [
       "KruskalResult(statistic=72.30676478973143, pvalue=1.8421482891567556e-17)"
      ]
     },
     "execution_count": 57,
     "metadata": {},
     "output_type": "execute_result"
    }
   ],
   "source": [
    "sp.stats.kruskal(train[train[\"harsh_weather\"]==True][\"log_trip_duration\"],\n",
    "                 train[train[\"harsh_weather\"]==False][\"log_trip_duration\"])"
   ]
  },
  {
   "cell_type": "code",
   "execution_count": 9,
   "metadata": {},
   "outputs": [
    {
     "name": "stderr",
     "output_type": "stream",
     "text": [
      "/usr/local/lib/python3.6/site-packages/scipy/stats/_distn_infrastructure.py:879: RuntimeWarning: invalid value encountered in greater\n",
      "  return (self.a < x) & (x < self.b)\n",
      "/usr/local/lib/python3.6/site-packages/scipy/stats/_distn_infrastructure.py:879: RuntimeWarning: invalid value encountered in less\n",
      "  return (self.a < x) & (x < self.b)\n",
      "/usr/local/lib/python3.6/site-packages/scipy/stats/_distn_infrastructure.py:1821: RuntimeWarning: invalid value encountered in less_equal\n",
      "  cond2 = cond0 & (x <= self.a)\n"
     ]
    },
    {
     "data": {
      "text/html": [
       "<div>\n",
       "<style scoped>\n",
       "    .dataframe tbody tr th:only-of-type {\n",
       "        vertical-align: middle;\n",
       "    }\n",
       "\n",
       "    .dataframe tbody tr th {\n",
       "        vertical-align: top;\n",
       "    }\n",
       "\n",
       "    .dataframe thead th {\n",
       "        text-align: right;\n",
       "    }\n",
       "</style>\n",
       "<table border=\"1\" class=\"dataframe\">\n",
       "  <thead>\n",
       "    <tr style=\"text-align: right;\">\n",
       "      <th></th>\n",
       "      <th>df</th>\n",
       "      <th>sum_sq</th>\n",
       "      <th>mean_sq</th>\n",
       "      <th>F</th>\n",
       "      <th>PR(&gt;F)</th>\n",
       "    </tr>\n",
       "  </thead>\n",
       "  <tbody>\n",
       "    <tr>\n",
       "      <th>C(work_hour)</th>\n",
       "      <td>3.0</td>\n",
       "      <td>5.980275e+07</td>\n",
       "      <td>1.993425e+07</td>\n",
       "      <td>3.413031e+07</td>\n",
       "      <td>0.0</td>\n",
       "    </tr>\n",
       "    <tr>\n",
       "      <th>Residual</th>\n",
       "      <td>1437258.0</td>\n",
       "      <td>8.394492e+05</td>\n",
       "      <td>5.840630e-01</td>\n",
       "      <td>NaN</td>\n",
       "      <td>NaN</td>\n",
       "    </tr>\n",
       "  </tbody>\n",
       "</table>\n",
       "</div>"
      ],
      "text/plain": [
       "                     df        sum_sq       mean_sq             F  PR(>F)\n",
       "C(work_hour)        3.0  5.980275e+07  1.993425e+07  3.413031e+07     0.0\n",
       "Residual      1437258.0  8.394492e+05  5.840630e-01           NaN     NaN"
      ]
     },
     "execution_count": 9,
     "metadata": {},
     "output_type": "execute_result"
    }
   ],
   "source": [
    "model_hour = sm.OLS.from_formula(\"log_trip_duration ~ C(work_hour) + 0\", data=train)\n",
    "sm.stats.anova_lm(model_hour.fit())"
   ]
  },
  {
   "cell_type": "code",
   "execution_count": 13,
   "metadata": {},
   "outputs": [
    {
     "name": "stderr",
     "output_type": "stream",
     "text": [
      "/usr/local/lib/python3.6/site-packages/scipy/stats/_distn_infrastructure.py:879: RuntimeWarning: invalid value encountered in greater\n",
      "  return (self.a < x) & (x < self.b)\n",
      "/usr/local/lib/python3.6/site-packages/scipy/stats/_distn_infrastructure.py:879: RuntimeWarning: invalid value encountered in less\n",
      "  return (self.a < x) & (x < self.b)\n",
      "/usr/local/lib/python3.6/site-packages/scipy/stats/_distn_infrastructure.py:1821: RuntimeWarning: invalid value encountered in less_equal\n",
      "  cond2 = cond0 & (x <= self.a)\n"
     ]
    },
    {
     "data": {
      "text/html": [
       "<div>\n",
       "<style scoped>\n",
       "    .dataframe tbody tr th:only-of-type {\n",
       "        vertical-align: middle;\n",
       "    }\n",
       "\n",
       "    .dataframe tbody tr th {\n",
       "        vertical-align: top;\n",
       "    }\n",
       "\n",
       "    .dataframe thead th {\n",
       "        text-align: right;\n",
       "    }\n",
       "</style>\n",
       "<table border=\"1\" class=\"dataframe\">\n",
       "  <thead>\n",
       "    <tr style=\"text-align: right;\">\n",
       "      <th></th>\n",
       "      <th>df</th>\n",
       "      <th>sum_sq</th>\n",
       "      <th>mean_sq</th>\n",
       "      <th>F</th>\n",
       "      <th>PR(&gt;F)</th>\n",
       "    </tr>\n",
       "  </thead>\n",
       "  <tbody>\n",
       "    <tr>\n",
       "      <th>C(pickup_weekday)</th>\n",
       "      <td>7.0</td>\n",
       "      <td>5.979931e+07</td>\n",
       "      <td>8.542759e+06</td>\n",
       "      <td>1.456682e+07</td>\n",
       "      <td>0.0</td>\n",
       "    </tr>\n",
       "    <tr>\n",
       "      <th>Residual</th>\n",
       "      <td>1437254.0</td>\n",
       "      <td>8.428825e+05</td>\n",
       "      <td>5.864534e-01</td>\n",
       "      <td>NaN</td>\n",
       "      <td>NaN</td>\n",
       "    </tr>\n",
       "  </tbody>\n",
       "</table>\n",
       "</div>"
      ],
      "text/plain": [
       "                          df        sum_sq       mean_sq             F  PR(>F)\n",
       "C(pickup_weekday)        7.0  5.979931e+07  8.542759e+06  1.456682e+07     0.0\n",
       "Residual           1437254.0  8.428825e+05  5.864534e-01           NaN     NaN"
      ]
     },
     "execution_count": 13,
     "metadata": {},
     "output_type": "execute_result"
    }
   ],
   "source": [
    "model_weekday = sm.OLS.from_formula(\"log_trip_duration ~ C(pickup_weekday) + 0\", data=train)\n",
    "sm.stats.anova_lm(model_weekday.fit())"
   ]
  },
  {
   "cell_type": "markdown",
   "metadata": {},
   "source": [
    "### 2.3 Individual OLS"
   ]
  },
  {
   "cell_type": "markdown",
   "metadata": {},
   "source": [
    "### 2.3.1 Distance"
   ]
  },
  {
   "cell_type": "code",
   "execution_count": 51,
   "metadata": {},
   "outputs": [
    {
     "name": "stdout",
     "output_type": "stream",
     "text": [
      "                            OLS Regression Results                            \n",
      "==============================================================================\n",
      "Dep. Variable:      log_trip_duration   R-squared:                       0.867\n",
      "Model:                            OLS   Adj. R-squared:                  0.867\n",
      "Method:                 Least Squares   F-statistic:                 9.404e+06\n",
      "Date:                Thu, 03 May 2018   Prob (F-statistic):               0.00\n",
      "Time:                        00:42:57   Log-Likelihood:            -3.2766e+06\n",
      "No. Observations:             1437261   AIC:                         6.553e+06\n",
      "Df Residuals:                 1437260   BIC:                         6.553e+06\n",
      "Df Model:                           1                                         \n",
      "Covariance Type:            nonrobust                                         \n",
      "======================================================================================\n",
      "                         coef    std err          t      P>|t|      [0.025      0.975]\n",
      "--------------------------------------------------------------------------------------\n",
      "np.log1p(distance)     4.3883      0.001   3066.587      0.000       4.385       4.391\n",
      "==============================================================================\n",
      "Omnibus:                   194206.328   Durbin-Watson:                   1.629\n",
      "Prob(Omnibus):                  0.000   Jarque-Bera (JB):           296278.936\n",
      "Skew:                          -0.976   Prob(JB):                         0.00\n",
      "Kurtosis:                       4.066   Cond. No.                         1.00\n",
      "==============================================================================\n",
      "\n",
      "Warnings:\n",
      "[1] Standard Errors assume that the covariance matrix of the errors is correctly specified.\n"
     ]
    }
   ],
   "source": [
    "model_dis = sm.OLS.from_formula(\"log_trip_duration ~ np.log1p(distance) + 0\", train)\n",
    "result_dis = model_dis.fit()\n",
    "print(result_dis.summary())"
   ]
  },
  {
   "cell_type": "code",
   "execution_count": 81,
   "metadata": {},
   "outputs": [
    {
     "name": "stdout",
     "output_type": "stream",
     "text": [
      "                            OLS Regression Results                            \n",
      "==============================================================================\n",
      "Dep. Variable:      log_trip_duration   R-squared:                       0.006\n",
      "Model:                            OLS   Adj. R-squared:                  0.006\n",
      "Method:                 Least Squares   F-statistic:                     8355.\n",
      "Date:                Thu, 03 May 2018   Prob (F-statistic):               0.00\n",
      "Time:                        18:51:42   Log-Likelihood:            -4.7245e+06\n",
      "No. Observations:             1437261   AIC:                         9.449e+06\n",
      "Df Residuals:                 1437260   BIC:                         9.449e+06\n",
      "Df Model:                           1                                         \n",
      "Covariance Type:            nonrobust                                         \n",
      "===================================================================================\n",
      "                      coef    std err          t      P>|t|      [0.025      0.975]\n",
      "-----------------------------------------------------------------------------------\n",
      "scale(distance)     0.4938      0.005     91.405      0.000       0.483       0.504\n",
      "==============================================================================\n",
      "Omnibus:                   359178.312   Durbin-Watson:                   0.016\n",
      "Prob(Omnibus):                  0.000   Jarque-Bera (JB):          1873344.027\n",
      "Skew:                          -1.112   Prob(JB):                         0.00\n",
      "Kurtosis:                       8.132   Cond. No.                         1.00\n",
      "==============================================================================\n",
      "\n",
      "Warnings:\n",
      "[1] Standard Errors assume that the covariance matrix of the errors is correctly specified.\n"
     ]
    }
   ],
   "source": [
    "model_dis2 = sm.OLS.from_formula(\"log_trip_duration ~ scale(distance) + 0\", train)\n",
    "result_dis2 = model_dis2.fit()\n",
    "print(result_dis2.summary())"
   ]
  },
  {
   "cell_type": "markdown",
   "metadata": {},
   "source": [
    "### 2.3.2 Speed"
   ]
  },
  {
   "cell_type": "code",
   "execution_count": 52,
   "metadata": {},
   "outputs": [
    {
     "name": "stdout",
     "output_type": "stream",
     "text": [
      "                            OLS Regression Results                            \n",
      "==============================================================================\n",
      "Dep. Variable:      log_trip_duration   R-squared:                       0.929\n",
      "Model:                            OLS   Adj. R-squared:                  0.929\n",
      "Method:                 Least Squares   F-statistic:                 1.870e+07\n",
      "Date:                Thu, 03 May 2018   Prob (F-statistic):               0.00\n",
      "Time:                        00:43:03   Log-Likelihood:            -2.8316e+06\n",
      "No. Observations:             1437261   AIC:                         5.663e+06\n",
      "Df Residuals:                 1437260   BIC:                         5.663e+06\n",
      "Df Model:                           1                                         \n",
      "Covariance Type:            nonrobust                                         \n",
      "===============================================================================\n",
      "                  coef    std err          t      P>|t|      [0.025      0.975]\n",
      "-------------------------------------------------------------------------------\n",
      "avg_speed_h     0.4198   9.71e-05   4324.521      0.000       0.420       0.420\n",
      "==============================================================================\n",
      "Omnibus:                   807257.626   Durbin-Watson:                   1.845\n",
      "Prob(Omnibus):                  0.000   Jarque-Bera (JB):         27549648.295\n",
      "Skew:                          -2.118   Prob(JB):                         0.00\n",
      "Kurtosis:                      24.026   Cond. No.                         1.00\n",
      "==============================================================================\n",
      "\n",
      "Warnings:\n",
      "[1] Standard Errors assume that the covariance matrix of the errors is correctly specified.\n"
     ]
    }
   ],
   "source": [
    "model_speed = sm.OLS.from_formula(\"log_trip_duration ~ avg_speed_h + 0\", train)\n",
    "result_speed = model_speed.fit()\n",
    "print(result_speed.summary())"
   ]
  },
  {
   "cell_type": "code",
   "execution_count": 78,
   "metadata": {},
   "outputs": [
    {
     "name": "stdout",
     "output_type": "stream",
     "text": [
      "                            OLS Regression Results                            \n",
      "==============================================================================\n",
      "Dep. Variable:      log_trip_duration   R-squared:                       0.987\n",
      "Model:                            OLS   Adj. R-squared:                  0.987\n",
      "Method:                 Least Squares   F-statistic:                 1.132e+08\n",
      "Date:                Thu, 03 May 2018   Prob (F-statistic):               0.00\n",
      "Time:                        18:48:37   Log-Likelihood:            -1.5819e+06\n",
      "No. Observations:             1437261   AIC:                         3.164e+06\n",
      "Df Residuals:                 1437260   BIC:                         3.164e+06\n",
      "Df Model:                           1                                         \n",
      "Covariance Type:            nonrobust                                         \n",
      "=========================================================================================\n",
      "                            coef    std err          t      P>|t|      [0.025      0.975]\n",
      "-----------------------------------------------------------------------------------------\n",
      "np.log1p(avg_speed_h)     2.3911      0.000   1.06e+04      0.000       2.391       2.392\n",
      "==============================================================================\n",
      "Omnibus:                   201582.187   Durbin-Watson:                   1.997\n",
      "Prob(Omnibus):                  0.000   Jarque-Bera (JB):           608976.700\n",
      "Skew:                          -0.742   Prob(JB):                         0.00\n",
      "Kurtosis:                       5.822   Cond. No.                         1.00\n",
      "==============================================================================\n",
      "\n",
      "Warnings:\n",
      "[1] Standard Errors assume that the covariance matrix of the errors is correctly specified.\n"
     ]
    }
   ],
   "source": [
    "model_speed2 = sm.OLS.from_formula(\"log_trip_duration ~ np.log1p(avg_speed_h) + 0\", train)\n",
    "result_speed2 = model_speed2.fit()\n",
    "print(result_speed2.summary())"
   ]
  },
  {
   "cell_type": "code",
   "execution_count": 80,
   "metadata": {},
   "outputs": [
    {
     "data": {
      "image/png": "[encoded data removed]",
      "text/plain": [
       "<matplotlib.figure.Figure at 0x11ac4aa20>"
      ]
     },
     "metadata": {},
     "output_type": "display_data"
    }
   ],
   "source": [
    "fig, (ax1, ax2) = plt.subplots(1, 2, figsize=(12,8))\n",
    "\n",
    "sp.stats.probplot(train[\"log_trip_duration\"], plot = ax1)\n",
    "ax1.set_title(\"Log Trip Duration Q-Q Plot\")\n",
    "sp.stats.probplot(result_speed2.resid, plot = ax2)\n",
    "ax2.set_title(\"Residual Q-Q Plot\")\n",
    "plt.show()"
   ]
  },
  {
   "cell_type": "code",
   "execution_count": 68,
   "metadata": {},
   "outputs": [
    {
     "name": "stdout",
     "output_type": "stream",
     "text": [
      "                            OLS Regression Results                            \n",
      "==============================================================================\n",
      "Dep. Variable:      log_trip_duration   R-squared:                       0.001\n",
      "Model:                            OLS   Adj. R-squared:                  0.001\n",
      "Method:                 Least Squares   F-statistic:                     472.7\n",
      "Date:                Tue, 01 May 2018   Prob (F-statistic):               0.00\n",
      "Time:                        22:59:29   Log-Likelihood:            -4.7277e+06\n",
      "No. Observations:             1437261   AIC:                         9.455e+06\n",
      "Df Residuals:                 1437257   BIC:                         9.456e+06\n",
      "Df Model:                           4                                         \n",
      "Covariance Type:            nonrobust                                         \n",
      "============================================================================================\n",
      "                               coef    std err          t      P>|t|      [0.025      0.975]\n",
      "--------------------------------------------------------------------------------------------\n",
      "scale(pickup_latitude)      -0.0773      0.006    -12.572      0.000      -0.089      -0.065\n",
      "scale(pickup_longitude)      0.1282      0.006     22.456      0.000       0.117       0.139\n",
      "scale(dropoff_latitude)     -0.0996      0.006    -16.385      0.000      -0.112      -0.088\n",
      "scale(dropoff_longitude)     0.1027      0.006     18.225      0.000       0.092       0.114\n",
      "==============================================================================\n",
      "Omnibus:                   365204.842   Durbin-Watson:                   0.025\n",
      "Prob(Omnibus):                  0.000   Jarque-Bera (JB):          1887765.837\n",
      "Skew:                          -1.135   Prob(JB):                         0.00\n",
      "Kurtosis:                       8.135   Cond. No.                         1.69\n",
      "==============================================================================\n",
      "\n",
      "Warnings:\n",
      "[1] Standard Errors assume that the covariance matrix of the errors is correctly specified.\n"
     ]
    }
   ],
   "source": [
    "model_loc = sm.OLS.from_formula(\"log_trip_duration ~ scale(pickup_latitude) + scale(pickup_longitude) + scale(dropoff_latitude) + scale(dropoff_longitude) - 1\", train)\n",
    "result_loc = model_loc.fit()\n",
    "print(result_loc.summary())"
   ]
  },
  {
   "cell_type": "markdown",
   "metadata": {},
   "source": [
    "**Observe:**\n",
    "  * One-way ANOVA를 통해 범주형 변수 그룹간의 유의미성을 검정하였고, 유의미하다는 결론을 내릴 수 있었다.\n",
    "  * 연속형 변수에 대해서도 개별 OLS를 하였을 때, 거리와 속도가 높은 설명력을 보여주었다."
   ]
  },
  {
   "cell_type": "markdown",
   "metadata": {},
   "source": [
    "### 2.4 Remove Outlier - Cook's Distance"
   ]
  },
  {
   "cell_type": "code",
   "execution_count": 54,
   "metadata": {},
   "outputs": [
    {
     "data": {
      "image/png": "[encoded data removed]",
      "text/plain": [
       "<matplotlib.figure.Figure at 0x1213030f0>"
      ]
     },
     "metadata": {},
     "output_type": "display_data"
    }
   ],
   "source": [
    "sm.graphics.plot_leverage_resid2(result)\n",
    "plt.show()"
   ]
  },
  {
   "cell_type": "code",
   "execution_count": null,
   "metadata": {},
   "outputs": [],
   "source": [
    "sm.graphics.influence_plot(result, plot_alpha=0.3)\n",
    "plt.show()"
   ]
  },
  {
   "cell_type": "code",
   "execution_count": 7,
   "metadata": {},
   "outputs": [
    {
     "data": {
      "text/plain": [
       "53193"
      ]
     },
     "execution_count": 7,
     "metadata": {},
     "output_type": "execute_result"
    }
   ],
   "source": [
    "influence = result.get_influence()\n",
    "cooks_d2, pvals = influence.cooks_distance\n",
    "fox_cr = 4 / (len(train) - 70)\n",
    "\n",
    "idx_cooks = np.where(cooks_d2 > fox_cr)[0]\n",
    "len(idx_cooks)"
   ]
  },
  {
   "cell_type": "code",
   "execution_count": 8,
   "metadata": {},
   "outputs": [],
   "source": [
    "train_ro = train.copy()"
   ]
  },
  {
   "cell_type": "code",
   "execution_count": 9,
   "metadata": {},
   "outputs": [
    {
     "name": "stdout",
     "output_type": "stream",
     "text": [
      "1384068\n"
     ]
    },
    {
     "data": {
      "text/html": [
       "<div>\n",
       "<style scoped>\n",
       "    .dataframe tbody tr th:only-of-type {\n",
       "        vertical-align: middle;\n",
       "    }\n",
       "\n",
       "    .dataframe tbody tr th {\n",
       "        vertical-align: top;\n",
       "    }\n",
       "\n",
       "    .dataframe thead th {\n",
       "        text-align: right;\n",
       "    }\n",
       "</style>\n",
       "<table border=\"1\" class=\"dataframe\">\n",
       "  <thead>\n",
       "    <tr style=\"text-align: right;\">\n",
       "      <th></th>\n",
       "      <th>id</th>\n",
       "      <th>vendor_id</th>\n",
       "      <th>pickup_datetime</th>\n",
       "      <th>dropoff_datetime</th>\n",
       "      <th>passenger_count</th>\n",
       "      <th>pickup_longitude</th>\n",
       "      <th>pickup_latitude</th>\n",
       "      <th>dropoff_longitude</th>\n",
       "      <th>dropoff_latitude</th>\n",
       "      <th>store_and_fwd_flag</th>\n",
       "      <th>trip_duration</th>\n",
       "      <th>log_trip_duration</th>\n",
       "      <th>pickup_date</th>\n",
       "      <th>pickup_month</th>\n",
       "      <th>pickup_day</th>\n",
       "      <th>pickup_weekday</th>\n",
       "      <th>pickup_hour</th>\n",
       "      <th>pickup_weekofyear</th>\n",
       "      <th>pickup_dayofyear</th>\n",
       "      <th>harsh_weather</th>\n",
       "      <th>distance</th>\n",
       "      <th>number_of_steps</th>\n",
       "      <th>pickup_cluster</th>\n",
       "      <th>dropoff_cluster</th>\n",
       "      <th>avg_speed_h</th>\n",
       "      <th>speed(km/h)</th>\n",
       "      <th>work_hour</th>\n",
       "      <th>bearing</th>\n",
       "    </tr>\n",
       "  </thead>\n",
       "  <tbody>\n",
       "    <tr>\n",
       "      <th>1384063</th>\n",
       "      <td>id2376096</td>\n",
       "      <td>2</td>\n",
       "      <td>2016-04-08 13:31:04</td>\n",
       "      <td>2016-04-08 13:44:02</td>\n",
       "      <td>4</td>\n",
       "      <td>-73.982201</td>\n",
       "      <td>40.745522</td>\n",
       "      <td>-73.994911</td>\n",
       "      <td>40.740170</td>\n",
       "      <td>N</td>\n",
       "      <td>778</td>\n",
       "      <td>6.658011</td>\n",
       "      <td>2016-04-08</td>\n",
       "      <td>4</td>\n",
       "      <td>8</td>\n",
       "      <td>4</td>\n",
       "      <td>13</td>\n",
       "      <td>14</td>\n",
       "      <td>99</td>\n",
       "      <td>False</td>\n",
       "      <td>1.225080</td>\n",
       "      <td>8.0</td>\n",
       "      <td>Queens</td>\n",
       "      <td>Morningside height</td>\n",
       "      <td>12.542891</td>\n",
       "      <td>5.668751</td>\n",
       "      <td>work</td>\n",
       "      <td>-178.201176</td>\n",
       "    </tr>\n",
       "    <tr>\n",
       "      <th>1384064</th>\n",
       "      <td>id1049543</td>\n",
       "      <td>1</td>\n",
       "      <td>2016-01-10 07:35:15</td>\n",
       "      <td>2016-01-10 07:46:10</td>\n",
       "      <td>1</td>\n",
       "      <td>-74.000946</td>\n",
       "      <td>40.747379</td>\n",
       "      <td>-73.970184</td>\n",
       "      <td>40.796547</td>\n",
       "      <td>N</td>\n",
       "      <td>655</td>\n",
       "      <td>6.486161</td>\n",
       "      <td>2016-01-10</td>\n",
       "      <td>1</td>\n",
       "      <td>10</td>\n",
       "      <td>6</td>\n",
       "      <td>7</td>\n",
       "      <td>1</td>\n",
       "      <td>10</td>\n",
       "      <td>False</td>\n",
       "      <td>6.049836</td>\n",
       "      <td>11.0</td>\n",
       "      <td>Morningside height</td>\n",
       "      <td>LaGuardia</td>\n",
       "      <td>20.142061</td>\n",
       "      <td>33.251005</td>\n",
       "      <td>before_work</td>\n",
       "      <td>0.473628</td>\n",
       "    </tr>\n",
       "    <tr>\n",
       "      <th>1384065</th>\n",
       "      <td>id2304944</td>\n",
       "      <td>2</td>\n",
       "      <td>2016-04-22 06:57:41</td>\n",
       "      <td>2016-04-22 07:10:25</td>\n",
       "      <td>1</td>\n",
       "      <td>-73.959129</td>\n",
       "      <td>40.768799</td>\n",
       "      <td>-74.004433</td>\n",
       "      <td>40.707371</td>\n",
       "      <td>N</td>\n",
       "      <td>764</td>\n",
       "      <td>6.639876</td>\n",
       "      <td>2016-04-22</td>\n",
       "      <td>4</td>\n",
       "      <td>22</td>\n",
       "      <td>4</td>\n",
       "      <td>6</td>\n",
       "      <td>16</td>\n",
       "      <td>113</td>\n",
       "      <td>False</td>\n",
       "      <td>7.824606</td>\n",
       "      <td>10.0</td>\n",
       "      <td>Chelsea</td>\n",
       "      <td>Harlem</td>\n",
       "      <td>24.263705</td>\n",
       "      <td>36.869870</td>\n",
       "      <td>before_work</td>\n",
       "      <td>-179.440954</td>\n",
       "    </tr>\n",
       "    <tr>\n",
       "      <th>1384066</th>\n",
       "      <td>id2714485</td>\n",
       "      <td>1</td>\n",
       "      <td>2016-01-05 15:56:26</td>\n",
       "      <td>2016-01-05 16:02:39</td>\n",
       "      <td>1</td>\n",
       "      <td>-73.982079</td>\n",
       "      <td>40.749062</td>\n",
       "      <td>-73.974632</td>\n",
       "      <td>40.757107</td>\n",
       "      <td>N</td>\n",
       "      <td>373</td>\n",
       "      <td>5.924256</td>\n",
       "      <td>2016-01-05</td>\n",
       "      <td>1</td>\n",
       "      <td>5</td>\n",
       "      <td>1</td>\n",
       "      <td>15</td>\n",
       "      <td>1</td>\n",
       "      <td>5</td>\n",
       "      <td>False</td>\n",
       "      <td>1.092564</td>\n",
       "      <td>7.0</td>\n",
       "      <td>Queens</td>\n",
       "      <td>Uppe East Side</td>\n",
       "      <td>11.708075</td>\n",
       "      <td>10.544853</td>\n",
       "      <td>work</td>\n",
       "      <td>0.701060</td>\n",
       "    </tr>\n",
       "    <tr>\n",
       "      <th>1384067</th>\n",
       "      <td>id1209952</td>\n",
       "      <td>1</td>\n",
       "      <td>2016-04-05 14:44:25</td>\n",
       "      <td>2016-04-05 14:47:43</td>\n",
       "      <td>1</td>\n",
       "      <td>-73.979538</td>\n",
       "      <td>40.781750</td>\n",
       "      <td>-73.972809</td>\n",
       "      <td>40.790585</td>\n",
       "      <td>N</td>\n",
       "      <td>198</td>\n",
       "      <td>5.293305</td>\n",
       "      <td>2016-04-05</td>\n",
       "      <td>4</td>\n",
       "      <td>5</td>\n",
       "      <td>1</td>\n",
       "      <td>14</td>\n",
       "      <td>14</td>\n",
       "      <td>96</td>\n",
       "      <td>False</td>\n",
       "      <td>1.134042</td>\n",
       "      <td>2.0</td>\n",
       "      <td>LaGuardia</td>\n",
       "      <td>LaGuardia</td>\n",
       "      <td>15.176490</td>\n",
       "      <td>20.618945</td>\n",
       "      <td>work</td>\n",
       "      <td>0.576634</td>\n",
       "    </tr>\n",
       "  </tbody>\n",
       "</table>\n",
       "</div>"
      ],
      "text/plain": [
       "                id  vendor_id      pickup_datetime     dropoff_datetime  \\\n",
       "1384063  id2376096          2  2016-04-08 13:31:04  2016-04-08 13:44:02   \n",
       "1384064  id1049543          1  2016-01-10 07:35:15  2016-01-10 07:46:10   \n",
       "1384065  id2304944          2  2016-04-22 06:57:41  2016-04-22 07:10:25   \n",
       "1384066  id2714485          1  2016-01-05 15:56:26  2016-01-05 16:02:39   \n",
       "1384067  id1209952          1  2016-04-05 14:44:25  2016-04-05 14:47:43   \n",
       "\n",
       "         passenger_count  pickup_longitude  pickup_latitude  \\\n",
       "1384063                4        -73.982201        40.745522   \n",
       "1384064                1        -74.000946        40.747379   \n",
       "1384065                1        -73.959129        40.768799   \n",
       "1384066                1        -73.982079        40.749062   \n",
       "1384067                1        -73.979538        40.781750   \n",
       "\n",
       "         dropoff_longitude  dropoff_latitude store_and_fwd_flag  \\\n",
       "1384063         -73.994911         40.740170                  N   \n",
       "1384064         -73.970184         40.796547                  N   \n",
       "1384065         -74.004433         40.707371                  N   \n",
       "1384066         -73.974632         40.757107                  N   \n",
       "1384067         -73.972809         40.790585                  N   \n",
       "\n",
       "         trip_duration  log_trip_duration pickup_date  pickup_month  \\\n",
       "1384063            778           6.658011  2016-04-08             4   \n",
       "1384064            655           6.486161  2016-01-10             1   \n",
       "1384065            764           6.639876  2016-04-22             4   \n",
       "1384066            373           5.924256  2016-01-05             1   \n",
       "1384067            198           5.293305  2016-04-05             4   \n",
       "\n",
       "         pickup_day  pickup_weekday  pickup_hour  pickup_weekofyear  \\\n",
       "1384063           8               4           13                 14   \n",
       "1384064          10               6            7                  1   \n",
       "1384065          22               4            6                 16   \n",
       "1384066           5               1           15                  1   \n",
       "1384067           5               1           14                 14   \n",
       "\n",
       "         pickup_dayofyear  harsh_weather  distance  number_of_steps  \\\n",
       "1384063                99          False  1.225080              8.0   \n",
       "1384064                10          False  6.049836             11.0   \n",
       "1384065               113          False  7.824606             10.0   \n",
       "1384066                 5          False  1.092564              7.0   \n",
       "1384067                96          False  1.134042              2.0   \n",
       "\n",
       "             pickup_cluster     dropoff_cluster  avg_speed_h  speed(km/h)  \\\n",
       "1384063              Queens  Morningside height    12.542891     5.668751   \n",
       "1384064  Morningside height           LaGuardia    20.142061    33.251005   \n",
       "1384065             Chelsea              Harlem    24.263705    36.869870   \n",
       "1384066              Queens      Uppe East Side    11.708075    10.544853   \n",
       "1384067           LaGuardia           LaGuardia    15.176490    20.618945   \n",
       "\n",
       "           work_hour     bearing  \n",
       "1384063         work -178.201176  \n",
       "1384064  before_work    0.473628  \n",
       "1384065  before_work -179.440954  \n",
       "1384066         work    0.701060  \n",
       "1384067         work    0.576634  "
      ]
     },
     "execution_count": 9,
     "metadata": {},
     "output_type": "execute_result"
    }
   ],
   "source": [
    "train_ro.drop(idx_cooks, inplace=True)\n",
    "train_ro.reset_index(drop=True, inplace=True)\n",
    "print(len(train_ro))\n",
    "train_ro.tail()"
   ]
  },
  {
   "cell_type": "code",
   "execution_count": null,
   "metadata": {},
   "outputs": [],
   "source": []
  },
  {
   "cell_type": "markdown",
   "metadata": {},
   "source": [
    "### 2.5 2nd Modeling (Removing Outlier)"
   ]
  },
  {
   "cell_type": "code",
   "execution_count": 9,
   "metadata": {},
   "outputs": [
    {
     "name": "stdout",
     "output_type": "stream",
     "text": [
      "                            OLS Regression Results                            \n",
      "==============================================================================\n",
      "Dep. Variable:      log_trip_duration   R-squared:                       0.751\n",
      "Model:                            OLS   Adj. R-squared:                  0.751\n",
      "Method:                 Least Squares   F-statistic:                 6.038e+04\n",
      "Date:                Thu, 03 May 2018   Prob (F-statistic):               0.00\n",
      "Time:                        02:03:05   Log-Likelihood:            -5.4325e+05\n",
      "No. Observations:             1384069   AIC:                         1.087e+06\n",
      "Df Residuals:                 1383999   BIC:                         1.087e+06\n",
      "Df Model:                          69                                         \n",
      "Covariance Type:            nonrobust                                         \n",
      "================================================================================================================\n",
      "                                                   coef    std err          t      P>|t|      [0.025      0.975]\n",
      "----------------------------------------------------------------------------------------------------------------\n",
      "C(harsh_weather)[False]                      -1.477e+08   2.24e+08     -0.661      0.509   -5.86e+08     2.9e+08\n",
      "C(harsh_weather)[True]                       -1.477e+08   2.24e+08     -0.661      0.509   -5.86e+08     2.9e+08\n",
      "C(pickup_cluster)[T.Brooklyn-Williamsburgt]      0.2344      0.018     13.215      0.000       0.200       0.269\n",
      "C(pickup_cluster)[T.Chelsea]                    -0.0249      0.003     -8.113      0.000      -0.031      -0.019\n",
      "C(pickup_cluster)[T.East Harlem]                -0.1652      0.006    -26.964      0.000      -0.177      -0.153\n",
      "C(pickup_cluster)[T.Gramercy]                    0.0187      0.006      3.327      0.001       0.008       0.030\n",
      "C(pickup_cluster)[T.Harlem]                     -0.1377      0.006    -23.063      0.000      -0.149      -0.126\n",
      "C(pickup_cluster)[T.JFK]                        -0.0143      0.008     -1.886      0.059      -0.029       0.001\n",
      "C(pickup_cluster)[T.LaGuardia]                  -0.0779      0.003    -25.228      0.000      -0.084      -0.072\n",
      "C(pickup_cluster)[T.Midtown]                    -0.0105      0.005     -2.074      0.038      -0.020      -0.001\n",
      "C(pickup_cluster)[T.Morningside height]         -0.0618      0.005    -12.624      0.000      -0.071      -0.052\n",
      "C(pickup_cluster)[T.Queens]                     -0.0378      0.004     -8.835      0.000      -0.046      -0.029\n",
      "C(pickup_cluster)[T.Queens-Astoria]              0.1087      0.007     15.859      0.000       0.095       0.122\n",
      "C(pickup_cluster)[T.Soho]                       -0.1034      0.014     -7.386      0.000      -0.131      -0.076\n",
      "C(pickup_cluster)[T.Uppe East Side]             -0.0125      0.004     -3.419      0.001      -0.020      -0.005\n",
      "C(pickup_cluster)[T.Upper West Side]            -0.0305      0.004     -8.101      0.000      -0.038      -0.023\n",
      "C(dropoff_cluster)[T.Brooklyn-Williamsburgt]     0.2886      0.008     36.671      0.000       0.273       0.304\n",
      "C(dropoff_cluster)[T.Chelsea]                   -0.1098      0.002    -45.808      0.000      -0.115      -0.105\n",
      "C(dropoff_cluster)[T.East Harlem]                0.0028      0.005      0.588      0.557      -0.007       0.012\n",
      "C(dropoff_cluster)[T.Gramercy]                   0.0524      0.004     13.409      0.000       0.045       0.060\n",
      "C(dropoff_cluster)[T.Harlem]                    -0.3490      0.005    -70.495      0.000      -0.359      -0.339\n",
      "C(dropoff_cluster)[T.JFK]                       -0.3341      0.006    -56.557      0.000      -0.346      -0.323\n",
      "C(dropoff_cluster)[T.LaGuardia]                 -0.1951      0.003    -77.453      0.000      -0.200      -0.190\n",
      "C(dropoff_cluster)[T.Midtown]                   -0.2204      0.004    -52.227      0.000      -0.229      -0.212\n",
      "C(dropoff_cluster)[T.Morningside height]        -0.2623      0.004    -63.872      0.000      -0.270      -0.254\n",
      "C(dropoff_cluster)[T.Queens]                    -0.1500      0.004    -41.583      0.000      -0.157      -0.143\n",
      "C(dropoff_cluster)[T.Queens-Astoria]            -0.1517      0.005    -30.421      0.000      -0.162      -0.142\n",
      "C(dropoff_cluster)[T.Soho]                       0.0642      0.010      6.221      0.000       0.044       0.084\n",
      "C(dropoff_cluster)[T.Uppe East Side]            -0.0986      0.003    -31.948      0.000      -0.105      -0.093\n",
      "C(dropoff_cluster)[T.Upper West Side]           -0.1286      0.003    -39.695      0.000      -0.135      -0.122\n",
      "C(work_hour)[T.before_work]                   1.477e+08   2.24e+08      0.661      0.509    -2.9e+08    5.86e+08\n",
      "C(work_hour)[T.work]                           2.68e+08   4.06e+08      0.661      0.509   -5.27e+08    1.06e+09\n",
      "C(pickup_weekday)[T.1]                           0.0915      0.001     77.665      0.000       0.089       0.094\n",
      "C(pickup_weekday)[T.2]                           0.1170      0.001    100.135      0.000       0.115       0.119\n",
      "C(pickup_weekday)[T.3]                           0.1259      0.001    108.591      0.000       0.124       0.128\n",
      "C(pickup_weekday)[T.4]                           0.1088      0.001     94.122      0.000       0.107       0.111\n",
      "C(pickup_weekday)[T.5]                           0.0091      0.001      7.820      0.000       0.007       0.011\n",
      "C(pickup_weekday)[T.6]                          -0.0850      0.001    -70.425      0.000      -0.087      -0.083\n",
      "C(pickup_hour)[T.1]                             -0.0457      0.002    -18.356      0.000      -0.051      -0.041\n",
      "C(pickup_hour)[T.2]                             -0.0810      0.003    -29.282      0.000      -0.086      -0.076\n",
      "C(pickup_hour)[T.3]                             -0.1204      0.003    -39.041      0.000      -0.126      -0.114\n",
      "C(pickup_hour)[T.4]                             -0.1883      0.003    -54.083      0.000      -0.195      -0.181\n",
      "C(pickup_hour)[T.5]                             -0.2951      0.004    -83.708      0.000      -0.302      -0.288\n",
      "C(pickup_hour)[T.6]                             -0.2084      0.003    -79.504      0.000      -0.214      -0.203\n",
      "C(pickup_hour)[T.7]                              0.0424      0.002     18.624      0.000       0.038       0.047\n",
      "C(pickup_hour)[T.8]                          -1.203e+08   1.82e+08     -0.661      0.509   -4.77e+08    2.37e+08\n",
      "C(pickup_hour)[T.9]                          -1.203e+08   1.82e+08     -0.661      0.509   -4.77e+08    2.37e+08\n",
      "C(pickup_hour)[T.10]                         -1.203e+08   1.82e+08     -0.661      0.509   -4.77e+08    2.37e+08\n",
      "C(pickup_hour)[T.11]                         -1.203e+08   1.82e+08     -0.661      0.509   -4.77e+08    2.37e+08\n",
      "C(pickup_hour)[T.12]                         -1.203e+08   1.82e+08     -0.661      0.509   -4.77e+08    2.37e+08\n",
      "C(pickup_hour)[T.13]                         -1.203e+08   1.82e+08     -0.661      0.509   -4.77e+08    2.37e+08\n",
      "C(pickup_hour)[T.14]                         -1.203e+08   1.82e+08     -0.661      0.509   -4.77e+08    2.37e+08\n",
      "C(pickup_hour)[T.15]                         -1.203e+08   1.82e+08     -0.661      0.509   -4.77e+08    2.37e+08\n",
      "C(pickup_hour)[T.16]                         -1.203e+08   1.82e+08     -0.661      0.509   -4.77e+08    2.37e+08\n",
      "C(pickup_hour)[T.17]                         -1.203e+08   1.82e+08     -0.661      0.509   -4.77e+08    2.37e+08\n",
      "C(pickup_hour)[T.18]                          1.477e+08   2.24e+08      0.661      0.509    -2.9e+08    5.86e+08\n",
      "C(pickup_hour)[T.19]                          1.477e+08   2.24e+08      0.661      0.509    -2.9e+08    5.86e+08\n",
      "C(pickup_hour)[T.20]                          1.477e+08   2.24e+08      0.661      0.509    -2.9e+08    5.86e+08\n",
      "C(pickup_hour)[T.21]                          1.477e+08   2.24e+08      0.661      0.509    -2.9e+08    5.86e+08\n",
      "C(pickup_hour)[T.22]                          1.477e+08   2.24e+08      0.661      0.509    -2.9e+08    5.86e+08\n",
      "C(pickup_hour)[T.23]                          1.477e+08   2.24e+08      0.661      0.509    -2.9e+08    5.86e+08\n",
      "vendor_id                                     6.075e-05      0.001      0.095      0.924      -0.001       0.001\n",
      "passenger_count                                  0.0047      0.000     19.282      0.000       0.004       0.005\n",
      "scale(pickup_latitude)                           0.0030      0.001      2.180      0.029       0.000       0.006\n",
      "scale(pickup_longitude)                         -0.0444      0.002    -21.889      0.000      -0.048      -0.040\n",
      "scale(dropoff_latitude)                         -0.0354      0.001    -31.201      0.000      -0.038      -0.033\n",
      "scale(dropoff_longitude)                        -0.1165      0.001    -86.483      0.000      -0.119      -0.114\n",
      "pickup_dayofyear                                 0.0006   5.93e-06     93.912      0.000       0.001       0.001\n",
      "np.log1p(distance)                               1.2450      0.001   1121.315      0.000       1.243       1.247\n",
      "number_of_steps                                  0.0224      0.000    183.516      0.000       0.022       0.023\n",
      "avg_speed_h                                     -0.0496      0.000   -302.819      0.000      -0.050      -0.049\n",
      "scale(bearing)                                   0.0323      0.000     80.641      0.000       0.032       0.033\n",
      "==============================================================================\n",
      "Omnibus:                   124313.332   Durbin-Watson:                   2.000\n",
      "Prob(Omnibus):                  0.000   Jarque-Bera (JB):           885234.003\n",
      "Skew:                          -0.029   Prob(JB):                         0.00\n",
      "Kurtosis:                       6.917   Cond. No.                     2.01e+15\n",
      "==============================================================================\n",
      "\n",
      "Warnings:\n",
      "[1] Standard Errors assume that the covariance matrix of the errors is correctly specified.\n",
      "[2] The smallest eigenvalue is 3.86e-21. This might indicate that there are\n",
      "strong multicollinearity problems or that the design matrix is singular.\n"
     ]
    }
   ],
   "source": [
    "model_02 = sm.OLS.from_formula(\"log_trip_duration ~ vendor_id + passenger_count + C(harsh_weather) +\" \n",
    "                            \"C(pickup_cluster) + C(dropoff_cluster) + C(work_hour) + C(pickup_weekday) + C(pickup_hour) + \"\n",
    "                            \"scale(pickup_latitude) + scale(pickup_longitude) + scale(dropoff_latitude) + scale(dropoff_longitude) +\"\n",
    "                            \"pickup_dayofyear + np.log1p(distance) + number_of_steps + avg_speed_h + scale(bearing) +0 \", train_ro)\n",
    "result_02 = model_02.fit()\n",
    "print(result_02.summary())"
   ]
  },
  {
   "cell_type": "code",
   "execution_count": 10,
   "metadata": {},
   "outputs": [
    {
     "data": {
      "image/png": "[encoded data removed]",
      "text/plain": [
       "<matplotlib.figure.Figure at 0x10f907a20>"
      ]
     },
     "metadata": {},
     "output_type": "display_data"
    }
   ],
   "source": [
    "fig, (ax1, ax2) = plt.subplots(1, 2, figsize=(12,8))\n",
    "\n",
    "sp.stats.probplot(train[\"log_trip_duration\"], plot = ax1)\n",
    "ax1.set_title(\"Log Trip Duration Q-Q Plot\")\n",
    "sp.stats.probplot(result_02.resid, plot = ax2)\n",
    "ax2.set_title(\"Residual Q-Q Plot\")\n",
    "plt.show()"
   ]
  },
  {
   "cell_type": "code",
   "execution_count": null,
   "metadata": {},
   "outputs": [],
   "source": []
  },
  {
   "cell_type": "code",
   "execution_count": 11,
   "metadata": {},
   "outputs": [],
   "source": [
    "y, X = dmatrices(\"log_trip_duration ~ vendor_id + passenger_count + C(harsh_weather) +\" \n",
    "                 \"C(pickup_cluster) + C(dropoff_cluster) + C(work_hour) + C(pickup_weekday) + C(pickup_hour) + \"\n",
    "                 \"scale(pickup_latitude) + scale(pickup_longitude) + scale(dropoff_latitude) + scale(dropoff_longitude) +\"\n",
    "                 \"pickup_dayofyear + np.log1p(distance) + number_of_steps + avg_speed_h + scale(bearing) - 1\", train_ro, return_type=\"dataframe\")"
   ]
  },
  {
   "cell_type": "code",
   "execution_count": 42,
   "metadata": {},
   "outputs": [],
   "source": [
    "X_test = dmatrix(\"vendor_id + passenger_count + C(harsh_weather) +\"\n",
    "                 \"C(pickup_cluster) + C(dropoff_cluster) + C(work_hour) + C(pickup_weekday) + C(pickup_hour) + \"\n",
    "                 \"scale(pickup_latitude) + scale(pickup_longitude) + scale(dropoff_latitude) + scale(dropoff_longitude) +\"\n",
    "                 \"pickup_dayofyear + np.log1p(distance) + number_of_steps + avg_speed_h + scale(bearing) - 1\", test, return_type=\"dataframe\")"
   ]
  },
  {
   "cell_type": "code",
   "execution_count": 12,
   "metadata": {
    "scrolled": true
   },
   "outputs": [
    {
     "name": "stderr",
     "output_type": "stream",
     "text": [
      "/usr/local/lib/python3.6/site-packages/scipy/linalg/basic.py:1226: RuntimeWarning: internal gelsd driver lwork query error, required iwork dimension not returned. This is likely the result of LAPACK bug 0038, fixed in LAPACK 3.2.2 (released July 21, 2010). Falling back to 'gelss' driver.\n",
      "  warnings.warn(mesg, RuntimeWarning)\n"
     ]
    }
   ],
   "source": [
    "model_lr = LinearRegression().fit(X, y)\n",
    "model_ridge = Ridge().fit(X, y)"
   ]
  },
  {
   "cell_type": "code",
   "execution_count": 17,
   "metadata": {},
   "outputs": [
    {
     "name": "stdout",
     "output_type": "stream",
     "text": [
      "[ R2 ]\n",
      "Scores:  [0.76896554 0.76908093 0.76994288 0.75996927 0.69519352]\n",
      "Mean: 0.7526304278714415\n",
      "------------------------------------------------------------------------------------------\n",
      "[ RMSLE ]\n",
      "Scores:  [0.04670667 0.0466686  0.04661602 0.04918951 0.06501237]\n",
      "Mean: 0.05083863498513631\n",
      "------------------------------------------------------------------------------------------\n"
     ]
    }
   ],
   "source": [
    "cv = KFold(5)\n",
    "\n",
    "print(\"[ R2 ]\")\n",
    "print(\"Scores: \", cross_val_score(model_lr, X, y, scoring=\"r2\", cv=cv))\n",
    "print(\"Mean:\", np.mean(cross_val_score(model_lr, X, y, scoring=\"r2\", cv=cv)))\n",
    "print(\"-\"*90)\n",
    "print(\"[ RMSE ]\")\n",
    "print(\"Scores: \", cross_val_score(model_lr, X, y, scoring=rmse_scorer, cv=cv))\n",
    "print(\"Mean:\", np.mean(cross_val_score(model_lr, X, y, scoring=rmse_scorer, cv=cv)))\n",
    "print(\"-\"*90)"
   ]
  },
  {
   "cell_type": "markdown",
   "metadata": {},
   "source": [
    "**Observe:**\n",
    "  * Cook's Distance를 통해서 Outlier를 제거 후 0.5정도 $R^2$의 상승을 보였다."
   ]
  },
  {
   "cell_type": "markdown",
   "metadata": {},
   "source": [
    "### Submission"
   ]
  },
  {
   "cell_type": "code",
   "execution_count": 18,
   "metadata": {},
   "outputs": [],
   "source": [
    "X_test = dmatrix(\"vendor_id + passenger_count + C(harsh_weather) +\"\n",
    "                 \"C(pickup_cluster) + C(dropoff_cluster) + C(work_hour) + C(pickup_weekday) + C(pickup_hour) + \"\n",
    "                 \"scale(pickup_latitude) + scale(pickup_longitude) + scale(dropoff_latitude) + scale(dropoff_longitude) +\"\n",
    "                 \"pickup_dayofyear + np.log1p(distance) + number_of_steps + avg_speed_h + scale(bearing) - 1\", test, return_type=\"dataframe\")"
   ]
  },
  {
   "cell_type": "code",
   "execution_count": 19,
   "metadata": {},
   "outputs": [],
   "source": [
    "pred = model_lr.predict(X_test)"
   ]
  },
  {
   "cell_type": "code",
   "execution_count": 20,
   "metadata": {},
   "outputs": [],
   "source": [
    "import datetime\n",
    "now = datetime.datetime.now()\n",
    "submission_kaggle = pd.read_csv(\"sample_submission.csv\")\n",
    "submission_kaggle[\"trip_duration\"] = np.expm1(pred)\n",
    "submission_kaggle.to_csv(\"submission_0{}0{}{}{}.csv.gz\".format(now.month, now.day, now.hour, now.minute), index=False, compression='gzip')"
   ]
  },
  {
   "cell_type": "code",
   "execution_count": null,
   "metadata": {},
   "outputs": [],
   "source": []
  },
  {
   "cell_type": "code",
   "execution_count": 61,
   "metadata": {},
   "outputs": [
    {
     "data": {
      "text/plain": [
       "51211"
      ]
     },
     "execution_count": 61,
     "metadata": {},
     "output_type": "execute_result"
    }
   ],
   "source": [
    "influence = result_02.get_influence()\n",
    "cooks_d2, pvals = influence.cooks_distance\n",
    "fox_cr = 4 / (len(train) - 70)\n",
    "\n",
    "idx_cooks = np.where(cooks_d2 > fox_cr)[0]\n",
    "len(idx_cooks)"
   ]
  },
  {
   "cell_type": "code",
   "execution_count": 62,
   "metadata": {},
   "outputs": [],
   "source": [
    "train_ro2 = train_ro.copy()"
   ]
  },
  {
   "cell_type": "code",
   "execution_count": 70,
   "metadata": {},
   "outputs": [
    {
     "name": "stdout",
     "output_type": "stream",
     "text": [
      "1332859\n"
     ]
    },
    {
     "data": {
      "text/html": [
       "<div>\n",
       "<style scoped>\n",
       "    .dataframe tbody tr th:only-of-type {\n",
       "        vertical-align: middle;\n",
       "    }\n",
       "\n",
       "    .dataframe tbody tr th {\n",
       "        vertical-align: top;\n",
       "    }\n",
       "\n",
       "    .dataframe thead th {\n",
       "        text-align: right;\n",
       "    }\n",
       "</style>\n",
       "<table border=\"1\" class=\"dataframe\">\n",
       "  <thead>\n",
       "    <tr style=\"text-align: right;\">\n",
       "      <th></th>\n",
       "      <th>id</th>\n",
       "      <th>vendor_id</th>\n",
       "      <th>pickup_datetime</th>\n",
       "      <th>dropoff_datetime</th>\n",
       "      <th>passenger_count</th>\n",
       "      <th>pickup_longitude</th>\n",
       "      <th>pickup_latitude</th>\n",
       "      <th>dropoff_longitude</th>\n",
       "      <th>dropoff_latitude</th>\n",
       "      <th>store_and_fwd_flag</th>\n",
       "      <th>trip_duration</th>\n",
       "      <th>log_trip_duration</th>\n",
       "      <th>pickup_date</th>\n",
       "      <th>pickup_month</th>\n",
       "      <th>pickup_day</th>\n",
       "      <th>pickup_weekday</th>\n",
       "      <th>pickup_hour</th>\n",
       "      <th>pickup_weekofyear</th>\n",
       "      <th>pickup_dayofyear</th>\n",
       "      <th>harsh_weather</th>\n",
       "      <th>distance</th>\n",
       "      <th>number_of_steps</th>\n",
       "      <th>pickup_cluster</th>\n",
       "      <th>dropoff_cluster</th>\n",
       "      <th>avg_speed_h</th>\n",
       "      <th>speed(km/h)</th>\n",
       "      <th>work_hour</th>\n",
       "      <th>bearing</th>\n",
       "    </tr>\n",
       "  </thead>\n",
       "  <tbody>\n",
       "    <tr>\n",
       "      <th>1332854</th>\n",
       "      <td>id2376096</td>\n",
       "      <td>2</td>\n",
       "      <td>2016-04-08 13:31:04</td>\n",
       "      <td>2016-04-08 13:44:02</td>\n",
       "      <td>4</td>\n",
       "      <td>-73.982201</td>\n",
       "      <td>40.745522</td>\n",
       "      <td>-73.994911</td>\n",
       "      <td>40.740170</td>\n",
       "      <td>N</td>\n",
       "      <td>778</td>\n",
       "      <td>6.658011</td>\n",
       "      <td>2016-04-08</td>\n",
       "      <td>4</td>\n",
       "      <td>8</td>\n",
       "      <td>4</td>\n",
       "      <td>13</td>\n",
       "      <td>14</td>\n",
       "      <td>99</td>\n",
       "      <td>False</td>\n",
       "      <td>1.225080</td>\n",
       "      <td>8.0</td>\n",
       "      <td>Queens</td>\n",
       "      <td>Morningside height</td>\n",
       "      <td>12.542891</td>\n",
       "      <td>5.668751</td>\n",
       "      <td>work</td>\n",
       "      <td>-178.201176</td>\n",
       "    </tr>\n",
       "    <tr>\n",
       "      <th>1332855</th>\n",
       "      <td>id1049543</td>\n",
       "      <td>1</td>\n",
       "      <td>2016-01-10 07:35:15</td>\n",
       "      <td>2016-01-10 07:46:10</td>\n",
       "      <td>1</td>\n",
       "      <td>-74.000946</td>\n",
       "      <td>40.747379</td>\n",
       "      <td>-73.970184</td>\n",
       "      <td>40.796547</td>\n",
       "      <td>N</td>\n",
       "      <td>655</td>\n",
       "      <td>6.486161</td>\n",
       "      <td>2016-01-10</td>\n",
       "      <td>1</td>\n",
       "      <td>10</td>\n",
       "      <td>6</td>\n",
       "      <td>7</td>\n",
       "      <td>1</td>\n",
       "      <td>10</td>\n",
       "      <td>False</td>\n",
       "      <td>6.049836</td>\n",
       "      <td>11.0</td>\n",
       "      <td>Morningside height</td>\n",
       "      <td>LaGuardia</td>\n",
       "      <td>20.142061</td>\n",
       "      <td>33.251005</td>\n",
       "      <td>before_work</td>\n",
       "      <td>0.473628</td>\n",
       "    </tr>\n",
       "    <tr>\n",
       "      <th>1332856</th>\n",
       "      <td>id2304944</td>\n",
       "      <td>2</td>\n",
       "      <td>2016-04-22 06:57:41</td>\n",
       "      <td>2016-04-22 07:10:25</td>\n",
       "      <td>1</td>\n",
       "      <td>-73.959129</td>\n",
       "      <td>40.768799</td>\n",
       "      <td>-74.004433</td>\n",
       "      <td>40.707371</td>\n",
       "      <td>N</td>\n",
       "      <td>764</td>\n",
       "      <td>6.639876</td>\n",
       "      <td>2016-04-22</td>\n",
       "      <td>4</td>\n",
       "      <td>22</td>\n",
       "      <td>4</td>\n",
       "      <td>6</td>\n",
       "      <td>16</td>\n",
       "      <td>113</td>\n",
       "      <td>False</td>\n",
       "      <td>7.824606</td>\n",
       "      <td>10.0</td>\n",
       "      <td>Chelsea</td>\n",
       "      <td>Harlem</td>\n",
       "      <td>24.263705</td>\n",
       "      <td>36.869870</td>\n",
       "      <td>before_work</td>\n",
       "      <td>-179.440954</td>\n",
       "    </tr>\n",
       "    <tr>\n",
       "      <th>1332857</th>\n",
       "      <td>id2714485</td>\n",
       "      <td>1</td>\n",
       "      <td>2016-01-05 15:56:26</td>\n",
       "      <td>2016-01-05 16:02:39</td>\n",
       "      <td>1</td>\n",
       "      <td>-73.982079</td>\n",
       "      <td>40.749062</td>\n",
       "      <td>-73.974632</td>\n",
       "      <td>40.757107</td>\n",
       "      <td>N</td>\n",
       "      <td>373</td>\n",
       "      <td>5.924256</td>\n",
       "      <td>2016-01-05</td>\n",
       "      <td>1</td>\n",
       "      <td>5</td>\n",
       "      <td>1</td>\n",
       "      <td>15</td>\n",
       "      <td>1</td>\n",
       "      <td>5</td>\n",
       "      <td>False</td>\n",
       "      <td>1.092564</td>\n",
       "      <td>7.0</td>\n",
       "      <td>Queens</td>\n",
       "      <td>Uppe East Side</td>\n",
       "      <td>11.708075</td>\n",
       "      <td>10.544853</td>\n",
       "      <td>work</td>\n",
       "      <td>0.701060</td>\n",
       "    </tr>\n",
       "    <tr>\n",
       "      <th>1332858</th>\n",
       "      <td>id1209952</td>\n",
       "      <td>1</td>\n",
       "      <td>2016-04-05 14:44:25</td>\n",
       "      <td>2016-04-05 14:47:43</td>\n",
       "      <td>1</td>\n",
       "      <td>-73.979538</td>\n",
       "      <td>40.781750</td>\n",
       "      <td>-73.972809</td>\n",
       "      <td>40.790585</td>\n",
       "      <td>N</td>\n",
       "      <td>198</td>\n",
       "      <td>5.293305</td>\n",
       "      <td>2016-04-05</td>\n",
       "      <td>4</td>\n",
       "      <td>5</td>\n",
       "      <td>1</td>\n",
       "      <td>14</td>\n",
       "      <td>14</td>\n",
       "      <td>96</td>\n",
       "      <td>False</td>\n",
       "      <td>1.134042</td>\n",
       "      <td>2.0</td>\n",
       "      <td>LaGuardia</td>\n",
       "      <td>LaGuardia</td>\n",
       "      <td>15.176490</td>\n",
       "      <td>20.618945</td>\n",
       "      <td>work</td>\n",
       "      <td>0.576634</td>\n",
       "    </tr>\n",
       "  </tbody>\n",
       "</table>\n",
       "</div>"
      ],
      "text/plain": [
       "                id  vendor_id      pickup_datetime     dropoff_datetime  \\\n",
       "1332854  id2376096          2  2016-04-08 13:31:04  2016-04-08 13:44:02   \n",
       "1332855  id1049543          1  2016-01-10 07:35:15  2016-01-10 07:46:10   \n",
       "1332856  id2304944          2  2016-04-22 06:57:41  2016-04-22 07:10:25   \n",
       "1332857  id2714485          1  2016-01-05 15:56:26  2016-01-05 16:02:39   \n",
       "1332858  id1209952          1  2016-04-05 14:44:25  2016-04-05 14:47:43   \n",
       "\n",
       "         passenger_count  pickup_longitude  pickup_latitude  \\\n",
       "1332854                4        -73.982201        40.745522   \n",
       "1332855                1        -74.000946        40.747379   \n",
       "1332856                1        -73.959129        40.768799   \n",
       "1332857                1        -73.982079        40.749062   \n",
       "1332858                1        -73.979538        40.781750   \n",
       "\n",
       "         dropoff_longitude  dropoff_latitude store_and_fwd_flag  \\\n",
       "1332854         -73.994911         40.740170                  N   \n",
       "1332855         -73.970184         40.796547                  N   \n",
       "1332856         -74.004433         40.707371                  N   \n",
       "1332857         -73.974632         40.757107                  N   \n",
       "1332858         -73.972809         40.790585                  N   \n",
       "\n",
       "         trip_duration  log_trip_duration pickup_date  pickup_month  \\\n",
       "1332854            778           6.658011  2016-04-08             4   \n",
       "1332855            655           6.486161  2016-01-10             1   \n",
       "1332856            764           6.639876  2016-04-22             4   \n",
       "1332857            373           5.924256  2016-01-05             1   \n",
       "1332858            198           5.293305  2016-04-05             4   \n",
       "\n",
       "         pickup_day  pickup_weekday  pickup_hour  pickup_weekofyear  \\\n",
       "1332854           8               4           13                 14   \n",
       "1332855          10               6            7                  1   \n",
       "1332856          22               4            6                 16   \n",
       "1332857           5               1           15                  1   \n",
       "1332858           5               1           14                 14   \n",
       "\n",
       "         pickup_dayofyear  harsh_weather  distance  number_of_steps  \\\n",
       "1332854                99          False  1.225080              8.0   \n",
       "1332855                10          False  6.049836             11.0   \n",
       "1332856               113          False  7.824606             10.0   \n",
       "1332857                 5          False  1.092564              7.0   \n",
       "1332858                96          False  1.134042              2.0   \n",
       "\n",
       "             pickup_cluster     dropoff_cluster  avg_speed_h  speed(km/h)  \\\n",
       "1332854              Queens  Morningside height    12.542891     5.668751   \n",
       "1332855  Morningside height           LaGuardia    20.142061    33.251005   \n",
       "1332856             Chelsea              Harlem    24.263705    36.869870   \n",
       "1332857              Queens      Uppe East Side    11.708075    10.544853   \n",
       "1332858           LaGuardia           LaGuardia    15.176490    20.618945   \n",
       "\n",
       "           work_hour     bearing  \n",
       "1332854         work -178.201176  \n",
       "1332855  before_work    0.473628  \n",
       "1332856  before_work -179.440954  \n",
       "1332857         work    0.701060  \n",
       "1332858         work    0.576634  "
      ]
     },
     "execution_count": 70,
     "metadata": {},
     "output_type": "execute_result"
    }
   ],
   "source": [
    "train_ro2.drop(idx_cooks, inplace=True)\n",
    "train_ro2.reset_index(drop=True, inplace=True)\n",
    "print(len(train_ro2))\n",
    "train_ro2.tail()"
   ]
  },
  {
   "cell_type": "code",
   "execution_count": 65,
   "metadata": {},
   "outputs": [
    {
     "name": "stdout",
     "output_type": "stream",
     "text": [
      "                            OLS Regression Results                            \n",
      "==============================================================================\n",
      "Dep. Variable:      log_trip_duration   R-squared:                       0.766\n",
      "Model:                            OLS   Adj. R-squared:                  0.766\n",
      "Method:                 Least Squares   F-statistic:                 6.311e+04\n",
      "Date:                Thu, 03 May 2018   Prob (F-statistic):               0.00\n",
      "Time:                        18:17:42   Log-Likelihood:            -4.5779e+05\n",
      "No. Observations:             1332858   AIC:                         9.157e+05\n",
      "Df Residuals:                 1332788   BIC:                         9.166e+05\n",
      "Df Model:                          69                                         \n",
      "Covariance Type:            nonrobust                                         \n",
      "================================================================================================================\n",
      "                                                   coef    std err          t      P>|t|      [0.025      0.975]\n",
      "----------------------------------------------------------------------------------------------------------------\n",
      "C(harsh_weather)[False]                       -5.47e+07   8.16e+07     -0.670      0.503   -2.15e+08    1.05e+08\n",
      "C(harsh_weather)[True]                        -5.47e+07   8.16e+07     -0.670      0.503   -2.15e+08    1.05e+08\n",
      "C(pickup_cluster)[T.Brooklyn-Williamsburgt]      0.2454      0.019     13.243      0.000       0.209       0.282\n",
      "C(pickup_cluster)[T.Chelsea]                    -0.0246      0.003     -8.238      0.000      -0.030      -0.019\n",
      "C(pickup_cluster)[T.East Harlem]                -0.1739      0.006    -28.954      0.000      -0.186      -0.162\n",
      "C(pickup_cluster)[T.Gramercy]                    0.0215      0.006      3.851      0.000       0.011       0.032\n",
      "C(pickup_cluster)[T.Harlem]                     -0.1412      0.006    -24.254      0.000      -0.153      -0.130\n",
      "C(pickup_cluster)[T.JFK]                        -0.0118      0.007     -1.590      0.112      -0.026       0.003\n",
      "C(pickup_cluster)[T.LaGuardia]                  -0.0804      0.003    -26.585      0.000      -0.086      -0.074\n",
      "C(pickup_cluster)[T.Midtown]                    -0.0122      0.005     -2.478      0.013      -0.022      -0.003\n",
      "C(pickup_cluster)[T.Morningside height]         -0.0636      0.005    -13.319      0.000      -0.073      -0.054\n",
      "C(pickup_cluster)[T.Queens]                     -0.0376      0.004     -8.990      0.000      -0.046      -0.029\n",
      "C(pickup_cluster)[T.Queens-Astoria]              0.1174      0.007     17.365      0.000       0.104       0.131\n",
      "C(pickup_cluster)[T.Soho]                       -0.0998      0.014     -7.285      0.000      -0.127      -0.073\n",
      "C(pickup_cluster)[T.Uppe East Side]             -0.0124      0.004     -3.485      0.000      -0.019      -0.005\n",
      "C(pickup_cluster)[T.Upper West Side]            -0.0323      0.004     -8.784      0.000      -0.040      -0.025\n",
      "C(dropoff_cluster)[T.Brooklyn-Williamsburgt]     0.2912      0.008     37.083      0.000       0.276       0.307\n",
      "C(dropoff_cluster)[T.Chelsea]                   -0.1165      0.002    -49.778      0.000      -0.121      -0.112\n",
      "C(dropoff_cluster)[T.East Harlem]               -0.0095      0.005     -2.027      0.043      -0.019      -0.000\n",
      "C(dropoff_cluster)[T.Gramercy]                   0.0520      0.004     13.587      0.000       0.045       0.060\n",
      "C(dropoff_cluster)[T.Harlem]                    -0.3726      0.005    -76.710      0.000      -0.382      -0.363\n",
      "C(dropoff_cluster)[T.JFK]                       -0.3531      0.006    -61.026      0.000      -0.364      -0.342\n",
      "C(dropoff_cluster)[T.LaGuardia]                 -0.2051      0.002    -83.474      0.000      -0.210      -0.200\n",
      "C(dropoff_cluster)[T.Midtown]                   -0.2397      0.004    -57.927      0.000      -0.248      -0.232\n",
      "C(dropoff_cluster)[T.Morningside height]        -0.2812      0.004    -69.836      0.000      -0.289      -0.273\n",
      "C(dropoff_cluster)[T.Queens]                    -0.1649      0.004    -46.674      0.000      -0.172      -0.158\n",
      "C(dropoff_cluster)[T.Queens-Astoria]            -0.1700      0.005    -34.745      0.000      -0.180      -0.160\n",
      "C(dropoff_cluster)[T.Soho]                       0.0622      0.010      6.128      0.000       0.042       0.082\n",
      "C(dropoff_cluster)[T.Uppe East Side]            -0.1102      0.003    -36.465      0.000      -0.116      -0.104\n",
      "C(dropoff_cluster)[T.Upper West Side]           -0.1442      0.003    -45.437      0.000      -0.150      -0.138\n",
      "C(work_hour)[T.before_work]                    5.47e+07   8.16e+07      0.670      0.503   -1.05e+08    2.15e+08\n",
      "C(work_hour)[T.work]                          1.153e+08   1.72e+08      0.670      0.503   -2.22e+08    4.53e+08\n",
      "C(pickup_weekday)[T.1]                           0.0915      0.001     80.095      0.000       0.089       0.094\n",
      "C(pickup_weekday)[T.2]                           0.1177      0.001    103.800      0.000       0.115       0.120\n",
      "C(pickup_weekday)[T.3]                           0.1278      0.001    113.635      0.000       0.126       0.130\n",
      "C(pickup_weekday)[T.4]                           0.1105      0.001     98.578      0.000       0.108       0.113\n",
      "C(pickup_weekday)[T.5]                           0.0081      0.001      7.120      0.000       0.006       0.010\n",
      "C(pickup_weekday)[T.6]                          -0.0872      0.001    -74.386      0.000      -0.089      -0.085\n",
      "C(pickup_hour)[T.1]                             -0.0434      0.002    -17.875      0.000      -0.048      -0.039\n",
      "C(pickup_hour)[T.2]                             -0.0795      0.003    -29.398      0.000      -0.085      -0.074\n",
      "C(pickup_hour)[T.3]                             -0.1180      0.003    -38.988      0.000      -0.124      -0.112\n",
      "C(pickup_hour)[T.4]                             -0.1892      0.003    -55.107      0.000      -0.196      -0.183\n",
      "C(pickup_hour)[T.5]                             -0.2925      0.003    -84.394      0.000      -0.299      -0.286\n",
      "C(pickup_hour)[T.6]                             -0.2077      0.003    -81.388      0.000      -0.213      -0.203\n",
      "C(pickup_hour)[T.7]                              0.0419      0.002     18.902      0.000       0.038       0.046\n",
      "C(pickup_hour)[T.8]                          -6.064e+07   9.05e+07     -0.670      0.503   -2.38e+08    1.17e+08\n",
      "C(pickup_hour)[T.9]                          -6.064e+07   9.05e+07     -0.670      0.503   -2.38e+08    1.17e+08\n",
      "C(pickup_hour)[T.10]                         -6.064e+07   9.05e+07     -0.670      0.503   -2.38e+08    1.17e+08\n",
      "C(pickup_hour)[T.11]                         -6.064e+07   9.05e+07     -0.670      0.503   -2.38e+08    1.17e+08\n",
      "C(pickup_hour)[T.12]                         -6.064e+07   9.05e+07     -0.670      0.503   -2.38e+08    1.17e+08\n",
      "C(pickup_hour)[T.13]                         -6.064e+07   9.05e+07     -0.670      0.503   -2.38e+08    1.17e+08\n",
      "C(pickup_hour)[T.14]                         -6.064e+07   9.05e+07     -0.670      0.503   -2.38e+08    1.17e+08\n",
      "C(pickup_hour)[T.15]                         -6.064e+07   9.05e+07     -0.670      0.503   -2.38e+08    1.17e+08\n",
      "C(pickup_hour)[T.16]                         -6.064e+07   9.05e+07     -0.670      0.503   -2.38e+08    1.17e+08\n",
      "C(pickup_hour)[T.17]                         -6.064e+07   9.05e+07     -0.670      0.503   -2.38e+08    1.17e+08\n",
      "C(pickup_hour)[T.18]                           5.47e+07   8.16e+07      0.670      0.503   -1.05e+08    2.15e+08\n",
      "C(pickup_hour)[T.19]                           5.47e+07   8.16e+07      0.670      0.503   -1.05e+08    2.15e+08\n",
      "C(pickup_hour)[T.20]                           5.47e+07   8.16e+07      0.670      0.503   -1.05e+08    2.15e+08\n",
      "C(pickup_hour)[T.21]                           5.47e+07   8.16e+07      0.670      0.503   -1.05e+08    2.15e+08\n",
      "C(pickup_hour)[T.22]                           5.47e+07   8.16e+07      0.670      0.503   -1.05e+08    2.15e+08\n",
      "C(pickup_hour)[T.23]                           5.47e+07   8.16e+07      0.670      0.503   -1.05e+08    2.15e+08\n",
      "vendor_id                                       -0.0010      0.001     -1.568      0.117      -0.002       0.000\n",
      "passenger_count                                  0.0046      0.000     19.439      0.000       0.004       0.005\n",
      "scale(pickup_latitude)                           0.0044      0.001      3.237      0.001       0.002       0.007\n",
      "scale(pickup_longitude)                         -0.0467      0.002    -23.749      0.000      -0.051      -0.043\n",
      "scale(dropoff_latitude)                         -0.0383      0.001    -34.603      0.000      -0.040      -0.036\n",
      "scale(dropoff_longitude)                        -0.1187      0.001    -91.143      0.000      -0.121      -0.116\n",
      "pickup_dayofyear                                 0.0006   5.76e-06     97.067      0.000       0.001       0.001\n",
      "np.log1p(distance)                               1.2475      0.001   1152.005      0.000       1.245       1.250\n",
      "number_of_steps                                  0.0225      0.000    188.986      0.000       0.022       0.023\n",
      "avg_speed_h                                     -0.0500      0.000   -312.725      0.000      -0.050      -0.050\n",
      "scale(bearing)                                   0.0310      0.000     79.602      0.000       0.030       0.032\n",
      "==============================================================================\n",
      "Omnibus:                   137107.220   Durbin-Watson:                   1.999\n",
      "Prob(Omnibus):                  0.000   Jarque-Bera (JB):          1183908.315\n",
      "Skew:                          -0.025   Prob(JB):                         0.00\n",
      "Kurtosis:                       7.617   Cond. No.                     1.46e+15\n",
      "==============================================================================\n",
      "\n",
      "Warnings:\n",
      "[1] Standard Errors assume that the covariance matrix of the errors is correctly specified.\n",
      "[2] The smallest eigenvalue is 7.08e-21. This might indicate that there are\n",
      "strong multicollinearity problems or that the design matrix is singular.\n"
     ]
    }
   ],
   "source": [
    "model_03 = sm.OLS.from_formula(\"log_trip_duration ~ vendor_id + passenger_count + C(harsh_weather) +\" \n",
    "                            \"C(pickup_cluster) + C(dropoff_cluster) + C(work_hour) + C(pickup_weekday) + C(pickup_hour) + \"\n",
    "                            \"scale(pickup_latitude) + scale(pickup_longitude) + scale(dropoff_latitude) + scale(dropoff_longitude) +\"\n",
    "                            \"pickup_dayofyear + np.log1p(distance) + number_of_steps + avg_speed_h + scale(bearing) +0 \", train_ro2)\n",
    "result_03 = model_03.fit()\n",
    "print(result_03.summary())"
   ]
  },
  {
   "cell_type": "markdown",
   "metadata": {},
   "source": [
    "**Observe:**\n",
    "  * 2회 제거 후 OLS결과, $R^2$는 0.16증가 하였으나, F-test Scores는 떨어짐\n",
    "  * 1회 제거한 데이터를 활용"
   ]
  },
  {
   "cell_type": "code",
   "execution_count": null,
   "metadata": {},
   "outputs": [],
   "source": []
  },
  {
   "cell_type": "code",
   "execution_count": null,
   "metadata": {},
   "outputs": [],
   "source": []
  },
  {
   "cell_type": "markdown",
   "metadata": {},
   "source": [
    "## 3 Random Forest"
   ]
  },
  {
   "cell_type": "markdown",
   "metadata": {},
   "source": [
    "### 3.1 Data Preprocessing for Modeling"
   ]
  },
  {
   "cell_type": "code",
   "execution_count": 36,
   "metadata": {},
   "outputs": [],
   "source": [
    "dfX_train = train_ro.copy()\n",
    "dfX_test = test.copy()\n",
    "dfy_train = train_ro.log_trip_duration.values"
   ]
  },
  {
   "cell_type": "code",
   "execution_count": 37,
   "metadata": {},
   "outputs": [],
   "source": [
    "dfX_train = dfX_train.drop(columns=['id', 'pickup_datetime', 'dropoff_datetime', 'pickup_date', 'trip_duration', 'log_trip_duration', 'speed(km/h)'])\n",
    "dfX_test = dfX_test.drop(columns=['id', 'pickup_datetime', 'pickup_date'])"
   ]
  },
  {
   "cell_type": "code",
   "execution_count": 38,
   "metadata": {},
   "outputs": [
    {
     "name": "stdout",
     "output_type": "stream",
     "text": [
      "(1384070, 21) (625134, 21)\n"
     ]
    }
   ],
   "source": [
    "print(dfX_train.shape, dfX_test.shape)"
   ]
  },
  {
   "cell_type": "code",
   "execution_count": 13,
   "metadata": {
    "scrolled": false
   },
   "outputs": [
    {
     "data": {
      "text/html": [
       "<div>\n",
       "<style scoped>\n",
       "    .dataframe tbody tr th:only-of-type {\n",
       "        vertical-align: middle;\n",
       "    }\n",
       "\n",
       "    .dataframe tbody tr th {\n",
       "        vertical-align: top;\n",
       "    }\n",
       "\n",
       "    .dataframe thead th {\n",
       "        text-align: right;\n",
       "    }\n",
       "</style>\n",
       "<table border=\"1\" class=\"dataframe\">\n",
       "  <thead>\n",
       "    <tr style=\"text-align: right;\">\n",
       "      <th></th>\n",
       "      <th>vendor_id</th>\n",
       "      <th>passenger_count</th>\n",
       "      <th>pickup_longitude</th>\n",
       "      <th>pickup_latitude</th>\n",
       "      <th>dropoff_longitude</th>\n",
       "      <th>dropoff_latitude</th>\n",
       "      <th>store_and_fwd_flag</th>\n",
       "      <th>trip_duration</th>\n",
       "      <th>log_trip_duration</th>\n",
       "      <th>pickup_month</th>\n",
       "      <th>pickup_day</th>\n",
       "      <th>pickup_weekday</th>\n",
       "      <th>pickup_hour</th>\n",
       "      <th>pickup_weekofyear</th>\n",
       "      <th>pickup_dayofyear</th>\n",
       "      <th>harsh_weather</th>\n",
       "      <th>distance</th>\n",
       "      <th>number_of_steps</th>\n",
       "      <th>pickup_cluster</th>\n",
       "      <th>dropoff_cluster</th>\n",
       "      <th>avg_speed_h</th>\n",
       "      <th>work_hour</th>\n",
       "      <th>bearing</th>\n",
       "    </tr>\n",
       "  </thead>\n",
       "  <tbody>\n",
       "    <tr>\n",
       "      <th>0</th>\n",
       "      <td>2</td>\n",
       "      <td>1</td>\n",
       "      <td>-73.982155</td>\n",
       "      <td>40.767937</td>\n",
       "      <td>-73.964630</td>\n",
       "      <td>40.765602</td>\n",
       "      <td>N</td>\n",
       "      <td>455</td>\n",
       "      <td>6.122493</td>\n",
       "      <td>3</td>\n",
       "      <td>14</td>\n",
       "      <td>0</td>\n",
       "      <td>17</td>\n",
       "      <td>11</td>\n",
       "      <td>74</td>\n",
       "      <td>False</td>\n",
       "      <td>1.498521</td>\n",
       "      <td>5.0</td>\n",
       "      <td>Upper West Side</td>\n",
       "      <td>Uppe East Side</td>\n",
       "      <td>9.745591</td>\n",
       "      <td>work</td>\n",
       "      <td>174.333195</td>\n",
       "    </tr>\n",
       "    <tr>\n",
       "      <th>1</th>\n",
       "      <td>1</td>\n",
       "      <td>1</td>\n",
       "      <td>-73.980415</td>\n",
       "      <td>40.738564</td>\n",
       "      <td>-73.999481</td>\n",
       "      <td>40.731152</td>\n",
       "      <td>N</td>\n",
       "      <td>663</td>\n",
       "      <td>6.498282</td>\n",
       "      <td>6</td>\n",
       "      <td>12</td>\n",
       "      <td>6</td>\n",
       "      <td>0</td>\n",
       "      <td>23</td>\n",
       "      <td>164</td>\n",
       "      <td>False</td>\n",
       "      <td>1.805507</td>\n",
       "      <td>6.0</td>\n",
       "      <td>Queens</td>\n",
       "      <td>Morningside height</td>\n",
       "      <td>12.542891</td>\n",
       "      <td>before_work</td>\n",
       "      <td>-178.051506</td>\n",
       "    </tr>\n",
       "    <tr>\n",
       "      <th>2</th>\n",
       "      <td>2</td>\n",
       "      <td>1</td>\n",
       "      <td>-73.979027</td>\n",
       "      <td>40.763939</td>\n",
       "      <td>-74.005333</td>\n",
       "      <td>40.710087</td>\n",
       "      <td>N</td>\n",
       "      <td>2124</td>\n",
       "      <td>7.661527</td>\n",
       "      <td>1</td>\n",
       "      <td>19</td>\n",
       "      <td>1</td>\n",
       "      <td>11</td>\n",
       "      <td>3</td>\n",
       "      <td>19</td>\n",
       "      <td>False</td>\n",
       "      <td>6.385098</td>\n",
       "      <td>16.0</td>\n",
       "      <td>Upper West Side</td>\n",
       "      <td>Harlem</td>\n",
       "      <td>16.602190</td>\n",
       "      <td>work</td>\n",
       "      <td>-179.629721</td>\n",
       "    </tr>\n",
       "    <tr>\n",
       "      <th>3</th>\n",
       "      <td>2</td>\n",
       "      <td>1</td>\n",
       "      <td>-74.010040</td>\n",
       "      <td>40.719971</td>\n",
       "      <td>-74.012268</td>\n",
       "      <td>40.706718</td>\n",
       "      <td>N</td>\n",
       "      <td>429</td>\n",
       "      <td>6.063785</td>\n",
       "      <td>4</td>\n",
       "      <td>6</td>\n",
       "      <td>2</td>\n",
       "      <td>19</td>\n",
       "      <td>14</td>\n",
       "      <td>97</td>\n",
       "      <td>False</td>\n",
       "      <td>1.485498</td>\n",
       "      <td>4.0</td>\n",
       "      <td>Harlem</td>\n",
       "      <td>Harlem</td>\n",
       "      <td>9.951657</td>\n",
       "      <td>after_work</td>\n",
       "      <td>-179.872566</td>\n",
       "    </tr>\n",
       "    <tr>\n",
       "      <th>4</th>\n",
       "      <td>2</td>\n",
       "      <td>1</td>\n",
       "      <td>-73.973053</td>\n",
       "      <td>40.793209</td>\n",
       "      <td>-73.972923</td>\n",
       "      <td>40.782520</td>\n",
       "      <td>N</td>\n",
       "      <td>435</td>\n",
       "      <td>6.077642</td>\n",
       "      <td>3</td>\n",
       "      <td>26</td>\n",
       "      <td>5</td>\n",
       "      <td>13</td>\n",
       "      <td>12</td>\n",
       "      <td>86</td>\n",
       "      <td>False</td>\n",
       "      <td>1.188588</td>\n",
       "      <td>5.0</td>\n",
       "      <td>LaGuardia</td>\n",
       "      <td>LaGuardia</td>\n",
       "      <td>15.176490</td>\n",
       "      <td>work</td>\n",
       "      <td>179.990812</td>\n",
       "    </tr>\n",
       "  </tbody>\n",
       "</table>\n",
       "</div>"
      ],
      "text/plain": [
       "   vendor_id  passenger_count  pickup_longitude  pickup_latitude  \\\n",
       "0          2                1        -73.982155        40.767937   \n",
       "1          1                1        -73.980415        40.738564   \n",
       "2          2                1        -73.979027        40.763939   \n",
       "3          2                1        -74.010040        40.719971   \n",
       "4          2                1        -73.973053        40.793209   \n",
       "\n",
       "   dropoff_longitude  dropoff_latitude store_and_fwd_flag  trip_duration  \\\n",
       "0         -73.964630         40.765602                  N            455   \n",
       "1         -73.999481         40.731152                  N            663   \n",
       "2         -74.005333         40.710087                  N           2124   \n",
       "3         -74.012268         40.706718                  N            429   \n",
       "4         -73.972923         40.782520                  N            435   \n",
       "\n",
       "   log_trip_duration  pickup_month  pickup_day  pickup_weekday  pickup_hour  \\\n",
       "0           6.122493             3          14               0           17   \n",
       "1           6.498282             6          12               6            0   \n",
       "2           7.661527             1          19               1           11   \n",
       "3           6.063785             4           6               2           19   \n",
       "4           6.077642             3          26               5           13   \n",
       "\n",
       "   pickup_weekofyear  pickup_dayofyear  harsh_weather  distance  \\\n",
       "0                 11                74          False  1.498521   \n",
       "1                 23               164          False  1.805507   \n",
       "2                  3                19          False  6.385098   \n",
       "3                 14                97          False  1.485498   \n",
       "4                 12                86          False  1.188588   \n",
       "\n",
       "   number_of_steps   pickup_cluster     dropoff_cluster  avg_speed_h  \\\n",
       "0              5.0  Upper West Side      Uppe East Side     9.745591   \n",
       "1              6.0           Queens  Morningside height    12.542891   \n",
       "2             16.0  Upper West Side              Harlem    16.602190   \n",
       "3              4.0           Harlem              Harlem     9.951657   \n",
       "4              5.0        LaGuardia           LaGuardia    15.176490   \n",
       "\n",
       "     work_hour     bearing  \n",
       "0         work  174.333195  \n",
       "1  before_work -178.051506  \n",
       "2         work -179.629721  \n",
       "3   after_work -179.872566  \n",
       "4         work  179.990812  "
      ]
     },
     "execution_count": 13,
     "metadata": {},
     "output_type": "execute_result"
    }
   ],
   "source": [
    "dfX_train.head()"
   ]
  },
  {
   "cell_type": "code",
   "execution_count": 39,
   "metadata": {},
   "outputs": [],
   "source": [
    "feature_names = ['work_hour', 'harsh_weather', 'store_and_fwd_flag', 'pickup_cluster', 'dropoff_cluster', 'pickup_weekday', 'pickup_hour']"
   ]
  },
  {
   "cell_type": "code",
   "execution_count": 40,
   "metadata": {},
   "outputs": [],
   "source": [
    "# Train 독립변수 Dummy 변환\n",
    "dummies = feature_names\n",
    "for feature in dummies:\n",
    "    dummy_features = pd.get_dummies(dfX_train[feature], prefix=feature)\n",
    "    for dummy in dummy_features:\n",
    "        dfX_train[dummy] = dummy_features[dummy]\n",
    "    dfX_train = dfX_train.drop([feature], 1)"
   ]
  },
  {
   "cell_type": "code",
   "execution_count": 41,
   "metadata": {},
   "outputs": [
    {
     "data": {
      "text/plain": [
       "vendor_id                                   int64\n",
       "passenger_count                             int64\n",
       "pickup_longitude                          float64\n",
       "pickup_latitude                           float64\n",
       "dropoff_longitude                         float64\n",
       "dropoff_latitude                          float64\n",
       "pickup_month                                int64\n",
       "pickup_day                                  int64\n",
       "pickup_weekofyear                           int64\n",
       "pickup_dayofyear                            int64\n",
       "distance                                  float64\n",
       "number_of_steps                           float64\n",
       "avg_speed_h                               float64\n",
       "bearing                                   float64\n",
       "work_hour_after_work                        uint8\n",
       "work_hour_before_work                       uint8\n",
       "work_hour_work                              uint8\n",
       "harsh_weather_False                         uint8\n",
       "harsh_weather_True                          uint8\n",
       "store_and_fwd_flag_N                        uint8\n",
       "store_and_fwd_flag_Y                        uint8\n",
       "pickup_cluster_Brooklyn-Parkside            uint8\n",
       "pickup_cluster_Brooklyn-Williamsburgt       uint8\n",
       "pickup_cluster_Chelsea                      uint8\n",
       "pickup_cluster_East Harlem                  uint8\n",
       "pickup_cluster_Gramercy                     uint8\n",
       "pickup_cluster_Harlem                       uint8\n",
       "pickup_cluster_JFK                          uint8\n",
       "pickup_cluster_LaGuardia                    uint8\n",
       "pickup_cluster_Midtown                      uint8\n",
       "pickup_cluster_Morningside height           uint8\n",
       "pickup_cluster_Queens                       uint8\n",
       "pickup_cluster_Queens-Astoria               uint8\n",
       "pickup_cluster_Soho                         uint8\n",
       "pickup_cluster_Uppe East Side               uint8\n",
       "pickup_cluster_Upper West Side              uint8\n",
       "dropoff_cluster_Brooklyn-Parkside           uint8\n",
       "dropoff_cluster_Brooklyn-Williamsburgt      uint8\n",
       "dropoff_cluster_Chelsea                     uint8\n",
       "dropoff_cluster_East Harlem                 uint8\n",
       "dropoff_cluster_Gramercy                    uint8\n",
       "dropoff_cluster_Harlem                      uint8\n",
       "dropoff_cluster_JFK                         uint8\n",
       "dropoff_cluster_LaGuardia                   uint8\n",
       "dropoff_cluster_Midtown                     uint8\n",
       "dropoff_cluster_Morningside height          uint8\n",
       "dropoff_cluster_Queens                      uint8\n",
       "dropoff_cluster_Queens-Astoria              uint8\n",
       "dropoff_cluster_Soho                        uint8\n",
       "dropoff_cluster_Uppe East Side              uint8\n",
       "dropoff_cluster_Upper West Side             uint8\n",
       "pickup_weekday_0                            uint8\n",
       "pickup_weekday_1                            uint8\n",
       "pickup_weekday_2                            uint8\n",
       "pickup_weekday_3                            uint8\n",
       "pickup_weekday_4                            uint8\n",
       "pickup_weekday_5                            uint8\n",
       "pickup_weekday_6                            uint8\n",
       "pickup_hour_0                               uint8\n",
       "pickup_hour_1                               uint8\n",
       "pickup_hour_2                               uint8\n",
       "pickup_hour_3                               uint8\n",
       "pickup_hour_4                               uint8\n",
       "pickup_hour_5                               uint8\n",
       "pickup_hour_6                               uint8\n",
       "pickup_hour_7                               uint8\n",
       "pickup_hour_8                               uint8\n",
       "pickup_hour_9                               uint8\n",
       "pickup_hour_10                              uint8\n",
       "pickup_hour_11                              uint8\n",
       "pickup_hour_12                              uint8\n",
       "pickup_hour_13                              uint8\n",
       "pickup_hour_14                              uint8\n",
       "pickup_hour_15                              uint8\n",
       "pickup_hour_16                              uint8\n",
       "pickup_hour_17                              uint8\n",
       "pickup_hour_18                              uint8\n",
       "pickup_hour_19                              uint8\n",
       "pickup_hour_20                              uint8\n",
       "pickup_hour_21                              uint8\n",
       "pickup_hour_22                              uint8\n",
       "pickup_hour_23                              uint8\n",
       "dtype: object"
      ]
     },
     "execution_count": 41,
     "metadata": {},
     "output_type": "execute_result"
    }
   ],
   "source": [
    "dfX_train.fillna(0,inplace=True)\n",
    "dfX_train.dtypes"
   ]
  },
  {
   "cell_type": "code",
   "execution_count": 42,
   "metadata": {},
   "outputs": [],
   "source": [
    "dfX_train = dfX_train.drop(['pickup_weekofyear','pickup_day', 'pickup_month'], axis=1)\n",
    "dfX_test = dfX_test.drop(['pickup_weekofyear','pickup_day', 'pickup_month'], axis=1)"
   ]
  },
  {
   "cell_type": "code",
   "execution_count": null,
   "metadata": {},
   "outputs": [],
   "source": [
    "len(dfX_train.columns)"
   ]
  },
  {
   "cell_type": "code",
   "execution_count": 46,
   "metadata": {},
   "outputs": [],
   "source": [
    "from sklearn.ensemble import RandomForestRegressor\n",
    "rf_model = RandomForestRegressor(n_estimators=300, min_samples_leaf=50, min_samples_split=75)"
   ]
  },
  {
   "cell_type": "code",
   "execution_count": 48,
   "metadata": {
    "scrolled": true
   },
   "outputs": [
    {
     "data": {
      "text/plain": [
       "RandomForestRegressor(bootstrap=True, criterion='mse', max_depth=None,\n",
       "           max_features='auto', max_leaf_nodes=None,\n",
       "           min_impurity_decrease=0.0, min_impurity_split=None,\n",
       "           min_samples_leaf=50, min_samples_split=75,\n",
       "           min_weight_fraction_leaf=0.0, n_estimators=300, n_jobs=1,\n",
       "           oob_score=False, random_state=None, verbose=0, warm_start=False)"
      ]
     },
     "execution_count": 48,
     "metadata": {},
     "output_type": "execute_result"
    }
   ],
   "source": [
    "rf_model.fit(dfX_train, dfy_train)"
   ]
  },
  {
   "cell_type": "code",
   "execution_count": 50,
   "metadata": {},
   "outputs": [],
   "source": [
    "predictors=dfX_train.columns"
   ]
  },
  {
   "cell_type": "code",
   "execution_count": 51,
   "metadata": {},
   "outputs": [
    {
     "data": {
      "image/png": "[encoded data removed]",
      "text/plain": [
       "<matplotlib.figure.Figure at 0x117883908>"
      ]
     },
     "metadata": {},
     "output_type": "display_data"
    }
   ],
   "source": [
    "importances=rf_model.feature_importances_\n",
    "std = np.std([rf_model.feature_importances_ for tree in rf_model.estimators_],\n",
    "             axis=0)\n",
    "indices = np.argsort(importances)[::-1]\n",
    "sorted_important_features=[]\n",
    "for i in indices:\n",
    "    sorted_important_features.append(predictors[i])\n",
    "plt.figure(figsize=(10,10))\n",
    "plt.title(\"Feature Importances By Random Forest Model\")\n",
    "plt.barh(range(len(indices)), importances[indices],\n",
    "       color=[\"black\",\"gold\"], yerr=std[indices], align=\"center\")\n",
    "plt.yticks(range(len(indices)), sorted_important_features, rotation='horizontal')\n",
    "plt.show()"
   ]
  },
  {
   "cell_type": "markdown",
   "metadata": {},
   "source": [
    "**Observe:**\n",
    "  * Distance가 80% 중요도를 보였으며,  \n",
    "    추가로 만든 변수인 평균속도와 Step(몇개의 골목을 지나야하는지)수 그리고 업부시간이 높은 중요도를 보였다.\n",
    "\n",
    "> 이를 근거로 하여 모델 만들어 보기"
   ]
  },
  {
   "cell_type": "code",
   "execution_count": 52,
   "metadata": {},
   "outputs": [],
   "source": [
    "# Test 독립변수 Dummy 변환\n",
    "dummies = feature_names\n",
    "for feature in dummies:\n",
    "    dummy_features = pd.get_dummies(dfX_test[feature], prefix=feature)\n",
    "    for dummy in dummy_features:\n",
    "        dfX_test[dummy] = dummy_features[dummy]\n",
    "    dfX_test = dfX_test.drop([feature], 1)"
   ]
  },
  {
   "cell_type": "code",
   "execution_count": 53,
   "metadata": {},
   "outputs": [
    {
     "data": {
      "text/plain": [
       "array([6.73914127, 6.37648361, 6.14923806, 6.86108798, 5.94486074])"
      ]
     },
     "execution_count": 53,
     "metadata": {},
     "output_type": "execute_result"
    }
   ],
   "source": [
    "predictions=rf_model.predict(dfX_test.values)\n",
    "predictions[:5]"
   ]
  },
  {
   "cell_type": "code",
   "execution_count": 54,
   "metadata": {},
   "outputs": [],
   "source": [
    "import datetime\n",
    "now = datetime.datetime.now()\n",
    "submission_kaggle = pd.read_csv(\"sample_submission.csv\")\n",
    "submission_kaggle[\"trip_duration\"] = np.expm1(pred)\n",
    "submission_kaggle.to_csv(\"submission_0{}0{}{}{}.csv.gz\".format(now.month, now.day, now.hour, now.minute), index=False, compression='gzip')"
   ]
  },
  {
   "cell_type": "code",
   "execution_count": null,
   "metadata": {},
   "outputs": [],
   "source": []
  },
  {
   "cell_type": "code",
   "execution_count": null,
   "metadata": {},
   "outputs": [],
   "source": []
  },
  {
   "cell_type": "markdown",
   "metadata": {},
   "source": [
    "## 4. Feature Selecting & Scaling"
   ]
  },
  {
   "cell_type": "code",
   "execution_count": 10,
   "metadata": {},
   "outputs": [
    {
     "name": "stdout",
     "output_type": "stream",
     "text": [
      "                            OLS Regression Results                            \n",
      "==============================================================================\n",
      "Dep. Variable:      log_trip_duration   R-squared:                       0.734\n",
      "Model:                            OLS   Adj. R-squared:                  0.734\n",
      "Method:                 Least Squares   F-statistic:                 2.014e+05\n",
      "Date:                Sat, 05 May 2018   Prob (F-statistic):               0.00\n",
      "Time:                        23:51:00   Log-Likelihood:            -5.8706e+05\n",
      "No. Observations:             1384067   AIC:                         1.174e+06\n",
      "Df Residuals:                 1384047   BIC:                         1.174e+06\n",
      "Df Model:                          19                                         \n",
      "Covariance Type:            nonrobust                                         \n",
      "===============================================================================================\n",
      "                                  coef    std err          t      P>|t|      [0.025      0.975]\n",
      "-----------------------------------------------------------------------------------------------\n",
      "C(harsh_weather)[False]         7.1072      0.005   1332.843      0.000       7.097       7.118\n",
      "C(harsh_weather)[True]          7.0713      0.006   1214.988      0.000       7.060       7.083\n",
      "C(work_hour)[T.before_work]    -0.2100      0.001   -220.190      0.000      -0.212      -0.208\n",
      "C(work_hour)[T.work]            0.1863      0.001    260.675      0.000       0.185       0.188\n",
      "C(pickup_weekday)[T.1]          0.0914      0.001     75.206      0.000       0.089       0.094\n",
      "C(pickup_weekday)[T.2]          0.1164      0.001     96.494      0.000       0.114       0.119\n",
      "C(pickup_weekday)[T.3]          0.1245      0.001    104.028      0.000       0.122       0.127\n",
      "C(pickup_weekday)[T.4]          0.1053      0.001     88.353      0.000       0.103       0.108\n",
      "C(pickup_weekday)[T.5]          0.0144      0.001     12.022      0.000       0.012       0.017\n",
      "C(pickup_weekday)[T.6]         -0.0771      0.001    -62.475      0.000      -0.080      -0.075\n",
      "passenger_count                 0.0047      0.000     19.711      0.000       0.004       0.005\n",
      "scale(np.cos(pickup_hour))      0.0361      0.000    108.860      0.000       0.035       0.037\n",
      "scale(pickup_latitude)          0.0125      0.000     32.905      0.000       0.012       0.013\n",
      "scale(pickup_longitude)        -0.0509      0.000   -138.197      0.000      -0.052      -0.050\n",
      "scale(dropoff_latitude)         0.0077      0.000     20.939      0.000       0.007       0.008\n",
      "scale(dropoff_longitude)       -0.0451      0.000   -110.801      0.000      -0.046      -0.044\n",
      "np.log1p(distance)              1.2519      0.001   1151.510      0.000       1.250       1.254\n",
      "number_of_steps                 0.0184      0.000    155.326      0.000       0.018       0.019\n",
      "np.log1p(avg_speed_h)          -0.9148      0.002   -414.019      0.000      -0.919      -0.910\n",
      "scale(bearing)                  0.0227      0.000     61.292      0.000       0.022       0.023\n",
      "==============================================================================\n",
      "Omnibus:                   105335.082   Durbin-Watson:                   1.999\n",
      "Prob(Omnibus):                  0.000   Jarque-Bera (JB):           608709.643\n",
      "Skew:                          -0.039   Prob(JB):                         0.00\n",
      "Kurtosis:                       6.248   Cond. No.                         236.\n",
      "==============================================================================\n",
      "\n",
      "Warnings:\n",
      "[1] Standard Errors assume that the covariance matrix of the errors is correctly specified.\n"
     ]
    }
   ],
   "source": [
    "model_04 = sm.OLS.from_formula(\"log_trip_duration ~ passenger_count + C(harsh_weather) + C(work_hour) + C(pickup_weekday) + scale(np.cos(pickup_hour)) + \"\n",
    "                               \"scale(pickup_latitude) + scale(pickup_longitude) + scale(dropoff_latitude) + scale(dropoff_longitude) +\"\n",
    "                               \"np.log1p(distance) + number_of_steps + np.log1p(avg_speed_h) + scale(bearing) - 1\", train_ro)\n",
    "result_04 = model_04.fit()\n",
    "print(result_04.summary())"
   ]
  },
  {
   "cell_type": "code",
   "execution_count": 11,
   "metadata": {},
   "outputs": [],
   "source": [
    "y, X = dmatrices(\"log_trip_duration ~ passenger_count + C(harsh_weather) + C(work_hour) + C(pickup_weekday) + scale(np.cos(pickup_hour)) + \"\n",
    "                 \"scale(pickup_latitude) + scale(pickup_longitude) + scale(dropoff_latitude) + scale(dropoff_longitude) +\"\n",
    "                 \"np.log1p(distance) + number_of_steps + np.log1p(avg_speed_h) + scale(bearing) - 1\", train_ro, return_type=\"dataframe\")"
   ]
  },
  {
   "cell_type": "code",
   "execution_count": 100,
   "metadata": {
    "scrolled": true
   },
   "outputs": [],
   "source": [
    "model_lr = LinearRegression().fit(X, y)"
   ]
  },
  {
   "cell_type": "code",
   "execution_count": 101,
   "metadata": {
    "scrolled": true
   },
   "outputs": [
    {
     "name": "stdout",
     "output_type": "stream",
     "text": [
      "[ R2 ]\n",
      "Scores:  [0.73459118 0.73476067 0.73538784 0.7328888  0.73411533]\n",
      "Mean: 0.7343487635170334\n",
      "------------------------------------------------------------------------------------------\n",
      "[ RMSE ]\n",
      "Scores:  [0.05282062 0.05268586 0.05248195 0.05304373 0.05305181]\n",
      "Mean: 0.05281679271677435\n",
      "------------------------------------------------------------------------------------------\n"
     ]
    }
   ],
   "source": [
    "cv = KFold(n_splits=5, shuffle=True, random_state=0)\n",
    "\n",
    "print(\"[ R2 ]\")\n",
    "print(\"Scores: \", cross_val_score(model_lr, X, y, scoring=\"r2\", cv=cv))\n",
    "print(\"Mean:\", np.mean(cross_val_score(model_lr, X, y, scoring=\"r2\", cv=cv)))\n",
    "print(\"-\"*70)\n",
    "print(\"[ RMSE ]\")\n",
    "print(\"Scores: \", cross_val_score(model_lr, X, y, scoring=rmse_scorer, cv=cv))\n",
    "print(\"Mean:\", np.mean(cross_val_score(model_lr, X, y, scoring=rmse_scorer, cv=cv)))\n",
    "print(\"-\"*70)"
   ]
  },
  {
   "cell_type": "markdown",
   "metadata": {},
   "source": [
    "### Submission"
   ]
  },
  {
   "cell_type": "code",
   "execution_count": 111,
   "metadata": {},
   "outputs": [],
   "source": [
    "X_test = dmatrix(\"passenger_count + C(harsh_weather) + C(work_hour) + C(pickup_weekday) + scale(np.cos(pickup_hour)) + \"\n",
    "                 \"scale(pickup_latitude) + scale(pickup_longitude) + scale(dropoff_latitude) + scale(dropoff_longitude) +\"\n",
    "                 \"np.log1p(distance) + number_of_steps + np.log1p(avg_speed_h) + scale(bearing) - 1\", test, return_type=\"dataframe\")"
   ]
  },
  {
   "cell_type": "code",
   "execution_count": 112,
   "metadata": {},
   "outputs": [],
   "source": [
    "pred = model_lr.predict(X_test)"
   ]
  },
  {
   "cell_type": "code",
   "execution_count": 113,
   "metadata": {},
   "outputs": [],
   "source": [
    "import datetime\n",
    "now = datetime.datetime.now()\n",
    "submission_kaggle = pd.read_csv(\"sample_submission.csv\")\n",
    "submission_kaggle[\"trip_duration\"] = np.expm1(pred)\n",
    "submission_kaggle.to_csv(\"submission_0{}0{}{}{}.csv.gz\".format(now.month, now.day, now.hour, now.minute), index=False, compression='gzip')"
   ]
  },
  {
   "cell_type": "code",
   "execution_count": null,
   "metadata": {},
   "outputs": [],
   "source": []
  },
  {
   "cell_type": "markdown",
   "metadata": {},
   "source": [
    "### 5. Regularized Regression"
   ]
  },
  {
   "cell_type": "markdown",
   "metadata": {},
   "source": [
    "### 5.1 Mdeling"
   ]
  },
  {
   "cell_type": "code",
   "execution_count": 12,
   "metadata": {},
   "outputs": [],
   "source": [
    "model_ridge = Ridge().fit(X, y)\n",
    "model_lasso = Lasso().fit(X, y)\n",
    "model_elastic = ElasticNet().fit(X, y)"
   ]
  },
  {
   "cell_type": "code",
   "execution_count": 103,
   "metadata": {
    "scrolled": true
   },
   "outputs": [
    {
     "name": "stdout",
     "output_type": "stream",
     "text": [
      "[ R2 ]\n",
      "Scores:  [0.73459085 0.73476131 0.7353882  0.73288902 0.73411644]\n",
      "Mean: 0.7343491644231899\n",
      "----------------------------------------------------------------------\n",
      "[ RMSE ]\n",
      "Scores:  [0.05282065 0.05268576 0.05248194 0.05304364 0.05305167]\n",
      "Mean: 0.05281673403090176\n",
      "----------------------------------------------------------------------\n"
     ]
    }
   ],
   "source": [
    "# Ridge\n",
    "cv = KFold(n_splits=5, shuffle=True, random_state=0)\n",
    "\n",
    "print(\"[ R2 ]\")\n",
    "print(\"Scores: \", cross_val_score(model_ridge, X, y, scoring=\"r2\", cv=cv))\n",
    "print(\"Mean:\", np.mean(cross_val_score(model_ridge, X, y, scoring=\"r2\", cv=cv)))\n",
    "print(\"-\"*70)\n",
    "print(\"[ RMSE ]\")\n",
    "print(\"Scores: \", cross_val_score(model_ridge, X, y, scoring=rmse_scorer, cv=cv))\n",
    "print(\"Mean:\", np.mean(cross_val_score(model_ridge, X, y, scoring=rmse_scorer, cv=cv)))\n",
    "print(\"-\"*70)"
   ]
  },
  {
   "cell_type": "markdown",
   "metadata": {},
   "source": [
    "### 5.2 Ridge Parameter Optimize"
   ]
  },
  {
   "cell_type": "code",
   "execution_count": 43,
   "metadata": {},
   "outputs": [],
   "source": [
    "alphas = np.logspace(-3, 0, 50) "
   ]
  },
  {
   "cell_type": "code",
   "execution_count": 44,
   "metadata": {},
   "outputs": [],
   "source": [
    "alphas = np.append(alphas, [10, 100])"
   ]
  },
  {
   "cell_type": "code",
   "execution_count": 45,
   "metadata": {},
   "outputs": [
    {
     "data": {
      "text/plain": [
       "array([1.00000000e-03, 1.15139540e-03, 1.32571137e-03, 1.52641797e-03,\n",
       "       1.75751062e-03, 2.02358965e-03, 2.32995181e-03, 2.68269580e-03,\n",
       "       3.08884360e-03, 3.55648031e-03, 4.09491506e-03, 4.71486636e-03,\n",
       "       5.42867544e-03, 6.25055193e-03, 7.19685673e-03, 8.28642773e-03,\n",
       "       9.54095476e-03, 1.09854114e-02, 1.26485522e-02, 1.45634848e-02,\n",
       "       1.67683294e-02, 1.93069773e-02, 2.22299648e-02, 2.55954792e-02,\n",
       "       2.94705170e-02, 3.39322177e-02, 3.90693994e-02, 4.49843267e-02,\n",
       "       5.17947468e-02, 5.96362332e-02, 6.86648845e-02, 7.90604321e-02,\n",
       "       9.10298178e-02, 1.04811313e-01, 1.20679264e-01, 1.38949549e-01,\n",
       "       1.59985872e-01, 1.84206997e-01, 2.12095089e-01, 2.44205309e-01,\n",
       "       2.81176870e-01, 3.23745754e-01, 3.72759372e-01, 4.29193426e-01,\n",
       "       4.94171336e-01, 5.68986603e-01, 6.55128557e-01, 7.54312006e-01,\n",
       "       8.68511374e-01, 1.00000000e+00, 1.00000000e+01, 1.00000000e+02])"
      ]
     },
     "execution_count": 45,
     "metadata": {},
     "output_type": "execute_result"
    }
   ],
   "source": [
    "alphas"
   ]
  },
  {
   "cell_type": "code",
   "execution_count": 46,
   "metadata": {},
   "outputs": [
    {
     "data": {
      "image/png": "[encoded data removed]",
      "text/plain": [
       "<matplotlib.figure.Figure at 0x1041081d0>"
      ]
     },
     "metadata": {},
     "output_type": "display_data"
    },
    {
     "name": "stdout",
     "output_type": "stream",
     "text": [
      "1.0\n"
     ]
    }
   ],
   "source": [
    "from sklearn.linear_model import RidgeCV\n",
    "\n",
    "# alphas = np.logspace(-3, 0, 50)\n",
    "ridge_cv = RidgeCV(alphas=alphas, cv=5).fit(X, y)\n",
    "scores = list()\n",
    "\n",
    "for alpha in alphas:\n",
    "    model_ridge.alpha = alpha\n",
    "    this_scores = cross_val_score(model_ridge, X, y, scoring=rmsle_scorer, cv=5)\n",
    "    scores.append(np.mean(this_scores))\n",
    "\n",
    "plt.figure(figsize=(11, 6))\n",
    "plt.semilogx(alphas, scores)\n",
    "plt.ylabel('CV score')\n",
    "plt.xlabel('alpha')\n",
    "plt.axhline(np.max(scores), linestyle=':')\n",
    "plt.show()\n",
    "print(ridge_cv.alpha_)"
   ]
  },
  {
   "cell_type": "code",
   "execution_count": 48,
   "metadata": {},
   "outputs": [],
   "source": [
    "X_test = dmatrix(\"passenger_count + C(harsh_weather) + C(work_hour) + C(pickup_weekday) + scale(np.cos(pickup_hour)) + \"\n",
    "                 \"scale(pickup_latitude) + scale(pickup_longitude) + scale(dropoff_latitude) + scale(dropoff_longitude) +\"\n",
    "                 \"np.log1p(distance) + number_of_steps + np.log1p(avg_speed_h) + scale(bearing) - 1\", test, return_type=\"dataframe\")"
   ]
  },
  {
   "cell_type": "code",
   "execution_count": 49,
   "metadata": {},
   "outputs": [],
   "source": [
    "pred = ridge_cv.predict(X_test)"
   ]
  },
  {
   "cell_type": "code",
   "execution_count": 51,
   "metadata": {},
   "outputs": [],
   "source": [
    "import datetime\n",
    "now = datetime.datetime.now()\n",
    "submission_kaggle = pd.read_csv(\"sample_submission.csv\")\n",
    "submission_kaggle[\"trip_duration\"] = np.expm1(pred)\n",
    "submission_kaggle.to_csv(\"submission_0{}0{}{}{}.csv.gz\".format(now.month, now.day, now.hour, now.minute), index=False, compression='gzip')"
   ]
  },
  {
   "cell_type": "code",
   "execution_count": null,
   "metadata": {},
   "outputs": [],
   "source": []
  }
 ],
 "metadata": {
  "kernelspec": {
   "display_name": "Python 3",
   "language": "python",
   "name": "python3"
  },
  "language_info": {
   "codemirror_mode": {
    "name": "ipython",
    "version": 3
   },
   "file_extension": ".py",
   "mimetype": "text/x-python",
   "name": "python",
   "nbconvert_exporter": "python",
   "pygments_lexer": "ipython3",
   "version": "3.6.4"
  }
 },
 "nbformat": 4,
 "nbformat_minor": 2
}
