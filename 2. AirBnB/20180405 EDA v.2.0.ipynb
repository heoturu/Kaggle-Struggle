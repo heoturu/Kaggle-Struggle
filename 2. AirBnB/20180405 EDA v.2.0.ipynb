{
 "cells": [
  {
   "cell_type": "markdown",
   "metadata": {},
   "source": [
    "# I can do all this through him who give me strength"
   ]
  },
  {
   "cell_type": "code",
   "execution_count": null,
   "metadata": {},
   "outputs": [],
   "source": []
  },
  {
   "cell_type": "markdown",
   "metadata": {},
   "source": [
    "# Contents\n",
    "1. Data Set Check\n",
    "2. Preprocessing of Train/Test\n",
    " * 중점사항 : Age의 NaN값 채우기, 각 Feature의 카테고리 값 축소\n",
    "3. Preprocessing of Session\n",
    " * 중점사항 : Action type 통합\n",
    "4. Train Dataset과 Session Dataset 통합\n",
    "5. Modeling\n",
    " * QDA / LDA\n",
    " * Navie Baye\n",
    " * Decision Tree\n",
    " * Random Forest\n",
    " * XG Boost\n"
   ]
  },
  {
   "cell_type": "code",
   "execution_count": null,
   "metadata": {},
   "outputs": [],
   "source": []
  },
  {
   "cell_type": "markdown",
   "metadata": {},
   "source": [
    "## 1. Data Set"
   ]
  },
  {
   "cell_type": "code",
   "execution_count": 5,
   "metadata": {},
   "outputs": [],
   "source": [
    "import numpy as np\n",
    "import pandas as pd\n",
    "\n",
    "#visualization\n",
    "import matplotlib.pyplot as plt\n",
    "import seaborn as sns\n",
    "from PIL import Image as pimg"
   ]
  },
  {
   "cell_type": "code",
   "execution_count": 8,
   "metadata": {
    "scrolled": true
   },
   "outputs": [
    {
     "name": "stdout",
     "output_type": "stream",
     "text": [
      "CPU times: user 2 µs, sys: 1e+03 ns, total: 3 µs\n",
      "Wall time: 6.91 µs\n",
      "CPU times: user 3 µs, sys: 1e+03 ns, total: 4 µs\n",
      "Wall time: 5.96 µs\n",
      "CPU times: user 3 µs, sys: 1 µs, total: 4 µs\n",
      "Wall time: 6.91 µs\n"
     ]
    }
   ],
   "source": [
    "%time\n",
    "test = pd.read_csv(\"csv/test_users.csv\")\n",
    "%time\n",
    "train = pd.read_csv(\"csv/train_users_2.csv\")\n",
    "%time\n",
    "ss = pd.read_csv(\"csv/sample_submission_NDF.csv\")"
   ]
  },
  {
   "cell_type": "code",
   "execution_count": 9,
   "metadata": {},
   "outputs": [
    {
     "name": "stdout",
     "output_type": "stream",
     "text": [
      "CPU times: user 3 µs, sys: 0 ns, total: 3 µs\n",
      "Wall time: 6.91 µs\n",
      "CPU times: user 3 µs, sys: 0 ns, total: 3 µs\n",
      "Wall time: 6.2 µs\n",
      "CPU times: user 2 µs, sys: 1 µs, total: 3 µs\n",
      "Wall time: 6.2 µs\n"
     ]
    }
   ],
   "source": [
    "%time\n",
    "age_gender = pd.read_csv(\"csv/age_gender_bkts.csv\")\n",
    "%time\n",
    "countries = pd.read_csv(\"csv/countries.csv\")\n",
    "%time\n",
    "sessions = pd.read_csv(\"csv/sessions.csv\")"
   ]
  },
  {
   "cell_type": "markdown",
   "metadata": {},
   "source": [
    "### 1.1 Check Dataset"
   ]
  },
  {
   "cell_type": "code",
   "execution_count": 10,
   "metadata": {
    "scrolled": true
   },
   "outputs": [
    {
     "data": {
      "text/plain": [
       "((213451, 16), (62096, 15))"
      ]
     },
     "execution_count": 10,
     "metadata": {},
     "output_type": "execute_result"
    }
   ],
   "source": [
    "train.shape, test.shape"
   ]
  },
  {
   "cell_type": "code",
   "execution_count": 11,
   "metadata": {
    "scrolled": true
   },
   "outputs": [
    {
     "data": {
      "text/plain": [
       "{'country_destination'}"
      ]
     },
     "execution_count": 11,
     "metadata": {},
     "output_type": "execute_result"
    }
   ],
   "source": [
    "# train / test columns 비교\n",
    "set(train.columns) - set(test.columns)"
   ]
  },
  {
   "cell_type": "code",
   "execution_count": 12,
   "metadata": {},
   "outputs": [],
   "source": [
    "test[\"country_destination\"] = np.nan\n",
    "train.drop(columns=\"date_first_booking\", axis=1, inplace=True)\n",
    "test.drop(columns=\"date_first_booking\", axis=1, inplace=True)"
   ]
  },
  {
   "cell_type": "code",
   "execution_count": 13,
   "metadata": {
    "scrolled": true
   },
   "outputs": [
    {
     "data": {
      "text/html": [
       "<div>\n",
       "<style scoped>\n",
       "    .dataframe tbody tr th:only-of-type {\n",
       "        vertical-align: middle;\n",
       "    }\n",
       "\n",
       "    .dataframe tbody tr th {\n",
       "        vertical-align: top;\n",
       "    }\n",
       "\n",
       "    .dataframe thead th {\n",
       "        text-align: right;\n",
       "    }\n",
       "</style>\n",
       "<table border=\"1\" class=\"dataframe\">\n",
       "  <thead>\n",
       "    <tr style=\"text-align: right;\">\n",
       "      <th></th>\n",
       "      <th>id</th>\n",
       "      <th>date_account_created</th>\n",
       "      <th>timestamp_first_active</th>\n",
       "      <th>gender</th>\n",
       "      <th>age</th>\n",
       "      <th>signup_method</th>\n",
       "      <th>signup_flow</th>\n",
       "      <th>language</th>\n",
       "      <th>affiliate_channel</th>\n",
       "      <th>affiliate_provider</th>\n",
       "      <th>first_affiliate_tracked</th>\n",
       "      <th>signup_app</th>\n",
       "      <th>first_device_type</th>\n",
       "      <th>first_browser</th>\n",
       "      <th>country_destination</th>\n",
       "    </tr>\n",
       "  </thead>\n",
       "  <tbody>\n",
       "    <tr>\n",
       "      <th>213448</th>\n",
       "      <td>6o3arsjbb4</td>\n",
       "      <td>2014-06-30</td>\n",
       "      <td>20140630235754</td>\n",
       "      <td>-unknown-</td>\n",
       "      <td>32.0</td>\n",
       "      <td>basic</td>\n",
       "      <td>0</td>\n",
       "      <td>en</td>\n",
       "      <td>direct</td>\n",
       "      <td>direct</td>\n",
       "      <td>untracked</td>\n",
       "      <td>Web</td>\n",
       "      <td>Mac Desktop</td>\n",
       "      <td>Firefox</td>\n",
       "      <td>NDF</td>\n",
       "    </tr>\n",
       "    <tr>\n",
       "      <th>213449</th>\n",
       "      <td>jh95kwisub</td>\n",
       "      <td>2014-06-30</td>\n",
       "      <td>20140630235822</td>\n",
       "      <td>-unknown-</td>\n",
       "      <td>NaN</td>\n",
       "      <td>basic</td>\n",
       "      <td>25</td>\n",
       "      <td>en</td>\n",
       "      <td>other</td>\n",
       "      <td>other</td>\n",
       "      <td>tracked-other</td>\n",
       "      <td>iOS</td>\n",
       "      <td>iPhone</td>\n",
       "      <td>Mobile Safari</td>\n",
       "      <td>NDF</td>\n",
       "    </tr>\n",
       "    <tr>\n",
       "      <th>213450</th>\n",
       "      <td>nw9fwlyb5f</td>\n",
       "      <td>2014-06-30</td>\n",
       "      <td>20140630235824</td>\n",
       "      <td>-unknown-</td>\n",
       "      <td>NaN</td>\n",
       "      <td>basic</td>\n",
       "      <td>25</td>\n",
       "      <td>en</td>\n",
       "      <td>direct</td>\n",
       "      <td>direct</td>\n",
       "      <td>untracked</td>\n",
       "      <td>iOS</td>\n",
       "      <td>iPhone</td>\n",
       "      <td>-unknown-</td>\n",
       "      <td>NDF</td>\n",
       "    </tr>\n",
       "  </tbody>\n",
       "</table>\n",
       "</div>"
      ],
      "text/plain": [
       "                id date_account_created  timestamp_first_active     gender  \\\n",
       "213448  6o3arsjbb4           2014-06-30          20140630235754  -unknown-   \n",
       "213449  jh95kwisub           2014-06-30          20140630235822  -unknown-   \n",
       "213450  nw9fwlyb5f           2014-06-30          20140630235824  -unknown-   \n",
       "\n",
       "         age signup_method  signup_flow language affiliate_channel  \\\n",
       "213448  32.0         basic            0       en            direct   \n",
       "213449   NaN         basic           25       en             other   \n",
       "213450   NaN         basic           25       en            direct   \n",
       "\n",
       "       affiliate_provider first_affiliate_tracked signup_app  \\\n",
       "213448             direct               untracked        Web   \n",
       "213449              other           tracked-other        iOS   \n",
       "213450             direct               untracked        iOS   \n",
       "\n",
       "       first_device_type  first_browser country_destination  \n",
       "213448       Mac Desktop        Firefox                 NDF  \n",
       "213449            iPhone  Mobile Safari                 NDF  \n",
       "213450            iPhone      -unknown-                 NDF  "
      ]
     },
     "execution_count": 13,
     "metadata": {},
     "output_type": "execute_result"
    }
   ],
   "source": [
    "train.tail(3)"
   ]
  },
  {
   "cell_type": "code",
   "execution_count": 14,
   "metadata": {
    "scrolled": false
   },
   "outputs": [
    {
     "data": {
      "text/html": [
       "<div>\n",
       "<style scoped>\n",
       "    .dataframe tbody tr th:only-of-type {\n",
       "        vertical-align: middle;\n",
       "    }\n",
       "\n",
       "    .dataframe tbody tr th {\n",
       "        vertical-align: top;\n",
       "    }\n",
       "\n",
       "    .dataframe thead th {\n",
       "        text-align: right;\n",
       "    }\n",
       "</style>\n",
       "<table border=\"1\" class=\"dataframe\">\n",
       "  <thead>\n",
       "    <tr style=\"text-align: right;\">\n",
       "      <th></th>\n",
       "      <th>id</th>\n",
       "      <th>date_account_created</th>\n",
       "      <th>timestamp_first_active</th>\n",
       "      <th>gender</th>\n",
       "      <th>age</th>\n",
       "      <th>signup_method</th>\n",
       "      <th>signup_flow</th>\n",
       "      <th>language</th>\n",
       "      <th>affiliate_channel</th>\n",
       "      <th>affiliate_provider</th>\n",
       "      <th>first_affiliate_tracked</th>\n",
       "      <th>signup_app</th>\n",
       "      <th>first_device_type</th>\n",
       "      <th>first_browser</th>\n",
       "      <th>country_destination</th>\n",
       "    </tr>\n",
       "  </thead>\n",
       "  <tbody>\n",
       "    <tr>\n",
       "      <th>62093</th>\n",
       "      <td>fa6260ziny</td>\n",
       "      <td>2014-09-30</td>\n",
       "      <td>20140930235408</td>\n",
       "      <td>-unknown-</td>\n",
       "      <td>NaN</td>\n",
       "      <td>basic</td>\n",
       "      <td>0</td>\n",
       "      <td>de</td>\n",
       "      <td>direct</td>\n",
       "      <td>direct</td>\n",
       "      <td>linked</td>\n",
       "      <td>Web</td>\n",
       "      <td>Windows Desktop</td>\n",
       "      <td>Firefox</td>\n",
       "      <td>NaN</td>\n",
       "    </tr>\n",
       "    <tr>\n",
       "      <th>62094</th>\n",
       "      <td>87k0fy4ugm</td>\n",
       "      <td>2014-09-30</td>\n",
       "      <td>20140930235430</td>\n",
       "      <td>-unknown-</td>\n",
       "      <td>NaN</td>\n",
       "      <td>basic</td>\n",
       "      <td>0</td>\n",
       "      <td>en</td>\n",
       "      <td>sem-brand</td>\n",
       "      <td>google</td>\n",
       "      <td>omg</td>\n",
       "      <td>Web</td>\n",
       "      <td>Mac Desktop</td>\n",
       "      <td>Safari</td>\n",
       "      <td>NaN</td>\n",
       "    </tr>\n",
       "    <tr>\n",
       "      <th>62095</th>\n",
       "      <td>9uqfg8txu3</td>\n",
       "      <td>2014-09-30</td>\n",
       "      <td>20140930235901</td>\n",
       "      <td>FEMALE</td>\n",
       "      <td>49.0</td>\n",
       "      <td>basic</td>\n",
       "      <td>0</td>\n",
       "      <td>en</td>\n",
       "      <td>other</td>\n",
       "      <td>other</td>\n",
       "      <td>tracked-other</td>\n",
       "      <td>Web</td>\n",
       "      <td>Windows Desktop</td>\n",
       "      <td>Chrome</td>\n",
       "      <td>NaN</td>\n",
       "    </tr>\n",
       "  </tbody>\n",
       "</table>\n",
       "</div>"
      ],
      "text/plain": [
       "               id date_account_created  timestamp_first_active     gender  \\\n",
       "62093  fa6260ziny           2014-09-30          20140930235408  -unknown-   \n",
       "62094  87k0fy4ugm           2014-09-30          20140930235430  -unknown-   \n",
       "62095  9uqfg8txu3           2014-09-30          20140930235901     FEMALE   \n",
       "\n",
       "        age signup_method  signup_flow language affiliate_channel  \\\n",
       "62093   NaN         basic            0       de            direct   \n",
       "62094   NaN         basic            0       en         sem-brand   \n",
       "62095  49.0         basic            0       en             other   \n",
       "\n",
       "      affiliate_provider first_affiliate_tracked signup_app first_device_type  \\\n",
       "62093             direct                  linked        Web   Windows Desktop   \n",
       "62094             google                     omg        Web       Mac Desktop   \n",
       "62095              other           tracked-other        Web   Windows Desktop   \n",
       "\n",
       "      first_browser  country_destination  \n",
       "62093       Firefox                  NaN  \n",
       "62094        Safari                  NaN  \n",
       "62095        Chrome                  NaN  "
      ]
     },
     "execution_count": 14,
     "metadata": {},
     "output_type": "execute_result"
    }
   ],
   "source": [
    "test.tail(3)"
   ]
  },
  {
   "cell_type": "code",
   "execution_count": 15,
   "metadata": {
    "scrolled": false
   },
   "outputs": [
    {
     "data": {
      "text/plain": [
       "set()"
      ]
     },
     "execution_count": 15,
     "metadata": {},
     "output_type": "execute_result"
    }
   ],
   "source": [
    "# train / test columns 비교\n",
    "set(train.columns) - set(test.columns)"
   ]
  },
  {
   "cell_type": "markdown",
   "metadata": {},
   "source": [
    "### 1.2 Train & Test Dataset 통합"
   ]
  },
  {
   "cell_type": "code",
   "execution_count": 16,
   "metadata": {},
   "outputs": [],
   "source": [
    "airb = pd.concat([train, test])\n",
    "airb.reset_index(inplace=True)"
   ]
  },
  {
   "cell_type": "code",
   "execution_count": 17,
   "metadata": {},
   "outputs": [
    {
     "name": "stdout",
     "output_type": "stream",
     "text": [
      "train set rows : 213451\n",
      "test  set rows : 62096\n",
      "airbnb  set rows : 275547\n"
     ]
    }
   ],
   "source": [
    "print(\"train set rows : {}\".format(len(train)))\n",
    "print(\"test  set rows : {}\".format(len(test)))\n",
    "print(\"airbnb  set rows : {}\".format(len(airb)))"
   ]
  },
  {
   "cell_type": "code",
   "execution_count": 18,
   "metadata": {},
   "outputs": [
    {
     "name": "stdout",
     "output_type": "stream",
     "text": [
      "<class 'pandas.core.frame.DataFrame'>\n",
      "RangeIndex: 275547 entries, 0 to 275546\n",
      "Data columns (total 16 columns):\n",
      "index                      275547 non-null int64\n",
      "id                         275547 non-null object\n",
      "date_account_created       275547 non-null object\n",
      "timestamp_first_active     275547 non-null int64\n",
      "gender                     275547 non-null object\n",
      "age                        158681 non-null float64\n",
      "signup_method              275547 non-null object\n",
      "signup_flow                275547 non-null int64\n",
      "language                   275547 non-null object\n",
      "affiliate_channel          275547 non-null object\n",
      "affiliate_provider         275547 non-null object\n",
      "first_affiliate_tracked    269462 non-null object\n",
      "signup_app                 275547 non-null object\n",
      "first_device_type          275547 non-null object\n",
      "first_browser              275547 non-null object\n",
      "country_destination        213451 non-null object\n",
      "dtypes: float64(1), int64(3), object(12)\n",
      "memory usage: 33.6+ MB\n"
     ]
    }
   ],
   "source": [
    "airb.info()"
   ]
  },
  {
   "cell_type": "code",
   "execution_count": 19,
   "metadata": {},
   "outputs": [
    {
     "name": "stdout",
     "output_type": "stream",
     "text": [
      "index unique : 213451\n",
      "index null : 0\n",
      "\n",
      "id unique : 275547\n",
      "id null : 0\n",
      "\n",
      "date_account_created unique : 1726\n",
      "date_account_created null : 0\n",
      "\n",
      "timestamp_first_active unique : 275547\n",
      "timestamp_first_active null : 0\n",
      "\n",
      "gender unique : 4\n",
      "gender null : 0\n",
      "\n",
      "age unique : 146\n",
      "age null : 116866\n",
      "\n",
      "signup_method unique : 4\n",
      "signup_method null : 0\n",
      "\n",
      "signup_flow unique : 18\n",
      "signup_flow null : 0\n",
      "\n",
      "language unique : 26\n",
      "language null : 0\n",
      "\n",
      "affiliate_channel unique : 8\n",
      "affiliate_channel null : 0\n",
      "\n",
      "affiliate_provider unique : 18\n",
      "affiliate_provider null : 0\n",
      "\n",
      "first_affiliate_tracked unique : 8\n",
      "first_affiliate_tracked null : 6085\n",
      "\n",
      "signup_app unique : 4\n",
      "signup_app null : 0\n",
      "\n",
      "first_device_type unique : 9\n",
      "first_device_type null : 0\n",
      "\n",
      "first_browser unique : 55\n",
      "first_browser null : 0\n",
      "\n",
      "country_destination unique : 13\n",
      "country_destination null : 62096\n",
      "\n"
     ]
    }
   ],
   "source": [
    "for col in airb.columns:\n",
    "    print(\"{col} unique : {count}\".format(col=col, count=len(airb[col].unique())))\n",
    "    print(\"{col} null : {count}\".format(col=col, count=airb[col].isnull().sum()))\n",
    "    print()"
   ]
  },
  {
   "cell_type": "markdown",
   "metadata": {},
   "source": [
    "#### 1.2.1 Dataset 'ID' Check"
   ]
  },
  {
   "cell_type": "code",
   "execution_count": 20,
   "metadata": {},
   "outputs": [
    {
     "name": "stdout",
     "output_type": "stream",
     "text": [
      "id unique : 275547\n",
      "id null : 0\n"
     ]
    }
   ],
   "source": [
    "print(\"{col} unique : {count}\".format(col=\"id\", count=len(airb.id.unique())))\n",
    "print(\"{col} null : {count}\".format(col=\"id\", count=airb.id.isnull().sum()))"
   ]
  },
  {
   "cell_type": "code",
   "execution_count": 21,
   "metadata": {
    "scrolled": true
   },
   "outputs": [
    {
     "data": {
      "text/plain": [
       "True"
      ]
     },
     "execution_count": 21,
     "metadata": {},
     "output_type": "execute_result"
    }
   ],
   "source": [
    "# ids are unique\n",
    "airb.id.nunique() == airb.shape[0]"
   ]
  },
  {
   "cell_type": "code",
   "execution_count": null,
   "metadata": {},
   "outputs": [],
   "source": []
  },
  {
   "cell_type": "markdown",
   "metadata": {},
   "source": [
    "## 2. Prerocessing"
   ]
  },
  {
   "cell_type": "markdown",
   "metadata": {},
   "source": [
    "### 2.1 Date_Account_Created (계정생성일)"
   ]
  },
  {
   "cell_type": "markdown",
   "metadata": {},
   "source": [
    "#### 2.1.1 Datetime Parsing\n",
    "* Year\n",
    "* Month\n",
    "* Day\n",
    "* weekday"
   ]
  },
  {
   "cell_type": "code",
   "execution_count": 22,
   "metadata": {},
   "outputs": [],
   "source": [
    "airb.date_account_created = pd.to_datetime(airb.date_account_created)"
   ]
  },
  {
   "cell_type": "code",
   "execution_count": 23,
   "metadata": {},
   "outputs": [],
   "source": [
    "airb[\"dac_year\"] = airb.date_account_created.dt.year\n",
    "airb[\"dac_month\"] = airb.date_account_created.dt.month\n",
    "airb[\"dac_day\"] = airb.date_account_created.dt.day\n",
    "airb[\"dac_weekday\"] = airb.date_account_created.dt.dayofweek"
   ]
  },
  {
   "cell_type": "code",
   "execution_count": 24,
   "metadata": {},
   "outputs": [
    {
     "data": {
      "text/html": [
       "<div>\n",
       "<style scoped>\n",
       "    .dataframe tbody tr th:only-of-type {\n",
       "        vertical-align: middle;\n",
       "    }\n",
       "\n",
       "    .dataframe tbody tr th {\n",
       "        vertical-align: top;\n",
       "    }\n",
       "\n",
       "    .dataframe thead th {\n",
       "        text-align: right;\n",
       "    }\n",
       "</style>\n",
       "<table border=\"1\" class=\"dataframe\">\n",
       "  <thead>\n",
       "    <tr style=\"text-align: right;\">\n",
       "      <th></th>\n",
       "      <th>id</th>\n",
       "      <th>date_account_created</th>\n",
       "      <th>dac_year</th>\n",
       "      <th>dac_month</th>\n",
       "      <th>dac_day</th>\n",
       "      <th>dac_weekday</th>\n",
       "    </tr>\n",
       "  </thead>\n",
       "  <tbody>\n",
       "    <tr>\n",
       "      <th>275542</th>\n",
       "      <td>cv0na2lf5a</td>\n",
       "      <td>2014-09-30</td>\n",
       "      <td>2014</td>\n",
       "      <td>9</td>\n",
       "      <td>30</td>\n",
       "      <td>1</td>\n",
       "    </tr>\n",
       "    <tr>\n",
       "      <th>275543</th>\n",
       "      <td>zp8xfonng8</td>\n",
       "      <td>2014-09-30</td>\n",
       "      <td>2014</td>\n",
       "      <td>9</td>\n",
       "      <td>30</td>\n",
       "      <td>1</td>\n",
       "    </tr>\n",
       "    <tr>\n",
       "      <th>275544</th>\n",
       "      <td>fa6260ziny</td>\n",
       "      <td>2014-09-30</td>\n",
       "      <td>2014</td>\n",
       "      <td>9</td>\n",
       "      <td>30</td>\n",
       "      <td>1</td>\n",
       "    </tr>\n",
       "    <tr>\n",
       "      <th>275545</th>\n",
       "      <td>87k0fy4ugm</td>\n",
       "      <td>2014-09-30</td>\n",
       "      <td>2014</td>\n",
       "      <td>9</td>\n",
       "      <td>30</td>\n",
       "      <td>1</td>\n",
       "    </tr>\n",
       "    <tr>\n",
       "      <th>275546</th>\n",
       "      <td>9uqfg8txu3</td>\n",
       "      <td>2014-09-30</td>\n",
       "      <td>2014</td>\n",
       "      <td>9</td>\n",
       "      <td>30</td>\n",
       "      <td>1</td>\n",
       "    </tr>\n",
       "  </tbody>\n",
       "</table>\n",
       "</div>"
      ],
      "text/plain": [
       "                id date_account_created  dac_year  dac_month  dac_day  \\\n",
       "275542  cv0na2lf5a           2014-09-30      2014          9       30   \n",
       "275543  zp8xfonng8           2014-09-30      2014          9       30   \n",
       "275544  fa6260ziny           2014-09-30      2014          9       30   \n",
       "275545  87k0fy4ugm           2014-09-30      2014          9       30   \n",
       "275546  9uqfg8txu3           2014-09-30      2014          9       30   \n",
       "\n",
       "        dac_weekday  \n",
       "275542            1  \n",
       "275543            1  \n",
       "275544            1  \n",
       "275545            1  \n",
       "275546            1  "
      ]
     },
     "execution_count": 24,
     "metadata": {},
     "output_type": "execute_result"
    }
   ],
   "source": [
    "airb.filter([\"id\", \"date_account_created\", \"dac_year\", \"dac_month\", \"dac_day\", \"dac_weekday\"]).tail()"
   ]
  },
  {
   "cell_type": "markdown",
   "metadata": {},
   "source": [
    "#### 2.1.2 Visualization"
   ]
  },
  {
   "cell_type": "code",
   "execution_count": 25,
   "metadata": {},
   "outputs": [
    {
     "data": {
      "image/png": "[encoded data removed]",
      "text/plain": [
       "<matplotlib.figure.Figure at 0x114669710>"
      ]
     },
     "metadata": {},
     "output_type": "display_data"
    }
   ],
   "source": [
    "plt.figure(figsize=(10,8))\n",
    "sns.countplot(x=airb.date_account_created.dt.year, palette=sns.diverging_palette(10, 220, sep=80, n=7))\n",
    "plt.xlabel('Year')\n",
    "plt.show()"
   ]
  },
  {
   "cell_type": "code",
   "execution_count": 26,
   "metadata": {},
   "outputs": [
    {
     "data": {
      "image/png": "[encoded data removed]",
      "text/plain": [
       "<matplotlib.figure.Figure at 0x114669b70>"
      ]
     },
     "metadata": {},
     "output_type": "display_data"
    }
   ],
   "source": [
    "plt.figure(figsize=(18, 10))\n",
    "sns.countplot(x=airb.date_account_created.dt.month, hue=airb.date_account_created.dt.year, palette=sns.diverging_palette(10, 220, sep=80, n=7))\n",
    "plt.xlabel('Month')\n",
    "plt.show()"
   ]
  },
  {
   "cell_type": "code",
   "execution_count": 27,
   "metadata": {},
   "outputs": [
    {
     "data": {
      "image/png": "[encoded data removed]",
      "text/plain": [
       "<matplotlib.figure.Figure at 0x11851ae10>"
      ]
     },
     "metadata": {},
     "output_type": "display_data"
    }
   ],
   "source": [
    "plt.figure(figsize=(18, 10))\n",
    "sns.countplot(x=airb.date_account_created.dt.weekday_name, hue=airb.date_account_created.dt.year, palette=\"husl\")\n",
    "plt.xlabel('Weekday')\n",
    "plt.show()"
   ]
  },
  {
   "cell_type": "markdown",
   "metadata": {},
   "source": [
    "### 2.2 Timestamp_First_Active (첫 활동 시간)"
   ]
  },
  {
   "cell_type": "markdown",
   "metadata": {},
   "source": [
    "#### 2.2.1 Datetime Parsing\n",
    "* Year\n",
    "* Month\n",
    "* Day\n",
    "* weekday\n",
    "* hour"
   ]
  },
  {
   "cell_type": "code",
   "execution_count": 36,
   "metadata": {},
   "outputs": [],
   "source": [
    "airb.timestamp_first_active = pd.to_datetime(airb.timestamp_first_active.astype(str))"
   ]
  },
  {
   "cell_type": "code",
   "execution_count": 37,
   "metadata": {},
   "outputs": [],
   "source": [
    "airb[\"tfa_year\"] = airb.timestamp_first_active.dt.year\n",
    "airb[\"tfa_month\"] = airb.timestamp_first_active.dt.month\n",
    "airb[\"tfa_day\"] = airb.timestamp_first_active.dt.day\n",
    "airb[\"tfa_weekday\"] = airb.timestamp_first_active.dt.dayofweek\n",
    "airb[\"tfa_hour\"] = airb.timestamp_first_active.dt.hour"
   ]
  },
  {
   "cell_type": "code",
   "execution_count": 38,
   "metadata": {},
   "outputs": [
    {
     "data": {
      "text/html": [
       "<div>\n",
       "<style scoped>\n",
       "    .dataframe tbody tr th:only-of-type {\n",
       "        vertical-align: middle;\n",
       "    }\n",
       "\n",
       "    .dataframe tbody tr th {\n",
       "        vertical-align: top;\n",
       "    }\n",
       "\n",
       "    .dataframe thead th {\n",
       "        text-align: right;\n",
       "    }\n",
       "</style>\n",
       "<table border=\"1\" class=\"dataframe\">\n",
       "  <thead>\n",
       "    <tr style=\"text-align: right;\">\n",
       "      <th></th>\n",
       "      <th>id</th>\n",
       "      <th>timestamp_first_active</th>\n",
       "      <th>tfa_year</th>\n",
       "      <th>tfa_month</th>\n",
       "      <th>tfa_day</th>\n",
       "      <th>tfa_weekday</th>\n",
       "      <th>tfa_hour</th>\n",
       "    </tr>\n",
       "  </thead>\n",
       "  <tbody>\n",
       "    <tr>\n",
       "      <th>275542</th>\n",
       "      <td>cv0na2lf5a</td>\n",
       "      <td>2014-09-30 23:52:32</td>\n",
       "      <td>2014</td>\n",
       "      <td>9</td>\n",
       "      <td>30</td>\n",
       "      <td>1</td>\n",
       "      <td>23</td>\n",
       "    </tr>\n",
       "    <tr>\n",
       "      <th>275543</th>\n",
       "      <td>zp8xfonng8</td>\n",
       "      <td>2014-09-30 23:53:06</td>\n",
       "      <td>2014</td>\n",
       "      <td>9</td>\n",
       "      <td>30</td>\n",
       "      <td>1</td>\n",
       "      <td>23</td>\n",
       "    </tr>\n",
       "    <tr>\n",
       "      <th>275544</th>\n",
       "      <td>fa6260ziny</td>\n",
       "      <td>2014-09-30 23:54:08</td>\n",
       "      <td>2014</td>\n",
       "      <td>9</td>\n",
       "      <td>30</td>\n",
       "      <td>1</td>\n",
       "      <td>23</td>\n",
       "    </tr>\n",
       "    <tr>\n",
       "      <th>275545</th>\n",
       "      <td>87k0fy4ugm</td>\n",
       "      <td>2014-09-30 23:54:30</td>\n",
       "      <td>2014</td>\n",
       "      <td>9</td>\n",
       "      <td>30</td>\n",
       "      <td>1</td>\n",
       "      <td>23</td>\n",
       "    </tr>\n",
       "    <tr>\n",
       "      <th>275546</th>\n",
       "      <td>9uqfg8txu3</td>\n",
       "      <td>2014-09-30 23:59:01</td>\n",
       "      <td>2014</td>\n",
       "      <td>9</td>\n",
       "      <td>30</td>\n",
       "      <td>1</td>\n",
       "      <td>23</td>\n",
       "    </tr>\n",
       "  </tbody>\n",
       "</table>\n",
       "</div>"
      ],
      "text/plain": [
       "                id timestamp_first_active  tfa_year  tfa_month  tfa_day  \\\n",
       "275542  cv0na2lf5a    2014-09-30 23:52:32      2014          9       30   \n",
       "275543  zp8xfonng8    2014-09-30 23:53:06      2014          9       30   \n",
       "275544  fa6260ziny    2014-09-30 23:54:08      2014          9       30   \n",
       "275545  87k0fy4ugm    2014-09-30 23:54:30      2014          9       30   \n",
       "275546  9uqfg8txu3    2014-09-30 23:59:01      2014          9       30   \n",
       "\n",
       "        tfa_weekday  tfa_hour  \n",
       "275542            1        23  \n",
       "275543            1        23  \n",
       "275544            1        23  \n",
       "275545            1        23  \n",
       "275546            1        23  "
      ]
     },
     "execution_count": 38,
     "metadata": {},
     "output_type": "execute_result"
    }
   ],
   "source": [
    "airb.filter([\"id\", \"timestamp_first_active\", \"tfa_year\", \"tfa_month\", \"tfa_day\", \"tfa_weekday\", \"tfa_hour\"]).tail()"
   ]
  },
  {
   "cell_type": "markdown",
   "metadata": {},
   "source": [
    "#### 2.2.2 Visualization"
   ]
  },
  {
   "cell_type": "code",
   "execution_count": 39,
   "metadata": {},
   "outputs": [
    {
     "data": {
      "image/png": "[encoded data removed]",
      "text/plain": [
       "<matplotlib.figure.Figure at 0x115fa41d0>"
      ]
     },
     "metadata": {},
     "output_type": "display_data"
    }
   ],
   "source": [
    "plt.figure(figsize=(18, 10))\n",
    "sns.countplot(x=airb.tfa_hour, palette=sns.diverging_palette(10, 220, sep=80, n=7))\n",
    "plt.show()"
   ]
  },
  {
   "cell_type": "markdown",
   "metadata": {},
   "source": [
    "### 2.3 Gender"
   ]
  },
  {
   "cell_type": "code",
   "execution_count": 40,
   "metadata": {},
   "outputs": [
    {
     "data": {
      "text/plain": [
       "-unknown-    46.990169\n",
       "FEMALE       28.134583\n",
       "MALE         24.754035\n",
       "OTHER         0.121213\n",
       "Name: gender, dtype: float64"
      ]
     },
     "execution_count": 40,
     "metadata": {},
     "output_type": "execute_result"
    }
   ],
   "source": [
    "airb.gender.value_counts(normalize=True) * 100"
   ]
  },
  {
   "cell_type": "markdown",
   "metadata": {},
   "source": [
    "#### 2.3.1 New Feature : 성별 정보 입력 여부"
   ]
  },
  {
   "cell_type": "code",
   "execution_count": 41,
   "metadata": {},
   "outputs": [],
   "source": [
    "# f = (lambda gender : 0 if gender == \"-unknown-\" else 1)\n",
    "airb[\"gender_known\"] = airb.gender.apply(lambda gender : 0 if gender == \"-unknown-\" else 1)"
   ]
  },
  {
   "cell_type": "code",
   "execution_count": 42,
   "metadata": {},
   "outputs": [
    {
     "data": {
      "text/html": [
       "<div>\n",
       "<style scoped>\n",
       "    .dataframe tbody tr th:only-of-type {\n",
       "        vertical-align: middle;\n",
       "    }\n",
       "\n",
       "    .dataframe tbody tr th {\n",
       "        vertical-align: top;\n",
       "    }\n",
       "\n",
       "    .dataframe thead th {\n",
       "        text-align: right;\n",
       "    }\n",
       "</style>\n",
       "<table border=\"1\" class=\"dataframe\">\n",
       "  <thead>\n",
       "    <tr style=\"text-align: right;\">\n",
       "      <th></th>\n",
       "      <th>id</th>\n",
       "      <th>gender</th>\n",
       "      <th>gender_known</th>\n",
       "    </tr>\n",
       "  </thead>\n",
       "  <tbody>\n",
       "    <tr>\n",
       "      <th>275542</th>\n",
       "      <td>cv0na2lf5a</td>\n",
       "      <td>-unknown-</td>\n",
       "      <td>0</td>\n",
       "    </tr>\n",
       "    <tr>\n",
       "      <th>275543</th>\n",
       "      <td>zp8xfonng8</td>\n",
       "      <td>-unknown-</td>\n",
       "      <td>0</td>\n",
       "    </tr>\n",
       "    <tr>\n",
       "      <th>275544</th>\n",
       "      <td>fa6260ziny</td>\n",
       "      <td>-unknown-</td>\n",
       "      <td>0</td>\n",
       "    </tr>\n",
       "    <tr>\n",
       "      <th>275545</th>\n",
       "      <td>87k0fy4ugm</td>\n",
       "      <td>-unknown-</td>\n",
       "      <td>0</td>\n",
       "    </tr>\n",
       "    <tr>\n",
       "      <th>275546</th>\n",
       "      <td>9uqfg8txu3</td>\n",
       "      <td>FEMALE</td>\n",
       "      <td>1</td>\n",
       "    </tr>\n",
       "  </tbody>\n",
       "</table>\n",
       "</div>"
      ],
      "text/plain": [
       "                id     gender  gender_known\n",
       "275542  cv0na2lf5a  -unknown-             0\n",
       "275543  zp8xfonng8  -unknown-             0\n",
       "275544  fa6260ziny  -unknown-             0\n",
       "275545  87k0fy4ugm  -unknown-             0\n",
       "275546  9uqfg8txu3     FEMALE             1"
      ]
     },
     "execution_count": 42,
     "metadata": {},
     "output_type": "execute_result"
    }
   ],
   "source": [
    "airb.filter([\"id\", \"gender\", \"gender_known\"]).tail()"
   ]
  },
  {
   "cell_type": "code",
   "execution_count": 43,
   "metadata": {},
   "outputs": [
    {
     "data": {
      "text/plain": [
       "1    53.009831\n",
       "0    46.990169\n",
       "Name: gender_known, dtype: float64"
      ]
     },
     "execution_count": 43,
     "metadata": {},
     "output_type": "execute_result"
    }
   ],
   "source": [
    "airb.gender_known.value_counts(normalize=True) * 100"
   ]
  },
  {
   "cell_type": "markdown",
   "metadata": {},
   "source": [
    "### 2.4 Age"
   ]
  },
  {
   "cell_type": "code",
   "execution_count": 44,
   "metadata": {
    "scrolled": true
   },
   "outputs": [
    {
     "data": {
      "text/plain": [
       "count    158681.000000\n",
       "mean         47.145310\n",
       "std         142.629468\n",
       "min           1.000000\n",
       "25%          28.000000\n",
       "50%          33.000000\n",
       "75%          42.000000\n",
       "max        2014.000000\n",
       "Name: age, dtype: float64"
      ]
     },
     "execution_count": 44,
     "metadata": {},
     "output_type": "execute_result"
    }
   ],
   "source": [
    "airb.age.describe()"
   ]
  },
  {
   "cell_type": "code",
   "execution_count": 45,
   "metadata": {},
   "outputs": [
    {
     "data": {
      "text/plain": [
       "116866"
      ]
     },
     "execution_count": 45,
     "metadata": {},
     "output_type": "execute_result"
    }
   ],
   "source": [
    "airb.age.isnull().sum()"
   ]
  },
  {
   "cell_type": "markdown",
   "metadata": {},
   "source": [
    "#### 2.4.1 Odd Value 변환"
   ]
  },
  {
   "cell_type": "code",
   "execution_count": 46,
   "metadata": {
    "scrolled": true
   },
   "outputs": [
    {
     "data": {
      "text/plain": [
       "388       2014.0\n",
       "673       2014.0\n",
       "1040      2014.0\n",
       "1177      2013.0\n",
       "1200      2014.0\n",
       "1239      2014.0\n",
       "1257      2014.0\n",
       "1308      2014.0\n",
       "1474      2014.0\n",
       "1502      2014.0\n",
       "1826      2014.0\n",
       "1860      2014.0\n",
       "2582      2014.0\n",
       "3818      2014.0\n",
       "4292      2013.0\n",
       "5091      2014.0\n",
       "5331      2014.0\n",
       "5549      2014.0\n",
       "5638      2014.0\n",
       "5706      2014.0\n",
       "5710      2014.0\n",
       "5735      2014.0\n",
       "5989      2014.0\n",
       "6695      2014.0\n",
       "6925      2014.0\n",
       "7097      2014.0\n",
       "7185      2013.0\n",
       "7360      2014.0\n",
       "7505      2014.0\n",
       "7785      2014.0\n",
       "           ...  \n",
       "246075    1939.0\n",
       "246329    1951.0\n",
       "247333    1928.0\n",
       "247630    1920.0\n",
       "250588    2001.0\n",
       "251243    1923.0\n",
       "252888    1926.0\n",
       "252920    1928.0\n",
       "254405    1920.0\n",
       "257383    1925.0\n",
       "258053    1925.0\n",
       "258832    1934.0\n",
       "259037    1927.0\n",
       "259068    1933.0\n",
       "261098    2001.0\n",
       "261212    1934.0\n",
       "262753    1933.0\n",
       "263026    1935.0\n",
       "267006    1948.0\n",
       "267268    2002.0\n",
       "268764    1941.0\n",
       "269071    1951.0\n",
       "269408    2001.0\n",
       "271110    1924.0\n",
       "271419    1944.0\n",
       "272027    1927.0\n",
       "272279    1935.0\n",
       "272637    1923.0\n",
       "273624    1927.0\n",
       "273719    2001.0\n",
       "Name: age, Length: 830, dtype: float64"
      ]
     },
     "execution_count": 46,
     "metadata": {},
     "output_type": "execute_result"
    }
   ],
   "source": [
    "airb.age[airb.age > 120]"
   ]
  },
  {
   "cell_type": "markdown",
   "metadata": {},
   "source": [
    "##### Age 값 중에 2010살 이상과 120살 이상은 잘못 입력된 값으로 가정\n",
    "\n",
    "##### 1900살로 표시된 값들은 출생년도로 추정하여 2015년을 기준으로 나이를 계산 "
   ]
  },
  {
   "cell_type": "code",
   "execution_count": 47,
   "metadata": {},
   "outputs": [
    {
     "name": "stdout",
     "output_type": "stream",
     "text": [
      "2014 count : 710\n",
      "2013 count : 39\n",
      "2012 count : 0\n",
      "2011 count : 0\n"
     ]
    }
   ],
   "source": [
    "print(\"{age} count : {count}\".format(age=2014, count=len(airb.age[airb.age == 2014])))\n",
    "print(\"{age} count : {count}\".format(age=2013, count=len(airb.age[airb.age == 2013])))\n",
    "print(\"{age} count : {count}\".format(age=2012, count=len(airb.age[airb.age == 2012])))\n",
    "print(\"{age} count : {count}\".format(age=2011, count=len(airb.age[airb.age == 2011])))"
   ]
  },
  {
   "cell_type": "code",
   "execution_count": 48,
   "metadata": {},
   "outputs": [
    {
     "name": "stdout",
     "output_type": "stream",
     "text": [
      "over 120 count : 81\n"
     ]
    }
   ],
   "source": [
    "print(\"{age} count : {count}\".format(age=\"over 120\", count=len(airb.age[(airb.age > 120) & (airb.age < 2010)])))"
   ]
  },
  {
   "cell_type": "code",
   "execution_count": 49,
   "metadata": {},
   "outputs": [
    {
     "data": {
      "text/plain": [
       "1927.0    6\n",
       "1928.0    6\n",
       "2001.0    5\n",
       "1931.0    4\n",
       "1949.0    3\n",
       "1934.0    3\n",
       "1933.0    3\n",
       "1925.0    3\n",
       "1947.0    3\n",
       "1924.0    3\n",
       "1935.0    3\n",
       "1932.0    3\n",
       "1923.0    2\n",
       "1936.0    2\n",
       "1938.0    2\n",
       "1926.0    2\n",
       "1944.0    2\n",
       "1940.0    2\n",
       "1951.0    2\n",
       "1920.0    2\n",
       "1929.0    2\n",
       "2000.0    1\n",
       "1953.0    1\n",
       "1939.0    1\n",
       "1945.0    1\n",
       "1937.0    1\n",
       "1952.0    1\n",
       "150.0     1\n",
       "132.0     1\n",
       "2008.0    1\n",
       "1942.0    1\n",
       "1930.0    1\n",
       "1995.0    1\n",
       "2002.0    1\n",
       "1948.0    1\n",
       "1922.0    1\n",
       "1968.0    1\n",
       "1954.0    1\n",
       "1941.0    1\n",
       "Name: age, dtype: int64"
      ]
     },
     "execution_count": 49,
     "metadata": {},
     "output_type": "execute_result"
    }
   ],
   "source": [
    "# 사용자의 나이 최대값 120으로 가정 (기네스북 등재된 최고령자 : 117세)\n",
    "airb.age[(airb.age > 120) & (airb.age < 2010)].value_counts()"
   ]
  },
  {
   "cell_type": "code",
   "execution_count": 50,
   "metadata": {},
   "outputs": [],
   "source": [
    "indices = list(airb.age[airb.age == 2014].index)\n",
    "for index in indices:\n",
    "    airb.loc[index, 'age'] = np.nan\n",
    "    \n",
    "indices = list(airb.age[airb.age == 2013].index)\n",
    "for index in indices:\n",
    "    airb.loc[index, 'age'] = np.nan\n",
    "    \n",
    "indices = list(airb.age[(airb.age > 120) & (airb.age < 1900)].index)\n",
    "for index in indices:\n",
    "    airb.loc[index, 'age'] = np.nan\n",
    "\n",
    "indices = list(airb.age[(airb.age > 1900) & (airb.age < 2010)].index)\n",
    "for index in indices:\n",
    "        mod = 2015 - airb.age.loc[index]\n",
    "        airb.loc[index, 'age'] = mod"
   ]
  },
  {
   "cell_type": "code",
   "execution_count": 54,
   "metadata": {
    "scrolled": true
   },
   "outputs": [
    {
     "name": "stdout",
     "output_type": "stream",
     "text": [
      "2014 count : 0\n",
      "2013 count : 0\n",
      "2012 count : 0\n",
      "2011 count : 0\n",
      "over 120 count : 0\n"
     ]
    }
   ],
   "source": [
    "# Check\n",
    "print(\"{age} count : {count}\".format(age=2014, count=len(airb.age[airb.age == 2014])))\n",
    "print(\"{age} count : {count}\".format(age=2013, count=len(airb.age[airb.age == 2013])))\n",
    "print(\"{age} count : {count}\".format(age=2012, count=len(airb.age[airb.age == 2012])))\n",
    "print(\"{age} count : {count}\".format(age=2011, count=len(airb.age[airb.age == 2011])))\n",
    "print(\"{age} count : {count}\".format(age=\"over 120\", count=len(airb.age[(airb.age > 120) & (airb.age < 2010)])))"
   ]
  },
  {
   "cell_type": "code",
   "execution_count": 53,
   "metadata": {},
   "outputs": [
    {
     "name": "stdout",
     "output_type": "stream",
     "text": [
      "age unique : 108\n",
      "age null : 117617\n"
     ]
    }
   ],
   "source": [
    "print(\"{col} unique : {count}\".format(col=\"age\", count=len(airb.age.unique())))\n",
    "print(\"{col} null : {count}\".format(col=\"age\", count=airb.age.isnull().sum()))"
   ]
  },
  {
   "cell_type": "markdown",
   "metadata": {},
   "source": [
    "#### 2.4.2 Age Distribution"
   ]
  },
  {
   "cell_type": "code",
   "execution_count": 56,
   "metadata": {},
   "outputs": [
    {
     "data": {
      "image/png": "[encoded data removed]",
      "text/plain": [
       "<matplotlib.figure.Figure at 0x115c99c88>"
      ]
     },
     "metadata": {},
     "output_type": "display_data"
    }
   ],
   "source": [
    "plt.figure(figsize=(10,8))\n",
    "\n",
    "sns.countplot(x=airb.age.dropna())\n",
    "plt.show()"
   ]
  },
  {
   "cell_type": "code",
   "execution_count": 57,
   "metadata": {
    "scrolled": false
   },
   "outputs": [
    {
     "data": {
      "text/plain": [
       "count    157930.000000\n",
       "mean         36.881080\n",
       "std          13.857854\n",
       "min           1.000000\n",
       "25%          28.000000\n",
       "50%          33.000000\n",
       "75%          42.000000\n",
       "max         115.000000\n",
       "Name: age, dtype: float64"
      ]
     },
     "execution_count": 57,
     "metadata": {},
     "output_type": "execute_result"
    }
   ],
   "source": [
    "airb.age.describe()"
   ]
  },
  {
   "cell_type": "code",
   "execution_count": 148,
   "metadata": {},
   "outputs": [
    {
     "data": {
      "image/png": "[encoded data removed]",
      "text/plain": [
       "<matplotlib.figure.Figure at 0x117c65be0>"
      ]
     },
     "metadata": {
      "image/png": {
       "height": 479,
       "width": 1063
      }
     },
     "output_type": "display_data"
    }
   ],
   "source": [
    "# Age 분포 오른쪽 확대\n",
    "\n",
    "# plt.figure(figsize=(18,8))\n",
    "\n",
    "# sns.countplot(x=airb.age[airb.age> 70])\n",
    "# plt.show()"
   ]
  },
  {
   "cell_type": "markdown",
   "metadata": {},
   "source": [
    "#### 2.4.3 Age Bucket : 나이를 5살씩 카테고리 분류"
   ]
  },
  {
   "cell_type": "code",
   "execution_count": 58,
   "metadata": {
    "collapsed": true
   },
   "outputs": [
    {
     "data": {
      "text/html": [
       "<div>\n",
       "<style scoped>\n",
       "    .dataframe tbody tr th:only-of-type {\n",
       "        vertical-align: middle;\n",
       "    }\n",
       "\n",
       "    .dataframe tbody tr th {\n",
       "        vertical-align: top;\n",
       "    }\n",
       "\n",
       "    .dataframe thead th {\n",
       "        text-align: right;\n",
       "    }\n",
       "</style>\n",
       "<table border=\"1\" class=\"dataframe\">\n",
       "  <thead>\n",
       "    <tr style=\"text-align: right;\">\n",
       "      <th></th>\n",
       "      <th>age_bucket</th>\n",
       "    </tr>\n",
       "    <tr>\n",
       "      <th>age</th>\n",
       "      <th></th>\n",
       "    </tr>\n",
       "  </thead>\n",
       "  <tbody>\n",
       "    <tr>\n",
       "      <th>0</th>\n",
       "      <td>0-4</td>\n",
       "    </tr>\n",
       "    <tr>\n",
       "      <th>1</th>\n",
       "      <td>0-4</td>\n",
       "    </tr>\n",
       "    <tr>\n",
       "      <th>2</th>\n",
       "      <td>0-4</td>\n",
       "    </tr>\n",
       "    <tr>\n",
       "      <th>3</th>\n",
       "      <td>0-4</td>\n",
       "    </tr>\n",
       "    <tr>\n",
       "      <th>4</th>\n",
       "      <td>0-4</td>\n",
       "    </tr>\n",
       "    <tr>\n",
       "      <th>5</th>\n",
       "      <td>5-9</td>\n",
       "    </tr>\n",
       "    <tr>\n",
       "      <th>6</th>\n",
       "      <td>5-9</td>\n",
       "    </tr>\n",
       "    <tr>\n",
       "      <th>7</th>\n",
       "      <td>5-9</td>\n",
       "    </tr>\n",
       "    <tr>\n",
       "      <th>8</th>\n",
       "      <td>5-9</td>\n",
       "    </tr>\n",
       "    <tr>\n",
       "      <th>9</th>\n",
       "      <td>5-9</td>\n",
       "    </tr>\n",
       "    <tr>\n",
       "      <th>10</th>\n",
       "      <td>10-14</td>\n",
       "    </tr>\n",
       "    <tr>\n",
       "      <th>11</th>\n",
       "      <td>10-14</td>\n",
       "    </tr>\n",
       "    <tr>\n",
       "      <th>12</th>\n",
       "      <td>10-14</td>\n",
       "    </tr>\n",
       "    <tr>\n",
       "      <th>13</th>\n",
       "      <td>10-14</td>\n",
       "    </tr>\n",
       "    <tr>\n",
       "      <th>14</th>\n",
       "      <td>10-14</td>\n",
       "    </tr>\n",
       "    <tr>\n",
       "      <th>15</th>\n",
       "      <td>15-19</td>\n",
       "    </tr>\n",
       "    <tr>\n",
       "      <th>16</th>\n",
       "      <td>15-19</td>\n",
       "    </tr>\n",
       "    <tr>\n",
       "      <th>17</th>\n",
       "      <td>15-19</td>\n",
       "    </tr>\n",
       "    <tr>\n",
       "      <th>18</th>\n",
       "      <td>15-19</td>\n",
       "    </tr>\n",
       "    <tr>\n",
       "      <th>19</th>\n",
       "      <td>15-19</td>\n",
       "    </tr>\n",
       "    <tr>\n",
       "      <th>20</th>\n",
       "      <td>20-24</td>\n",
       "    </tr>\n",
       "    <tr>\n",
       "      <th>21</th>\n",
       "      <td>20-24</td>\n",
       "    </tr>\n",
       "    <tr>\n",
       "      <th>22</th>\n",
       "      <td>20-24</td>\n",
       "    </tr>\n",
       "    <tr>\n",
       "      <th>23</th>\n",
       "      <td>20-24</td>\n",
       "    </tr>\n",
       "    <tr>\n",
       "      <th>24</th>\n",
       "      <td>20-24</td>\n",
       "    </tr>\n",
       "    <tr>\n",
       "      <th>25</th>\n",
       "      <td>25-29</td>\n",
       "    </tr>\n",
       "    <tr>\n",
       "      <th>26</th>\n",
       "      <td>25-29</td>\n",
       "    </tr>\n",
       "    <tr>\n",
       "      <th>27</th>\n",
       "      <td>25-29</td>\n",
       "    </tr>\n",
       "    <tr>\n",
       "      <th>28</th>\n",
       "      <td>25-29</td>\n",
       "    </tr>\n",
       "    <tr>\n",
       "      <th>29</th>\n",
       "      <td>25-29</td>\n",
       "    </tr>\n",
       "    <tr>\n",
       "      <th>...</th>\n",
       "      <td>...</td>\n",
       "    </tr>\n",
       "    <tr>\n",
       "      <th>121</th>\n",
       "      <td>100+</td>\n",
       "    </tr>\n",
       "    <tr>\n",
       "      <th>122</th>\n",
       "      <td>100+</td>\n",
       "    </tr>\n",
       "    <tr>\n",
       "      <th>123</th>\n",
       "      <td>100+</td>\n",
       "    </tr>\n",
       "    <tr>\n",
       "      <th>124</th>\n",
       "      <td>100+</td>\n",
       "    </tr>\n",
       "    <tr>\n",
       "      <th>125</th>\n",
       "      <td>100+</td>\n",
       "    </tr>\n",
       "    <tr>\n",
       "      <th>126</th>\n",
       "      <td>100+</td>\n",
       "    </tr>\n",
       "    <tr>\n",
       "      <th>127</th>\n",
       "      <td>100+</td>\n",
       "    </tr>\n",
       "    <tr>\n",
       "      <th>128</th>\n",
       "      <td>100+</td>\n",
       "    </tr>\n",
       "    <tr>\n",
       "      <th>129</th>\n",
       "      <td>100+</td>\n",
       "    </tr>\n",
       "    <tr>\n",
       "      <th>130</th>\n",
       "      <td>100+</td>\n",
       "    </tr>\n",
       "    <tr>\n",
       "      <th>131</th>\n",
       "      <td>100+</td>\n",
       "    </tr>\n",
       "    <tr>\n",
       "      <th>132</th>\n",
       "      <td>100+</td>\n",
       "    </tr>\n",
       "    <tr>\n",
       "      <th>133</th>\n",
       "      <td>100+</td>\n",
       "    </tr>\n",
       "    <tr>\n",
       "      <th>134</th>\n",
       "      <td>100+</td>\n",
       "    </tr>\n",
       "    <tr>\n",
       "      <th>135</th>\n",
       "      <td>100+</td>\n",
       "    </tr>\n",
       "    <tr>\n",
       "      <th>136</th>\n",
       "      <td>100+</td>\n",
       "    </tr>\n",
       "    <tr>\n",
       "      <th>137</th>\n",
       "      <td>100+</td>\n",
       "    </tr>\n",
       "    <tr>\n",
       "      <th>138</th>\n",
       "      <td>100+</td>\n",
       "    </tr>\n",
       "    <tr>\n",
       "      <th>139</th>\n",
       "      <td>100+</td>\n",
       "    </tr>\n",
       "    <tr>\n",
       "      <th>140</th>\n",
       "      <td>100+</td>\n",
       "    </tr>\n",
       "    <tr>\n",
       "      <th>141</th>\n",
       "      <td>100+</td>\n",
       "    </tr>\n",
       "    <tr>\n",
       "      <th>142</th>\n",
       "      <td>100+</td>\n",
       "    </tr>\n",
       "    <tr>\n",
       "      <th>143</th>\n",
       "      <td>100+</td>\n",
       "    </tr>\n",
       "    <tr>\n",
       "      <th>144</th>\n",
       "      <td>100+</td>\n",
       "    </tr>\n",
       "    <tr>\n",
       "      <th>145</th>\n",
       "      <td>100+</td>\n",
       "    </tr>\n",
       "    <tr>\n",
       "      <th>146</th>\n",
       "      <td>100+</td>\n",
       "    </tr>\n",
       "    <tr>\n",
       "      <th>147</th>\n",
       "      <td>100+</td>\n",
       "    </tr>\n",
       "    <tr>\n",
       "      <th>148</th>\n",
       "      <td>100+</td>\n",
       "    </tr>\n",
       "    <tr>\n",
       "      <th>149</th>\n",
       "      <td>100+</td>\n",
       "    </tr>\n",
       "    <tr>\n",
       "      <th>150</th>\n",
       "      <td>100+</td>\n",
       "    </tr>\n",
       "  </tbody>\n",
       "</table>\n",
       "<p>151 rows × 1 columns</p>\n",
       "</div>"
      ],
      "text/plain": [
       "    age_bucket\n",
       "age           \n",
       "0          0-4\n",
       "1          0-4\n",
       "2          0-4\n",
       "3          0-4\n",
       "4          0-4\n",
       "5          5-9\n",
       "6          5-9\n",
       "7          5-9\n",
       "8          5-9\n",
       "9          5-9\n",
       "10       10-14\n",
       "11       10-14\n",
       "12       10-14\n",
       "13       10-14\n",
       "14       10-14\n",
       "15       15-19\n",
       "16       15-19\n",
       "17       15-19\n",
       "18       15-19\n",
       "19       15-19\n",
       "20       20-24\n",
       "21       20-24\n",
       "22       20-24\n",
       "23       20-24\n",
       "24       20-24\n",
       "25       25-29\n",
       "26       25-29\n",
       "27       25-29\n",
       "28       25-29\n",
       "29       25-29\n",
       "..         ...\n",
       "121       100+\n",
       "122       100+\n",
       "123       100+\n",
       "124       100+\n",
       "125       100+\n",
       "126       100+\n",
       "127       100+\n",
       "128       100+\n",
       "129       100+\n",
       "130       100+\n",
       "131       100+\n",
       "132       100+\n",
       "133       100+\n",
       "134       100+\n",
       "135       100+\n",
       "136       100+\n",
       "137       100+\n",
       "138       100+\n",
       "139       100+\n",
       "140       100+\n",
       "141       100+\n",
       "142       100+\n",
       "143       100+\n",
       "144       100+\n",
       "145       100+\n",
       "146       100+\n",
       "147       100+\n",
       "148       100+\n",
       "149       100+\n",
       "150       100+\n",
       "\n",
       "[151 rows x 1 columns]"
      ]
     },
     "execution_count": 58,
     "metadata": {},
     "output_type": "execute_result"
    }
   ],
   "source": [
    "df = pd.DataFrame(columns = [\"age\", \"age_bucket\"])\n",
    "df[\"age\"] = list(range(0, 151))\n",
    "\n",
    "age_bucket = list(age_gender.age_bucket.unique())\n",
    "age_bucket.reverse()\n",
    "\n",
    "for i in range(len(df)):\n",
    "    if df.age[i] > 100:\n",
    "        df.loc[i, \"age_bucket\"] = age_bucket[-1]\n",
    "    else:\n",
    "        df.loc[i, \"age_bucket\"] = age_bucket[i//5]\n",
    "\n",
    "df = df.set_index(\"age\")\n",
    "df"
   ]
  },
  {
   "cell_type": "code",
   "execution_count": 59,
   "metadata": {
    "scrolled": true
   },
   "outputs": [
    {
     "data": {
      "text/html": [
       "<div>\n",
       "<style scoped>\n",
       "    .dataframe tbody tr th:only-of-type {\n",
       "        vertical-align: middle;\n",
       "    }\n",
       "\n",
       "    .dataframe tbody tr th {\n",
       "        vertical-align: top;\n",
       "    }\n",
       "\n",
       "    .dataframe thead th {\n",
       "        text-align: right;\n",
       "    }\n",
       "</style>\n",
       "<table border=\"1\" class=\"dataframe\">\n",
       "  <thead>\n",
       "    <tr style=\"text-align: right;\">\n",
       "      <th></th>\n",
       "      <th>index</th>\n",
       "      <th>id</th>\n",
       "      <th>date_account_created</th>\n",
       "      <th>timestamp_first_active</th>\n",
       "      <th>gender</th>\n",
       "      <th>age</th>\n",
       "      <th>signup_method</th>\n",
       "      <th>signup_flow</th>\n",
       "      <th>language</th>\n",
       "      <th>affiliate_channel</th>\n",
       "      <th>...</th>\n",
       "      <th>dac_month</th>\n",
       "      <th>dac_day</th>\n",
       "      <th>dac_weekday</th>\n",
       "      <th>tfa_year</th>\n",
       "      <th>tfa_month</th>\n",
       "      <th>tfa_day</th>\n",
       "      <th>tfa_weekday</th>\n",
       "      <th>tfa_hour</th>\n",
       "      <th>gender_known</th>\n",
       "      <th>age_bkt</th>\n",
       "    </tr>\n",
       "  </thead>\n",
       "  <tbody>\n",
       "    <tr>\n",
       "      <th>0</th>\n",
       "      <td>0</td>\n",
       "      <td>gxn3p5htnn</td>\n",
       "      <td>2010-06-28</td>\n",
       "      <td>2009-03-19 04:32:55</td>\n",
       "      <td>-unknown-</td>\n",
       "      <td>NaN</td>\n",
       "      <td>facebook</td>\n",
       "      <td>0</td>\n",
       "      <td>en</td>\n",
       "      <td>direct</td>\n",
       "      <td>...</td>\n",
       "      <td>6</td>\n",
       "      <td>28</td>\n",
       "      <td>0</td>\n",
       "      <td>2009</td>\n",
       "      <td>3</td>\n",
       "      <td>19</td>\n",
       "      <td>3</td>\n",
       "      <td>4</td>\n",
       "      <td>0</td>\n",
       "      <td>NaN</td>\n",
       "    </tr>\n",
       "    <tr>\n",
       "      <th>1</th>\n",
       "      <td>1</td>\n",
       "      <td>820tgsjxq7</td>\n",
       "      <td>2011-05-25</td>\n",
       "      <td>2009-05-23 17:48:09</td>\n",
       "      <td>MALE</td>\n",
       "      <td>38.0</td>\n",
       "      <td>facebook</td>\n",
       "      <td>0</td>\n",
       "      <td>en</td>\n",
       "      <td>seo</td>\n",
       "      <td>...</td>\n",
       "      <td>5</td>\n",
       "      <td>25</td>\n",
       "      <td>2</td>\n",
       "      <td>2009</td>\n",
       "      <td>5</td>\n",
       "      <td>23</td>\n",
       "      <td>5</td>\n",
       "      <td>17</td>\n",
       "      <td>1</td>\n",
       "      <td>35-39</td>\n",
       "    </tr>\n",
       "    <tr>\n",
       "      <th>2</th>\n",
       "      <td>2</td>\n",
       "      <td>4ft3gnwmtx</td>\n",
       "      <td>2010-09-28</td>\n",
       "      <td>2009-06-09 23:12:47</td>\n",
       "      <td>FEMALE</td>\n",
       "      <td>56.0</td>\n",
       "      <td>basic</td>\n",
       "      <td>3</td>\n",
       "      <td>en</td>\n",
       "      <td>direct</td>\n",
       "      <td>...</td>\n",
       "      <td>9</td>\n",
       "      <td>28</td>\n",
       "      <td>1</td>\n",
       "      <td>2009</td>\n",
       "      <td>6</td>\n",
       "      <td>9</td>\n",
       "      <td>1</td>\n",
       "      <td>23</td>\n",
       "      <td>1</td>\n",
       "      <td>55-59</td>\n",
       "    </tr>\n",
       "    <tr>\n",
       "      <th>3</th>\n",
       "      <td>3</td>\n",
       "      <td>bjjt8pjhuk</td>\n",
       "      <td>2011-12-05</td>\n",
       "      <td>2009-10-31 06:01:29</td>\n",
       "      <td>FEMALE</td>\n",
       "      <td>42.0</td>\n",
       "      <td>facebook</td>\n",
       "      <td>0</td>\n",
       "      <td>en</td>\n",
       "      <td>direct</td>\n",
       "      <td>...</td>\n",
       "      <td>12</td>\n",
       "      <td>5</td>\n",
       "      <td>0</td>\n",
       "      <td>2009</td>\n",
       "      <td>10</td>\n",
       "      <td>31</td>\n",
       "      <td>5</td>\n",
       "      <td>6</td>\n",
       "      <td>1</td>\n",
       "      <td>40-44</td>\n",
       "    </tr>\n",
       "    <tr>\n",
       "      <th>4</th>\n",
       "      <td>4</td>\n",
       "      <td>87mebub9p4</td>\n",
       "      <td>2010-09-14</td>\n",
       "      <td>2009-12-08 06:11:05</td>\n",
       "      <td>-unknown-</td>\n",
       "      <td>41.0</td>\n",
       "      <td>basic</td>\n",
       "      <td>0</td>\n",
       "      <td>en</td>\n",
       "      <td>direct</td>\n",
       "      <td>...</td>\n",
       "      <td>9</td>\n",
       "      <td>14</td>\n",
       "      <td>1</td>\n",
       "      <td>2009</td>\n",
       "      <td>12</td>\n",
       "      <td>8</td>\n",
       "      <td>1</td>\n",
       "      <td>6</td>\n",
       "      <td>0</td>\n",
       "      <td>40-44</td>\n",
       "    </tr>\n",
       "  </tbody>\n",
       "</table>\n",
       "<p>5 rows × 27 columns</p>\n",
       "</div>"
      ],
      "text/plain": [
       "   index          id date_account_created timestamp_first_active     gender  \\\n",
       "0      0  gxn3p5htnn           2010-06-28    2009-03-19 04:32:55  -unknown-   \n",
       "1      1  820tgsjxq7           2011-05-25    2009-05-23 17:48:09       MALE   \n",
       "2      2  4ft3gnwmtx           2010-09-28    2009-06-09 23:12:47     FEMALE   \n",
       "3      3  bjjt8pjhuk           2011-12-05    2009-10-31 06:01:29     FEMALE   \n",
       "4      4  87mebub9p4           2010-09-14    2009-12-08 06:11:05  -unknown-   \n",
       "\n",
       "    age signup_method  signup_flow language affiliate_channel   ...     \\\n",
       "0   NaN      facebook            0       en            direct   ...      \n",
       "1  38.0      facebook            0       en               seo   ...      \n",
       "2  56.0         basic            3       en            direct   ...      \n",
       "3  42.0      facebook            0       en            direct   ...      \n",
       "4  41.0         basic            0       en            direct   ...      \n",
       "\n",
       "  dac_month dac_day dac_weekday tfa_year tfa_month tfa_day  tfa_weekday  \\\n",
       "0         6      28           0     2009         3      19            3   \n",
       "1         5      25           2     2009         5      23            5   \n",
       "2         9      28           1     2009         6       9            1   \n",
       "3        12       5           0     2009        10      31            5   \n",
       "4         9      14           1     2009        12       8            1   \n",
       "\n",
       "   tfa_hour  gender_known  age_bkt  \n",
       "0         4             0      NaN  \n",
       "1        17             1    35-39  \n",
       "2        23             1    55-59  \n",
       "3         6             1    40-44  \n",
       "4         6             0    40-44  \n",
       "\n",
       "[5 rows x 27 columns]"
      ]
     },
     "execution_count": 59,
     "metadata": {},
     "output_type": "execute_result"
    }
   ],
   "source": [
    "airb[\"age_bkt\"] = airb[\"age\"].map(df.age_bucket)\n",
    "airb.head()"
   ]
  },
  {
   "cell_type": "code",
   "execution_count": 60,
   "metadata": {},
   "outputs": [
    {
     "data": {
      "text/plain": [
       "25-29    22.598620\n",
       "30-34    22.421326\n",
       "35-39    14.682454\n",
       "40-44     9.007788\n",
       "20-24     8.286583\n",
       "45-49     6.583296\n",
       "50-54     4.658393\n",
       "55-59     3.430001\n",
       "60-64     2.377002\n",
       "15-19     1.885012\n",
       "65-69     1.542456\n",
       "100+      1.197366\n",
       "70-74     0.670550\n",
       "75-79     0.260242\n",
       "80-84     0.116507\n",
       "85-89     0.089280\n",
       "95-99     0.088014\n",
       "90-94     0.063319\n",
       "5-9       0.029127\n",
       "0-4       0.008865\n",
       "10-14     0.003799\n",
       "Name: age_bkt, dtype: float64"
      ]
     },
     "execution_count": 60,
     "metadata": {},
     "output_type": "execute_result"
    }
   ],
   "source": [
    "airb.age_bkt.value_counts(normalize=True) * 100"
   ]
  },
  {
   "cell_type": "markdown",
   "metadata": {},
   "source": [
    "#### 2.4.4 Grouping : Age Bucket 중 비중이 낮은 그룹들을 다시 그룹화"
   ]
  },
  {
   "cell_type": "code",
   "execution_count": 52,
   "metadata": {},
   "outputs": [],
   "source": [
    "indices = list(airb.age_bkt[(airb.age_bkt == '0-4') | (airb.age_bkt == '5-9') | \n",
    "                             (airb.age_bkt == '10-14') | (airb.age_bkt == '15-19')].index)\n",
    "\n",
    "for index in indices:\n",
    "    airb.loc[index, 'age_bkt'] = 'minor'"
   ]
  },
  {
   "cell_type": "code",
   "execution_count": 53,
   "metadata": {},
   "outputs": [],
   "source": [
    "indices = list(airb.age[(airb.age_bkt == '70-74') | (airb.age_bkt == '75-79') |\n",
    "                        (airb.age_bkt == '80-84')| (airb.age_bkt == '85-89')|\n",
    "                        (airb.age_bkt == '90-94')| (airb.age_bkt == '95-99')| (airb.age_bkt == '100+')].index)\n",
    "for index in indices:\n",
    "    airb.loc[index, 'age_bkt'] = 'senior'"
   ]
  },
  {
   "cell_type": "code",
   "execution_count": 54,
   "metadata": {},
   "outputs": [
    {
     "data": {
      "text/plain": [
       "25-29     22.598620\n",
       "30-34     22.421326\n",
       "35-39     14.682454\n",
       "40-44      9.007788\n",
       "20-24      8.286583\n",
       "45-49      6.583296\n",
       "50-54      4.658393\n",
       "55-59      3.430001\n",
       "senior     2.485278\n",
       "60-64      2.377002\n",
       "minor      1.926803\n",
       "65-69      1.542456\n",
       "Name: age_bkt, dtype: float64"
      ]
     },
     "execution_count": 54,
     "metadata": {},
     "output_type": "execute_result"
    }
   ],
   "source": [
    "airb.age_bkt.value_counts(normalize=True) * 100"
   ]
  },
  {
   "cell_type": "markdown",
   "metadata": {},
   "source": [
    "#### 2.4.4 Age_bucket NaN 값 처리"
   ]
  },
  {
   "cell_type": "markdown",
   "metadata": {},
   "source": [
    "##### NaN Value to be filled based on distribution of existing values"
   ]
  },
  {
   "cell_type": "code",
   "execution_count": 61,
   "metadata": {
    "scrolled": false
   },
   "outputs": [
    {
     "name": "stdout",
     "output_type": "stream",
     "text": [
      "25-29    0.225986\n",
      "30-34    0.224213\n",
      "35-39    0.146825\n",
      "40-44    0.090078\n",
      "20-24    0.082866\n",
      "45-49    0.065833\n",
      "50-54    0.046584\n",
      "55-59    0.034300\n",
      "60-64    0.023770\n",
      "15-19    0.018850\n",
      "65-69    0.015425\n",
      "100+     0.011974\n",
      "70-74    0.006706\n",
      "75-79    0.002602\n",
      "80-84    0.001165\n",
      "85-89    0.000893\n",
      "95-99    0.000880\n",
      "90-94    0.000633\n",
      "5-9      0.000291\n",
      "0-4      0.000089\n",
      "10-14    0.000038\n",
      "Name: age_bkt, dtype: float64\n"
     ]
    }
   ],
   "source": [
    "dist = airb.age_bkt.value_counts(normalize=True) \n",
    "print(dist)"
   ]
  },
  {
   "cell_type": "code",
   "execution_count": 62,
   "metadata": {},
   "outputs": [],
   "source": [
    "missing = airb['age_bkt'].isnull()\n",
    "airb.loc[missing,'age_bkt'] = np.random.choice(dist.index, size=len(airb[missing]), p=dist.values)"
   ]
  },
  {
   "cell_type": "code",
   "execution_count": 63,
   "metadata": {},
   "outputs": [
    {
     "data": {
      "text/html": [
       "<div>\n",
       "<style scoped>\n",
       "    .dataframe tbody tr th:only-of-type {\n",
       "        vertical-align: middle;\n",
       "    }\n",
       "\n",
       "    .dataframe tbody tr th {\n",
       "        vertical-align: top;\n",
       "    }\n",
       "\n",
       "    .dataframe thead th {\n",
       "        text-align: right;\n",
       "    }\n",
       "</style>\n",
       "<table border=\"1\" class=\"dataframe\">\n",
       "  <thead>\n",
       "    <tr style=\"text-align: right;\">\n",
       "      <th></th>\n",
       "      <th>index</th>\n",
       "      <th>id</th>\n",
       "      <th>date_account_created</th>\n",
       "      <th>timestamp_first_active</th>\n",
       "      <th>gender</th>\n",
       "      <th>age</th>\n",
       "      <th>signup_method</th>\n",
       "      <th>signup_flow</th>\n",
       "      <th>language</th>\n",
       "      <th>affiliate_channel</th>\n",
       "      <th>...</th>\n",
       "      <th>dac_month</th>\n",
       "      <th>dac_day</th>\n",
       "      <th>dac_weekday</th>\n",
       "      <th>tfa_year</th>\n",
       "      <th>tfa_month</th>\n",
       "      <th>tfa_day</th>\n",
       "      <th>tfa_weekday</th>\n",
       "      <th>tfa_hour</th>\n",
       "      <th>gender_known</th>\n",
       "      <th>age_bkt</th>\n",
       "    </tr>\n",
       "  </thead>\n",
       "  <tbody>\n",
       "  </tbody>\n",
       "</table>\n",
       "<p>0 rows × 27 columns</p>\n",
       "</div>"
      ],
      "text/plain": [
       "Empty DataFrame\n",
       "Columns: [index, id, date_account_created, timestamp_first_active, gender, age, signup_method, signup_flow, language, affiliate_channel, affiliate_provider, first_affiliate_tracked, signup_app, first_device_type, first_browser, country_destination, dac_year, dac_month, dac_day, dac_weekday, tfa_year, tfa_month, tfa_day, tfa_weekday, tfa_hour, gender_known, age_bkt]\n",
       "Index: []\n",
       "\n",
       "[0 rows x 27 columns]"
      ]
     },
     "execution_count": 63,
     "metadata": {},
     "output_type": "execute_result"
    }
   ],
   "source": [
    "airb[airb['age_bkt'].isnull()]"
   ]
  },
  {
   "cell_type": "code",
   "execution_count": 64,
   "metadata": {},
   "outputs": [
    {
     "data": {
      "text/plain": [
       "25-29    22.656752\n",
       "30-34    22.392913\n",
       "35-39    14.712916\n",
       "40-44     9.018062\n",
       "20-24     8.327073\n",
       "45-49     6.556776\n",
       "50-54     4.658008\n",
       "55-59     3.429905\n",
       "60-64     2.342613\n",
       "15-19     1.840702\n",
       "65-69     1.557629\n",
       "100+      1.196892\n",
       "70-74     0.647077\n",
       "75-79     0.267831\n",
       "80-84     0.116496\n",
       "95-99     0.092180\n",
       "85-89     0.086737\n",
       "90-94     0.056615\n",
       "5-9       0.028670\n",
       "0-4       0.010162\n",
       "10-14     0.003992\n",
       "Name: age_bkt, dtype: float64"
      ]
     },
     "execution_count": 64,
     "metadata": {},
     "output_type": "execute_result"
    }
   ],
   "source": [
    "# check age_bkt distribution \n",
    "airb.age_bkt.value_counts(normalize=True) * 100"
   ]
  },
  {
   "cell_type": "code",
   "execution_count": null,
   "metadata": {},
   "outputs": [],
   "source": []
  },
  {
   "cell_type": "markdown",
   "metadata": {},
   "source": [
    "##### Distribution을 통해서 Age의 NaN값을 채운 이유\n",
    "\n",
    "User의 행동을 기반으로 예측모델을 사용하여 Age Bucket을 분류/예측하려 하였으나,\n",
    "    \n",
    "약 50%의 데이터가 분포하고 있는 [25-29], [30-34] 구간의 recall score가 높게 나와\n",
    "\n",
    "전반적인 예측 성능이 떨어짐"
   ]
  },
  {
   "cell_type": "code",
   "execution_count": null,
   "metadata": {},
   "outputs": [],
   "source": []
  },
  {
   "cell_type": "markdown",
   "metadata": {},
   "source": [
    "### 2.5.1 Signup Method (로그인 방법)"
   ]
  },
  {
   "cell_type": "code",
   "execution_count": 66,
   "metadata": {},
   "outputs": [
    {
     "data": {
      "text/plain": [
       "basic       198222\n",
       "facebook     74864\n",
       "google        2438\n",
       "weibo           23\n",
       "Name: signup_method, dtype: int64"
      ]
     },
     "execution_count": 66,
     "metadata": {},
     "output_type": "execute_result"
    }
   ],
   "source": [
    "airb.signup_method.value_counts()"
   ]
  },
  {
   "cell_type": "markdown",
   "metadata": {},
   "source": [
    "### 2.5.2 Signup App"
   ]
  },
  {
   "cell_type": "code",
   "execution_count": 67,
   "metadata": {
    "scrolled": true
   },
   "outputs": [
    {
     "data": {
      "text/plain": [
       "Web        219918\n",
       "iOS         34593\n",
       "Android     10519\n",
       "Moweb       10517\n",
       "Name: signup_app, dtype: int64"
      ]
     },
     "execution_count": 67,
     "metadata": {},
     "output_type": "execute_result"
    }
   ],
   "source": [
    "airb.signup_app.value_counts()"
   ]
  },
  {
   "cell_type": "markdown",
   "metadata": {},
   "source": [
    "### 2.6.1 Affiliate Channel (제휴 마케팅)"
   ]
  },
  {
   "cell_type": "code",
   "execution_count": 68,
   "metadata": {
    "scrolled": true
   },
   "outputs": [
    {
     "data": {
      "text/plain": [
       "direct           181571\n",
       "sem-brand         36439\n",
       "sem-non-brand     20075\n",
       "seo               14362\n",
       "other              9547\n",
       "api                8167\n",
       "content            4118\n",
       "remarketing        1268\n",
       "Name: affiliate_channel, dtype: int64"
      ]
     },
     "execution_count": 68,
     "metadata": {},
     "output_type": "execute_result"
    }
   ],
   "source": [
    "airb.affiliate_channel.value_counts()"
   ]
  },
  {
   "cell_type": "markdown",
   "metadata": {},
   "source": [
    "### 2.6.2 Affiliate_Provider"
   ]
  },
  {
   "cell_type": "code",
   "execution_count": 69,
   "metadata": {
    "scrolled": true
   },
   "outputs": [
    {
     "data": {
      "text/plain": [
       "direct                 181270\n",
       "google                  65956\n",
       "other                   13036\n",
       "facebook                 3996\n",
       "bing                     3719\n",
       "craigslist               3475\n",
       "padmapper                 836\n",
       "vast                      830\n",
       "yahoo                     653\n",
       "facebook-open-graph       566\n",
       "gsp                       455\n",
       "meetup                    358\n",
       "email-marketing           270\n",
       "naver                      66\n",
       "baidu                      32\n",
       "yandex                     18\n",
       "wayn                        8\n",
       "daum                        3\n",
       "Name: affiliate_provider, dtype: int64"
      ]
     },
     "execution_count": 69,
     "metadata": {},
     "output_type": "execute_result"
    }
   ],
   "source": [
    "airb.affiliate_provider.value_counts()"
   ]
  },
  {
   "cell_type": "markdown",
   "metadata": {},
   "source": [
    "#### 2.6.3 Affiliate Provider Category 정리"
   ]
  },
  {
   "cell_type": "code",
   "execution_count": 68,
   "metadata": {},
   "outputs": [
    {
     "data": {
      "text/plain": [
       "direct                 181270\n",
       "google                  65956\n",
       "other                   14246\n",
       "facebook                 3996\n",
       "bing                     3719\n",
       "craigslist               3475\n",
       "padmapper                 836\n",
       "vast                      830\n",
       "yahoo                     653\n",
       "facebook-open-graph       566\n",
       "Name: affiliate_provider, dtype: int64"
      ]
     },
     "execution_count": 68,
     "metadata": {},
     "output_type": "execute_result"
    }
   ],
   "source": [
    "list_afiliate = airb.affiliate_provider.value_counts()\n",
    "df_afiliate = pd.DataFrame(list_afiliate)\n",
    "afiliate_list = df_afiliate[df_afiliate['affiliate_provider']>500].index\n",
    "afiliate_list\n",
    "airb['affiliate_provider'] = airb['affiliate_provider'].apply(lambda x : x if x in afiliate_list else 'other')\n",
    "airb.affiliate_provider.value_counts()"
   ]
  },
  {
   "cell_type": "code",
   "execution_count": 69,
   "metadata": {},
   "outputs": [
    {
     "data": {
      "text/plain": [
       "direct        181270\n",
       "google         65956\n",
       "other          14246\n",
       "facebook        4562\n",
       "bing            3719\n",
       "craigslist      3475\n",
       "padmapper        836\n",
       "vast             830\n",
       "yahoo            653\n",
       "Name: affiliate_provider, dtype: int64"
      ]
     },
     "execution_count": 69,
     "metadata": {},
     "output_type": "execute_result"
    }
   ],
   "source": [
    "# Facebook 통합\n",
    "indices = list(airb.affiliate_provider[(airb.affiliate_provider == \"facebook-open-graph\")].index)\n",
    "for index in indices:\n",
    "    airb.loc[index, 'affiliate_provider'] = \"facebook\"\n",
    "airb.affiliate_provider.value_counts()"
   ]
  },
  {
   "cell_type": "code",
   "execution_count": 70,
   "metadata": {
    "scrolled": true
   },
   "outputs": [
    {
     "data": {
      "text/plain": [
       "direct        181270\n",
       "google         65956\n",
       "other          15912\n",
       "facebook        4562\n",
       "bing            3719\n",
       "craigslist      3475\n",
       "yahoo            653\n",
       "Name: affiliate_provider, dtype: int64"
      ]
     },
     "execution_count": 70,
     "metadata": {},
     "output_type": "execute_result"
    }
   ],
   "source": [
    "indices = list(airb.affiliate_provider[(airb.affiliate_provider == \"vast\")| (airb.affiliate_provider == \"padmapper\")].index)\n",
    "for index in indices:\n",
    "    airb.loc[index, 'affiliate_provider'] = \"other\"\n",
    "airb.affiliate_provider.value_counts()"
   ]
  },
  {
   "cell_type": "code",
   "execution_count": null,
   "metadata": {},
   "outputs": [],
   "source": []
  },
  {
   "cell_type": "code",
   "execution_count": null,
   "metadata": {},
   "outputs": [],
   "source": []
  },
  {
   "cell_type": "markdown",
   "metadata": {},
   "source": [
    "### 2.7 First Device Type (첫 접속시 사용한 기기)"
   ]
  },
  {
   "cell_type": "code",
   "execution_count": 72,
   "metadata": {
    "scrolled": false
   },
   "outputs": [
    {
     "data": {
      "text/plain": [
       "Mac Desktop           106328\n",
       "Windows Desktop        86948\n",
       "iPhone                 39814\n",
       "iPad                   18036\n",
       "Other/Unknown          11167\n",
       "Android Phone           9458\n",
       "Android Tablet          2098\n",
       "Desktop (Other)         1507\n",
       "SmartPhone (Other)       191\n",
       "Name: first_device_type, dtype: int64"
      ]
     },
     "execution_count": 72,
     "metadata": {},
     "output_type": "execute_result"
    }
   ],
   "source": [
    "airb.first_device_type.value_counts()"
   ]
  },
  {
   "cell_type": "markdown",
   "metadata": {},
   "source": [
    "#### 2.7.1 Others"
   ]
  },
  {
   "cell_type": "code",
   "execution_count": 73,
   "metadata": {},
   "outputs": [
    {
     "data": {
      "text/plain": [
       "Mac Desktop        106328\n",
       "Windows Desktop     86948\n",
       "iPhone              39814\n",
       "iPad                18036\n",
       "Other/Unknown       12865\n",
       "Android Phone        9458\n",
       "Android Tablet       2098\n",
       "Name: first_device_type, dtype: int64"
      ]
     },
     "execution_count": 73,
     "metadata": {},
     "output_type": "execute_result"
    }
   ],
   "source": [
    "indices = list(airb.first_device_type[(airb.first_device_type == \"SmartPhone (Other)\") | (airb.first_device_type == \"Desktop (Other)\")].index)\n",
    "for index in indices:\n",
    "    airb.loc[index, 'first_device_type'] = \"Other/Unknown\"\n",
    "airb.first_device_type.value_counts()"
   ]
  },
  {
   "cell_type": "markdown",
   "metadata": {},
   "source": [
    "#### 2.7.2 OS별 통합 : 핸드폰과 태블릿은 OS별로 통합"
   ]
  },
  {
   "cell_type": "code",
   "execution_count": 75,
   "metadata": {
    "scrolled": true
   },
   "outputs": [
    {
     "data": {
      "text/plain": [
       "Mac Desktop        106328\n",
       "Windows Desktop     86948\n",
       "Mobile iOS          57850\n",
       "Other/Unknown       12865\n",
       "Android Phone        9458\n",
       "Android Tablet       2098\n",
       "Name: first_device_type, dtype: int64"
      ]
     },
     "execution_count": 75,
     "metadata": {},
     "output_type": "execute_result"
    }
   ],
   "source": [
    "indices = list(airb.first_device_type[(airb.first_device_type == \"iPhone\") | (airb.first_device_type == \"iPad\")].index)\n",
    "for index in indices:\n",
    "    airb.loc[index, 'first_device_type'] = \"Mobile iOS\"\n",
    "airb.first_device_type.value_counts()"
   ]
  },
  {
   "cell_type": "code",
   "execution_count": 76,
   "metadata": {},
   "outputs": [
    {
     "data": {
      "text/plain": [
       "Mac Desktop        106328\n",
       "Windows Desktop     86948\n",
       "Mobile iOS          57850\n",
       "Other/Unknown       12865\n",
       "Mobile Android      11556\n",
       "Name: first_device_type, dtype: int64"
      ]
     },
     "execution_count": 76,
     "metadata": {},
     "output_type": "execute_result"
    }
   ],
   "source": [
    "indices = list(airb.first_device_type[(airb.first_device_type == \"Android Phone\") | (airb.first_device_type == \"Android Tablet\")].index)\n",
    "for index in indices:\n",
    "    airb.loc[index, 'first_device_type'] = \"Mobile Android\"\n",
    "airb.first_device_type.value_counts()"
   ]
  },
  {
   "cell_type": "code",
   "execution_count": 77,
   "metadata": {},
   "outputs": [
    {
     "data": {
      "text/html": [
       "<div>\n",
       "<style scoped>\n",
       "    .dataframe tbody tr th:only-of-type {\n",
       "        vertical-align: middle;\n",
       "    }\n",
       "\n",
       "    .dataframe tbody tr th {\n",
       "        vertical-align: top;\n",
       "    }\n",
       "\n",
       "    .dataframe thead th {\n",
       "        text-align: right;\n",
       "    }\n",
       "</style>\n",
       "<table border=\"1\" class=\"dataframe\">\n",
       "  <thead>\n",
       "    <tr style=\"text-align: right;\">\n",
       "      <th></th>\n",
       "      <th>index</th>\n",
       "      <th>id</th>\n",
       "      <th>date_account_created</th>\n",
       "      <th>timestamp_first_active</th>\n",
       "      <th>gender</th>\n",
       "      <th>age</th>\n",
       "      <th>signup_method</th>\n",
       "      <th>signup_flow</th>\n",
       "      <th>language</th>\n",
       "      <th>affiliate_channel</th>\n",
       "      <th>...</th>\n",
       "      <th>dac_month</th>\n",
       "      <th>dac_day</th>\n",
       "      <th>dac_weekday</th>\n",
       "      <th>tfa_year</th>\n",
       "      <th>tfa_month</th>\n",
       "      <th>tfa_day</th>\n",
       "      <th>tfa_weekday</th>\n",
       "      <th>tfa_hour</th>\n",
       "      <th>gender_known</th>\n",
       "      <th>age_bkt</th>\n",
       "    </tr>\n",
       "  </thead>\n",
       "  <tbody>\n",
       "  </tbody>\n",
       "</table>\n",
       "<p>0 rows × 27 columns</p>\n",
       "</div>"
      ],
      "text/plain": [
       "Empty DataFrame\n",
       "Columns: [index, id, date_account_created, timestamp_first_active, gender, age, signup_method, signup_flow, language, affiliate_channel, affiliate_provider, first_affiliate_tracked, signup_app, first_device_type, first_browser, country_destination, dac_year, dac_month, dac_day, dac_weekday, tfa_year, tfa_month, tfa_day, tfa_weekday, tfa_hour, gender_known, age_bkt]\n",
       "Index: []\n",
       "\n",
       "[0 rows x 27 columns]"
      ]
     },
     "execution_count": 77,
     "metadata": {},
     "output_type": "execute_result"
    }
   ],
   "source": [
    "# check : Okay\n",
    "airb[airb.affiliate_provider == 'iPhone'].head()"
   ]
  },
  {
   "cell_type": "markdown",
   "metadata": {},
   "source": [
    "### 2.8 First Browser (첫 접속시 이용한 브라우저)"
   ]
  },
  {
   "cell_type": "code",
   "execution_count": 78,
   "metadata": {
    "scrolled": true
   },
   "outputs": [
    {
     "data": {
      "text/plain": [
       "Chrome                  78671\n",
       "Safari                  53302\n",
       "-unknown-               44394\n",
       "Firefox                 38665\n",
       "Mobile Safari           29636\n",
       "IE                      24744\n",
       "Chrome Mobile            3186\n",
       "Android Browser          1577\n",
       "AOL Explorer              254\n",
       "Opera                     228\n",
       "Silk                      172\n",
       "IE Mobile                 118\n",
       "BlackBerry Browser         89\n",
       "Chromium                   83\n",
       "Mobile Firefox             64\n",
       "Maxthon                    60\n",
       "Apple Mail                 45\n",
       "Sogou Explorer             43\n",
       "SiteKiosk                  27\n",
       "RockMelt                   24\n",
       "Iron                       24\n",
       "IceWeasel                  14\n",
       "Yandex.Browser             14\n",
       "Pale Moon                  13\n",
       "CometBird                  12\n",
       "SeaMonkey                  12\n",
       "Camino                      9\n",
       "Opera Mini                  8\n",
       "TenFourFox                  8\n",
       "wOSBrowser                  7\n",
       "CoolNovo                    6\n",
       "Avant Browser               4\n",
       "Opera Mobile                4\n",
       "Mozilla                     3\n",
       "Crazy Browser               2\n",
       "OmniWeb                     2\n",
       "Flock                       2\n",
       "SlimBrowser                 2\n",
       "TheWorld Browser            2\n",
       "Comodo Dragon               2\n",
       "Googlebot                   1\n",
       "Conkeror                    1\n",
       "Kindle Browser              1\n",
       "Epic                        1\n",
       "Stainless                   1\n",
       "Google Earth                1\n",
       "Arora                       1\n",
       "PS Vita browser             1\n",
       "NetNewsWire                 1\n",
       "Outlook 2007                1\n",
       "Nintendo Browser            1\n",
       "UC Browser                  1\n",
       "Palm Pre web browser        1\n",
       "IceDragon                   1\n",
       "IBrowse                     1\n",
       "Name: first_browser, dtype: int64"
      ]
     },
     "execution_count": 78,
     "metadata": {},
     "output_type": "execute_result"
    }
   ],
   "source": [
    "airb.first_browser.value_counts()"
   ]
  },
  {
   "cell_type": "code",
   "execution_count": 79,
   "metadata": {},
   "outputs": [],
   "source": [
    "list_browser = airb.first_browser.value_counts()\n",
    "df_browser = pd.DataFrame(list_browser)\n",
    "browser_list = df_browser[df_browser['first_browser']>100].index\n",
    "airb['first_browser'] = airb['first_browser'].apply(lambda x : x if x in browser_list else 'other').replace('-unknown-', 'other')"
   ]
  },
  {
   "cell_type": "code",
   "execution_count": 80,
   "metadata": {},
   "outputs": [
    {
     "data": {
      "text/plain": [
       "Chrome             78671\n",
       "Safari             53302\n",
       "other              44994\n",
       "Firefox            38665\n",
       "Mobile Safari      29636\n",
       "IE                 24744\n",
       "Chrome Mobile       3186\n",
       "Android Browser     1577\n",
       "AOL Explorer         254\n",
       "Opera                228\n",
       "Silk                 172\n",
       "IE Mobile            118\n",
       "Name: first_browser, dtype: int64"
      ]
     },
     "execution_count": 80,
     "metadata": {},
     "output_type": "execute_result"
    }
   ],
   "source": [
    "airb.first_browser.value_counts()"
   ]
  },
  {
   "cell_type": "code",
   "execution_count": 81,
   "metadata": {},
   "outputs": [
    {
     "data": {
      "text/plain": [
       "Chrome             78671\n",
       "Safari             53302\n",
       "other              45648\n",
       "Firefox            38665\n",
       "Mobile Safari      29636\n",
       "IE                 24744\n",
       "Chrome Mobile       3186\n",
       "Android Browser     1577\n",
       "IE Mobile            118\n",
       "Name: first_browser, dtype: int64"
      ]
     },
     "execution_count": 81,
     "metadata": {},
     "output_type": "execute_result"
    }
   ],
   "source": [
    "indices = list(airb.first_browser[(airb.first_browser == \"AOL Explorer\") | (airb.first_browser == \"Opera\") | (airb.first_browser == \"Silk\")].index)\n",
    "for index in indices:\n",
    "    airb.loc[index, 'first_browser'] = \"other\"\n",
    "airb.first_browser.value_counts()"
   ]
  },
  {
   "cell_type": "code",
   "execution_count": 82,
   "metadata": {
    "scrolled": true
   },
   "outputs": [
    {
     "data": {
      "text/html": [
       "<div>\n",
       "<style scoped>\n",
       "    .dataframe tbody tr th:only-of-type {\n",
       "        vertical-align: middle;\n",
       "    }\n",
       "\n",
       "    .dataframe tbody tr th {\n",
       "        vertical-align: top;\n",
       "    }\n",
       "\n",
       "    .dataframe thead th {\n",
       "        text-align: right;\n",
       "    }\n",
       "</style>\n",
       "<table border=\"1\" class=\"dataframe\">\n",
       "  <thead>\n",
       "    <tr style=\"text-align: right;\">\n",
       "      <th></th>\n",
       "      <th>index</th>\n",
       "      <th>id</th>\n",
       "      <th>date_account_created</th>\n",
       "      <th>timestamp_first_active</th>\n",
       "      <th>gender</th>\n",
       "      <th>age</th>\n",
       "      <th>signup_method</th>\n",
       "      <th>signup_flow</th>\n",
       "      <th>language</th>\n",
       "      <th>affiliate_channel</th>\n",
       "      <th>...</th>\n",
       "      <th>dac_month</th>\n",
       "      <th>dac_day</th>\n",
       "      <th>dac_weekday</th>\n",
       "      <th>tfa_year</th>\n",
       "      <th>tfa_month</th>\n",
       "      <th>tfa_day</th>\n",
       "      <th>tfa_weekday</th>\n",
       "      <th>tfa_hour</th>\n",
       "      <th>gender_known</th>\n",
       "      <th>age_bkt</th>\n",
       "    </tr>\n",
       "  </thead>\n",
       "  <tbody>\n",
       "  </tbody>\n",
       "</table>\n",
       "<p>0 rows × 27 columns</p>\n",
       "</div>"
      ],
      "text/plain": [
       "Empty DataFrame\n",
       "Columns: [index, id, date_account_created, timestamp_first_active, gender, age, signup_method, signup_flow, language, affiliate_channel, affiliate_provider, first_affiliate_tracked, signup_app, first_device_type, first_browser, country_destination, dac_year, dac_month, dac_day, dac_weekday, tfa_year, tfa_month, tfa_day, tfa_weekday, tfa_hour, gender_known, age_bkt]\n",
       "Index: []\n",
       "\n",
       "[0 rows x 27 columns]"
      ]
     },
     "execution_count": 82,
     "metadata": {},
     "output_type": "execute_result"
    }
   ],
   "source": [
    "# Check : Okay\n",
    "airb[airb.first_browser == 'Opera']"
   ]
  },
  {
   "cell_type": "code",
   "execution_count": null,
   "metadata": {},
   "outputs": [],
   "source": []
  },
  {
   "cell_type": "markdown",
   "metadata": {},
   "source": [
    "### 2.9 Language"
   ]
  },
  {
   "cell_type": "code",
   "execution_count": 83,
   "metadata": {},
   "outputs": [
    {
     "data": {
      "text/plain": [
       "en           96.367589\n",
       "zh            0.955917\n",
       "fr            0.547275\n",
       "es            0.426062\n",
       "ko            0.405013\n",
       "de            0.354567\n",
       "it            0.229725\n",
       "ru            0.184361\n",
       "ja            0.125206\n",
       "pt            0.116858\n",
       "sv            0.063873\n",
       "nl            0.048631\n",
       "tr            0.033388\n",
       "da            0.027219\n",
       "pl            0.027219\n",
       "no            0.018509\n",
       "cs            0.017783\n",
       "el            0.010887\n",
       "th            0.010162\n",
       "hu            0.009073\n",
       "id            0.008347\n",
       "fi            0.007258\n",
       "ca            0.002177\n",
       "is            0.001815\n",
       "hr            0.000726\n",
       "-unknown-     0.000363\n",
       "Name: language, dtype: float64"
      ]
     },
     "execution_count": 83,
     "metadata": {},
     "output_type": "execute_result"
    }
   ],
   "source": [
    "airb.language.value_counts(normalize=True) * 100"
   ]
  },
  {
   "cell_type": "markdown",
   "metadata": {},
   "source": [
    "##### 언어는 96%가 영어를 사용\n",
    "\n",
    "##### 그래서 카테고리를 영어와 비영어로 구분"
   ]
  },
  {
   "cell_type": "code",
   "execution_count": 84,
   "metadata": {},
   "outputs": [],
   "source": [
    "# f = (lambda gender : 0 if gender == \"-unknown-\" else 1)\n",
    "airb[\"language_en\"] = airb.language.apply(lambda lang : 0 if lang != \"en\" else 1)"
   ]
  },
  {
   "cell_type": "code",
   "execution_count": 85,
   "metadata": {},
   "outputs": [
    {
     "data": {
      "text/html": [
       "<div>\n",
       "<style scoped>\n",
       "    .dataframe tbody tr th:only-of-type {\n",
       "        vertical-align: middle;\n",
       "    }\n",
       "\n",
       "    .dataframe tbody tr th {\n",
       "        vertical-align: top;\n",
       "    }\n",
       "\n",
       "    .dataframe thead th {\n",
       "        text-align: right;\n",
       "    }\n",
       "</style>\n",
       "<table border=\"1\" class=\"dataframe\">\n",
       "  <thead>\n",
       "    <tr style=\"text-align: right;\">\n",
       "      <th></th>\n",
       "      <th>id</th>\n",
       "      <th>language</th>\n",
       "      <th>language_en</th>\n",
       "    </tr>\n",
       "  </thead>\n",
       "  <tbody>\n",
       "    <tr>\n",
       "      <th>275542</th>\n",
       "      <td>cv0na2lf5a</td>\n",
       "      <td>en</td>\n",
       "      <td>1</td>\n",
       "    </tr>\n",
       "    <tr>\n",
       "      <th>275543</th>\n",
       "      <td>zp8xfonng8</td>\n",
       "      <td>ko</td>\n",
       "      <td>0</td>\n",
       "    </tr>\n",
       "    <tr>\n",
       "      <th>275544</th>\n",
       "      <td>fa6260ziny</td>\n",
       "      <td>de</td>\n",
       "      <td>0</td>\n",
       "    </tr>\n",
       "    <tr>\n",
       "      <th>275545</th>\n",
       "      <td>87k0fy4ugm</td>\n",
       "      <td>en</td>\n",
       "      <td>1</td>\n",
       "    </tr>\n",
       "    <tr>\n",
       "      <th>275546</th>\n",
       "      <td>9uqfg8txu3</td>\n",
       "      <td>en</td>\n",
       "      <td>1</td>\n",
       "    </tr>\n",
       "  </tbody>\n",
       "</table>\n",
       "</div>"
      ],
      "text/plain": [
       "                id language  language_en\n",
       "275542  cv0na2lf5a       en            1\n",
       "275543  zp8xfonng8       ko            0\n",
       "275544  fa6260ziny       de            0\n",
       "275545  87k0fy4ugm       en            1\n",
       "275546  9uqfg8txu3       en            1"
      ]
     },
     "execution_count": 85,
     "metadata": {},
     "output_type": "execute_result"
    }
   ],
   "source": [
    "airb.filter([\"id\", \"language\", \"language_en\"]).tail()"
   ]
  },
  {
   "cell_type": "code",
   "execution_count": 86,
   "metadata": {},
   "outputs": [
    {
     "data": {
      "text/plain": [
       "1    96.367589\n",
       "0     3.632411\n",
       "Name: language_en, dtype: float64"
      ]
     },
     "execution_count": 86,
     "metadata": {},
     "output_type": "execute_result"
    }
   ],
   "source": [
    "airb.language_en.value_counts(normalize=True) * 100"
   ]
  },
  {
   "cell_type": "code",
   "execution_count": null,
   "metadata": {},
   "outputs": [],
   "source": []
  },
  {
   "cell_type": "markdown",
   "metadata": {},
   "source": [
    "#### 데이터 탐색 후 추가적인 전처리 (Pivot Table을 통해 몇개의 변수들로 그룹화 하였을때 작은 값들을 수정)"
   ]
  },
  {
   "cell_type": "code",
   "execution_count": 87,
   "metadata": {},
   "outputs": [],
   "source": [
    "indices = list(train.first_device_type[(train.first_device_type == \"Other/Unknown\") & (train.first_browser == \"Chrome Mobile\")].index)\n",
    "for index in indices:\n",
    "    train.loc[index, 'first_device_type'] = \"Mobile Android\""
   ]
  },
  {
   "cell_type": "code",
   "execution_count": 88,
   "metadata": {},
   "outputs": [],
   "source": [
    "indices = list(train.first_device_type[(train.first_device_type == \"Other/Unknown\") & (train.first_browser == \"Android Browser\")].index)\n",
    "for index in indices:\n",
    "    train.loc[index, 'first_device_type'] = \"Mobile Android\""
   ]
  },
  {
   "cell_type": "code",
   "execution_count": 89,
   "metadata": {},
   "outputs": [],
   "source": [
    "indices = list(train.first_device_type[(train.first_device_type == \"Mobile Android\") & (train.first_browser == \"Chrome\")].index)\n",
    "for index in indices:\n",
    "    train.loc[index, 'first_device_type'] = \"Chrome Mobile\""
   ]
  },
  {
   "cell_type": "code",
   "execution_count": 90,
   "metadata": {},
   "outputs": [],
   "source": [
    "indices = list(train.first_device_type[(train.affiliate_channel == \"remarketing\") & (train.affiliate_provider == \"other\")].index)\n",
    "for index in indices:\n",
    "    train.loc[index, 'affiliate_provider'] = \"google\""
   ]
  },
  {
   "cell_type": "code",
   "execution_count": 91,
   "metadata": {},
   "outputs": [],
   "source": [
    "indices = list(train.first_device_type[(train.affiliate_channel == \"sem-brand\") & (train.affiliate_provider == \"other\")].index)\n",
    "for index in indices:\n",
    "    train.loc[index, 'affiliate_provider'] = \"google\""
   ]
  },
  {
   "cell_type": "code",
   "execution_count": 92,
   "metadata": {},
   "outputs": [],
   "source": [
    "indices = list(train.first_device_type[(train.affiliate_channel == \"sem-non-brand\") & (train.affiliate_provider == \"facebook\")].index)\n",
    "for index in indices:\n",
    "    train.loc[index, 'affiliate_channel'] = \"seo\""
   ]
  },
  {
   "cell_type": "code",
   "execution_count": null,
   "metadata": {},
   "outputs": [],
   "source": []
  },
  {
   "cell_type": "markdown",
   "metadata": {},
   "source": [
    "### signup_flow"
   ]
  },
  {
   "cell_type": "code",
   "execution_count": 62,
   "metadata": {},
   "outputs": [
    {
     "data": {
      "text/plain": [
       "0     206092\n",
       "25     29834\n",
       "12     11244\n",
       "3       8822\n",
       "2       6881\n",
       "23      6408\n",
       "24      4328\n",
       "1       1047\n",
       "8        315\n",
       "6        301\n",
       "21       197\n",
       "5         36\n",
       "20        14\n",
       "16        11\n",
       "15        10\n",
       "14         4\n",
       "10         2\n",
       "4          1\n",
       "Name: signup_flow, dtype: int64"
      ]
     },
     "execution_count": 62,
     "metadata": {},
     "output_type": "execute_result"
    }
   ],
   "source": [
    "airb.signup_flow.value_counts()"
   ]
  },
  {
   "cell_type": "code",
   "execution_count": 63,
   "metadata": {
    "scrolled": false
   },
   "outputs": [
    {
     "data": {
      "text/plain": [
       "0        206092\n",
       "25        29834\n",
       "12        11244\n",
       "3          8822\n",
       "2          6881\n",
       "23         6408\n",
       "24         4328\n",
       "1          1047\n",
       "other       891\n",
       "Name: signup_flow, dtype: int64"
      ]
     },
     "execution_count": 63,
     "metadata": {},
     "output_type": "execute_result"
    }
   ],
   "source": [
    "list_signup_flow = airb.signup_flow.value_counts()\n",
    "df_signup_flow = pd.DataFrame(list_signup_flow)\n",
    "signup_flow_ls = df_signup_flow[df_signup_flow['signup_flow']>500].index\n",
    "signup_flow_ls\n",
    "airb['signup_flow'] = airb['signup_flow'].apply(lambda x : x if x in signup_flow_ls else 'other')\n",
    "airb.signup_flow.value_counts()"
   ]
  },
  {
   "cell_type": "markdown",
   "metadata": {},
   "source": [
    "## 3. Prerocessing of Sessions"
   ]
  },
  {
   "cell_type": "code",
   "execution_count": 4,
   "metadata": {},
   "outputs": [],
   "source": [
    "df_sessions = sessions.copy()"
   ]
  },
  {
   "cell_type": "code",
   "execution_count": 5,
   "metadata": {},
   "outputs": [
    {
     "data": {
      "text/plain": [
       "79626"
      ]
     },
     "execution_count": 5,
     "metadata": {},
     "output_type": "execute_result"
    }
   ],
   "source": [
    "df_sessions.action.isnull().sum()"
   ]
  },
  {
   "cell_type": "code",
   "execution_count": 6,
   "metadata": {},
   "outputs": [
    {
     "name": "stdout",
     "output_type": "stream",
     "text": [
      "Working on Session data...\n"
     ]
    }
   ],
   "source": [
    "print('Working on Session data...')\n",
    "#Filling nan with specific value ('NAN')\n",
    "df_sessions.action = df_sessions.action.fillna('NAN')\n",
    "df_sessions.action_type = df_sessions.action_type.fillna('NAN')\n",
    "df_sessions.action_detail = df_sessions.action_detail.fillna('NAN')\n",
    "df_sessions.device_type = df_sessions.device_type.fillna('NAN')"
   ]
  },
  {
   "cell_type": "code",
   "execution_count": null,
   "metadata": {},
   "outputs": [],
   "source": [
    "#Action values with low frequency are changed to 'OTHER'\n",
    "act_freq = 100  #Threshold for frequency\n",
    "act = dict(zip(*np.unique(df_sessions.action, return_counts=True)))\n",
    "df_sessions.action = df_sessions.action.apply(lambda x: 'OTHER' if act[x] < act_freq else x)"
   ]
  },
  {
   "cell_type": "code",
   "execution_count": null,
   "metadata": {},
   "outputs": [],
   "source": [
    "df_sessions.action.value_counts().sum()"
   ]
  },
  {
   "cell_type": "code",
   "execution_count": null,
   "metadata": {},
   "outputs": [],
   "source": [
    "f_act = df_sessions.action.value_counts().argsort() # 231개 \n",
    "f_act_detail = df_sessions.action_detail.value_counts().argsort() # 156\n",
    "f_act_type = df_sessions.action_type.value_counts().argsort() # 11\n",
    "f_dev_type = df_sessions.device_type.value_counts().argsort() # 14"
   ]
  },
  {
   "cell_type": "code",
   "execution_count": null,
   "metadata": {},
   "outputs": [],
   "source": [
    "dgr_sess = df_sessions.groupby(['user_id'])"
   ]
  },
  {
   "cell_type": "code",
   "execution_count": null,
   "metadata": {},
   "outputs": [],
   "source": [
    "#Loop on dgr_sess to create all the features.\n",
    "samples = []\n",
    "cont = 0\n",
    "ln = len(dgr_sess)\n",
    "\n",
    "for g in dgr_sess:\n",
    "    if cont%10000 == 0:\n",
    "        print(\"%s from %s\" %(cont, ln))\n",
    "    # 아이디 당 세션 정보\n",
    "    gr = g[1]\n",
    "    l = []\n",
    "    \n",
    "    # 해당 id \n",
    "    l.append(g[0])\n",
    "    \n",
    "    # 해당 id의 세션 row 개수 (= 해당 id 의 action 개수) \n",
    "    l.append(len(gr))\n",
    "    \n",
    "    sev = gr.secs_elapsed.fillna(0).values   #These values are used later.\n",
    "    \n",
    "    #action features\n",
    "    #(how many times each value occurs, numb of unique values, mean and std) / id\n",
    "    c_act = [0] * len(f_act)    # action 개수 만큼 0벡터 생성\n",
    "    for i,v in enumerate(gr.action.values):  \n",
    "        # one hot vector\n",
    "        # i: value count, v: name of action\n",
    "        # f_act = action unique, count \n",
    "        # one hot vector: c_act 해당 클래스 부분에 1로 표시 \n",
    "        c_act[f_act[v]] += 1\n",
    "    # c_act_uqc: 해당 id 의 unique한 action => count, count의 평균, 표준편차\n",
    "    _, c_act_uqc = np.unique(gr.action.values, return_counts=True)\n",
    "    c_act += [len(c_act_uqc), np.mean(c_act_uqc), np.std(c_act_uqc)]\n",
    "    l = l + c_act\n",
    "\n",
    "    \n",
    "    #action_detail features\n",
    "    #(how many times each value occurs, numb of unique values, mean and std)\n",
    "    c_act_detail = [0] * len(f_act_detail)\n",
    "    for i,v in enumerate(gr.action_detail.values):\n",
    "        c_act_detail[f_act_detail[v]] += 1 \n",
    "        \n",
    "    _, c_act_det_uqc = np.unique(gr.action_detail.values, return_counts=True)\n",
    "    c_act_detail += [len(c_act_det_uqc), np.mean(c_act_det_uqc), np.std(c_act_det_uqc)]\n",
    "    l = l + c_act_detail\n",
    "    \n",
    "    \n",
    "    #action_type features\n",
    "    #(how many times each value occurs, numb of unique values, mean and std\n",
    "    #+ log of the sum of secs_elapsed for each value)\n",
    "    l_act_type = [0] * len(f_act_type)\n",
    "    c_act_type = [0] * len(f_act_type)\n",
    "    for i,v in enumerate(gr.action_type.values):\n",
    "        l_act_type[f_act_type[v]] += sev[i] # 해당 action type 실행 sec. 해당 action type 클래스에 값 넣어주기  \n",
    "        c_act_type[f_act_type[v]] += 1  \n",
    "        \n",
    "    l_act_type = np.log(1 + np.array(l_act_type)).tolist()\n",
    "    _, c_act_type_uqc = np.unique(gr.action_type.values, return_counts=True)\n",
    "    c_act_type += [len(c_act_type_uqc), np.mean(c_act_type_uqc), np.std(c_act_type_uqc)]\n",
    "    l = l + c_act_type + l_act_type    \n",
    "    \n",
    "    \n",
    "    #device_type features\n",
    "    #(how many times each value occurs, numb of unique values, mean and std)\n",
    "    c_dev_type  = [0] * len(f_dev_type)\n",
    "    for i,v in enumerate(gr.device_type .values):\n",
    "        c_dev_type[f_dev_type[v]] += 1 \n",
    "    c_dev_type.append(len(np.unique(gr.device_type.values)))\n",
    "    _, c_dev_type_uqc = np.unique(gr.device_type.values, return_counts=True)\n",
    "    c_dev_type += [len(c_dev_type_uqc), np.mean(c_dev_type_uqc), np.std(c_dev_type_uqc)]        \n",
    "    l = l + c_dev_type   \n",
    "    \n",
    "\n",
    "    #secs_elapsed features        \n",
    "    l_secs = [0] * 5 \n",
    "    l_log = [0] * 15\n",
    "    if len(sev) > 0:\n",
    "        #Simple statistics about the secs_elapsed values.\n",
    "        l_secs[0] = np.log(1 + np.sum(sev))\n",
    "        l_secs[1] = np.log(1 + np.mean(sev)) \n",
    "        l_secs[2] = np.log(1 + np.std(sev))\n",
    "        l_secs[3] = np.log(1 + np.median(sev))\n",
    "        l_secs[4] = l_secs[0] / float(l[1])\n",
    "\n",
    "        # ---------------------------------------------------------------- #\n",
    "        #Values are grouped in 15 intervals. Compute the number of values\n",
    "        #in each interval.\n",
    "        log_sev = np.log(1 + sev).astype(int)\n",
    "        l_log = np.bincount(log_sev, minlength=15).tolist()                      \n",
    "    l = l + l_secs + l_log\n",
    "    \n",
    "    #The list l has the feature values of one sample.\n",
    "    samples.append(l)\n",
    "    cont += 1\n",
    "#     print(l)\n",
    "#     break\n",
    "\n",
    "# 결과적으로 for 문을 통해서 아이디 당 sessions.csv 의 action, action_type(count, log), action_detail, device_type, \n",
    "# secs_elapsed(log - sum, mean, std, median, l_secs[0] / float(l[1])) 더미 변수로 변경"
   ]
  },
  {
   "cell_type": "code",
   "execution_count": null,
   "metadata": {},
   "outputs": [],
   "source": [
    "#Creating a dataframe with the computed features    \n",
    "col_names = []    #name of the columns\n",
    "for i in range(len(samples[0])-1):\n",
    "    col_names.append('c_' + str(i)) \n",
    "col_names    "
   ]
  },
  {
   "cell_type": "code",
   "execution_count": null,
   "metadata": {},
   "outputs": [],
   "source": [
    "#preparing objects    \n",
    "samples = np.array(samples)\n",
    "samp_ar = samples[:, 1:].astype(np.float16)\n",
    "samp_id = samples[:, 0]   #The first element in obs is the id of the sample."
   ]
  },
  {
   "cell_type": "code",
   "execution_count": null,
   "metadata": {},
   "outputs": [],
   "source": [
    "#creating the dataframe        \n",
    "df_agg_sess = pd.DataFrame(samp_ar, columns=col_names)\n",
    "df_agg_sess['id'] = samp_id\n",
    "df_agg_sess.index = df_agg_sess.id"
   ]
  },
  {
   "cell_type": "code",
   "execution_count": null,
   "metadata": {},
   "outputs": [],
   "source": [
    "df_agg_sess"
   ]
  },
  {
   "cell_type": "markdown",
   "metadata": {},
   "source": [
    "sessions\n",
    "* device_type - 클래스 수 줄이기 \n",
    "     - train 디바이스와 비슷하게 줄이기\n",
    "     - "
   ]
  },
  {
   "cell_type": "markdown",
   "metadata": {},
   "source": [
    "## 4. Modeling"
   ]
  },
  {
   "cell_type": "code",
   "execution_count": null,
   "metadata": {},
   "outputs": [],
   "source": [
    "# Preprocessing\n",
    "from sklearn.preprocessing import LabelEncoder\n",
    "\n",
    "# Model\n",
    "from sklearn.discriminant_analysis import LinearDiscriminantAnalysis\n",
    "from sklearn.discriminant_analysis import QuadraticDiscriminantAnalysis\n",
    "from sklearn.naive_bayes import MultinomialNB, GaussianNB\n",
    "from sklearn.tree import DecisionTreeClassifier\n",
    "from sklearn.ensemble import RandomForestClassifier, ExtraTreesClassifier\n",
    "import xgboost as xgb\n",
    "import operator\n",
    "\n",
    "# Evaluation\n",
    "from sklearn.metrics import confusion_matrix\n",
    "from sklearn.metrics import classification_report\n",
    "from sklearn.cross_validation import cross_val_score"
   ]
  },
  {
   "cell_type": "code",
   "execution_count": null,
   "metadata": {},
   "outputs": [],
   "source": []
  },
  {
   "cell_type": "markdown",
   "metadata": {},
   "source": [
    "### 4.1 Splitting train and test"
   ]
  },
  {
   "cell_type": "code",
   "execution_count": null,
   "metadata": {},
   "outputs": [],
   "source": []
  },
  {
   "cell_type": "markdown",
   "metadata": {},
   "source": [
    "### 4.2 Feature Selection"
   ]
  },
  {
   "cell_type": "code",
   "execution_count": null,
   "metadata": {},
   "outputs": [],
   "source": [
    "# Feature 선택\n",
    "feature_names = ['signup_method', 'signup_app', 'affiliate_channel',\n",
    "                 'affiliate_provider', 'first_device_type', 'first_browser','country_destination']\n",
    "dfX0 = age_train[feature_names].copy()\n",
    "dfy0 = age_train['age_bkt'].copy()"
   ]
  },
  {
   "cell_type": "code",
   "execution_count": null,
   "metadata": {},
   "outputs": [],
   "source": [
    "# Dummy 변환\n",
    "dummies = feature_names\n",
    "for feature in dummies:\n",
    "    dummy_features = pd.get_dummies(dfX[feature], prefix=feature)\n",
    "    for dummy in dummy_features:\n",
    "        dfX[dummy] = dummy_features[dummy]\n",
    "    dfX = dfX.drop([feature], 1)"
   ]
  },
  {
   "cell_type": "code",
   "execution_count": null,
   "metadata": {},
   "outputs": [],
   "source": [
    "# Check dummy transform\n",
    "dfX.head()"
   ]
  },
  {
   "cell_type": "code",
   "execution_count": null,
   "metadata": {},
   "outputs": [],
   "source": [
    "# 종속변수 Label Encoder\n",
    "dfy = pd.DataFrame(LabelEncoder().fit_transform(dfy), index=dfy.index)\n",
    "dfy.T"
   ]
  },
  {
   "cell_type": "code",
   "execution_count": null,
   "metadata": {},
   "outputs": [],
   "source": []
  },
  {
   "cell_type": "markdown",
   "metadata": {},
   "source": [
    "### Decision Tree"
   ]
  },
  {
   "cell_type": "code",
   "execution_count": null,
   "metadata": {},
   "outputs": [],
   "source": [
    "model = DecisionTreeClassifier(criterion='entropy', max_depth=30, min_samples_leaf=1).fit(dfX, dfy2)"
   ]
  },
  {
   "cell_type": "code",
   "execution_count": null,
   "metadata": {},
   "outputs": [],
   "source": [
    "print(classification_report(dfy, model.predict(dfX)))"
   ]
  },
  {
   "cell_type": "code",
   "execution_count": null,
   "metadata": {},
   "outputs": [],
   "source": [
    "# Tree 그리기\n",
    "command_buf = io.StringIO() \n",
    "export_graphviz(model, out_file=command_buf) \n",
    "graph = pydot.graph_from_dot_data(command_buf.getvalue())[0] \n",
    "image = graph.create_png()\n",
    "#Image(image)\n",
    "# newImg1 = pimg.new('RGB', (512,512))\n",
    "# newImg1.pimg.save(\"img1.png\")"
   ]
  },
  {
   "cell_type": "code",
   "execution_count": null,
   "metadata": {},
   "outputs": [],
   "source": []
  },
  {
   "cell_type": "markdown",
   "metadata": {},
   "source": [
    "### Naive Bayes"
   ]
  },
  {
   "cell_type": "code",
   "execution_count": null,
   "metadata": {},
   "outputs": [],
   "source": [
    "model_mult = MultinomialNB().fit(dfX, dfy)"
   ]
  },
  {
   "cell_type": "code",
   "execution_count": null,
   "metadata": {},
   "outputs": [],
   "source": [
    "print(classification_report(dfy, model_mult.predict(dfX)))"
   ]
  },
  {
   "cell_type": "code",
   "execution_count": null,
   "metadata": {},
   "outputs": [],
   "source": []
  },
  {
   "cell_type": "markdown",
   "metadata": {},
   "source": [
    "### Random Forest"
   ]
  },
  {
   "cell_type": "code",
   "execution_count": null,
   "metadata": {},
   "outputs": [],
   "source": [
    "n_estimators = 100 # 생성될 트리 갯수\n",
    "model_rf = RandomForestClassifier(max_depth=100, n_estimators=n_estimators).fit(dfX, dfy)"
   ]
  },
  {
   "cell_type": "code",
   "execution_count": null,
   "metadata": {},
   "outputs": [],
   "source": [
    "print(classification_report(dfy, model_rf.predict(dfX)))"
   ]
  },
  {
   "cell_type": "code",
   "execution_count": null,
   "metadata": {},
   "outputs": [],
   "source": [
    "# 중요 Feature\n",
    "importances = model_rf.feature_importances_\n",
    "\n",
    "std = np.std([model_rf.feature_importances_ for tree in model_rf.estimators_], axis=0)\n",
    "indices = np.argsort(importances)[::-1]\n",
    "\n",
    "print(\"Feature ranking:\")\n",
    "for f in range(dfX.shape[1]):\n",
    "    print(\"%d. feature %d (%f)\" % (f + 1, indices[f], importances[indices[f]]))"
   ]
  },
  {
   "cell_type": "code",
   "execution_count": null,
   "metadata": {},
   "outputs": [],
   "source": []
  },
  {
   "cell_type": "markdown",
   "metadata": {},
   "source": [
    "### XG Boost"
   ]
  },
  {
   "cell_type": "code",
   "execution_count": null,
   "metadata": {},
   "outputs": [],
   "source": [
    "labels = airb['country_destination'].values\n",
    "n_labels = len(set(labels))\n",
    "n_test = dfX.shape[0]"
   ]
  },
  {
   "cell_type": "code",
   "execution_count": null,
   "metadata": {},
   "outputs": [],
   "source": [
    "params = {\n",
    "    'objective': 'multi:softprob',\n",
    "    'eval_metric': 'merror',\n",
    "    'num_class': n_labels,\n",
    "    'eta': 0.3,\n",
    "    'max_depth': 6,\n",
    "    'subsample': 0.5,\n",
    "    'colsample_bytree': 0.3,\n",
    "    'silent': 1,\n",
    "    'seed': 123\n",
    "}\n",
    "\n",
    "num_boost_round = 50\n",
    "\n",
    "dtrain = xgb.DMatrix(dfX, dfy2)\n",
    "res = xgb.cv(params, dtrain, num_boost_round=num_boost_round, nfold=5,\n",
    "             callbacks=[xgb.callback.print_evaluation(show_stdv=True),\n",
    "                        xgb.callback.early_stop(1)])"
   ]
  },
  {
   "cell_type": "code",
   "execution_count": null,
   "metadata": {},
   "outputs": [],
   "source": [
    "clf = xgb.train(params=params, dtrain=dtrain, num_boost_round=num_boost_round)"
   ]
  },
  {
   "cell_type": "code",
   "execution_count": null,
   "metadata": {},
   "outputs": [],
   "source": [
    "importance = clf.get_fscore()\n",
    "importance_df = pd.DataFrame(\n",
    "    sorted(importance.items(), key=operator.itemgetter(1)),\n",
    "    columns=['feature', 'fscore']\n",
    ")\n",
    "importance_df = importance_df.iloc[-20:, :]"
   ]
  },
  {
   "cell_type": "code",
   "execution_count": null,
   "metadata": {},
   "outputs": [],
   "source": [
    "plt.figure()\n",
    "importance_df.plot(kind='barh', x='feature', y='fscore',\n",
    "                   legend=False, figsize=(30, 12))\n",
    "plt.title('XGBoost Feature Importance')\n",
    "plt.xlabel('relative importance')\n",
    "plt.gcf().savefig('feature_importance.png')"
   ]
  },
  {
   "cell_type": "code",
   "execution_count": null,
   "metadata": {},
   "outputs": [],
   "source": [
    "ids = []  #list of ids\n",
    "cts = []  #list of countries\n",
    "for i in range(len(id_test)):\n",
    "    idx = id_test[i]\n",
    "    ids += [idx] * 5\n",
    "    cts += le.inverse_transform(np.argsort(y_pred[i])[::-1])[:5].tolist()\n",
    "\n",
    "#Generate submission\n",
    "sub = pd.DataFrame(np.column_stack((ids, cts)), columns=['id', 'country'])\n",
    "sub.to_csv('airbin-sub1.csv',index=False)"
   ]
  }
 ],
 "metadata": {
  "kernelspec": {
   "display_name": "Python 3",
   "language": "python",
   "name": "python3"
  },
  "language_info": {
   "codemirror_mode": {
    "name": "ipython",
    "version": 3
   },
   "file_extension": ".py",
   "mimetype": "text/x-python",
   "name": "python",
   "nbconvert_exporter": "python",
   "pygments_lexer": "ipython3",
   "version": "3.6.4"
  }
 },
 "nbformat": 4,
 "nbformat_minor": 2
}
